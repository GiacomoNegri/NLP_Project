{
 "cells": [
  {
   "cell_type": "code",
   "execution_count": null,
   "metadata": {
    "id": "JdQU-TBNtbGC"
   },
   "outputs": [],
   "source": [
    "pip install transformers sentence-transformers umap-learn hdbscan torch tqdm rapidfuzz"
   ]
  },
  {
   "cell_type": "code",
   "execution_count": 3,
   "metadata": {
    "id": "OoZjF7tVb18L"
   },
   "outputs": [],
   "source": [
    "import re\n",
    "\n",
    "import numpy as np\n",
    "import pandas as pd\n",
    "\n",
    "import matplotlib.pyplot as plt\n",
    "import seaborn as sns\n",
    "\n",
    "import umap.umap_ as umap\n",
    "from sentence_transformers import SentenceTransformer\n",
    "import nltk\n",
    "\n",
    "from rapidfuzz import process\n",
    "from tqdm import tqdm"
   ]
  },
  {
   "cell_type": "markdown",
   "metadata": {
    "id": "cYOKgHb7fpVh"
   },
   "source": [
    "# Importing the datasets\n"
   ]
  },
  {
   "cell_type": "code",
   "execution_count": 4,
   "metadata": {
    "id": "HkbtSXtYoQ7p"
   },
   "outputs": [],
   "source": [
    "full_dataset = pd.read_csv('../datasets/ds_verbs.csv')"
   ]
  },
  {
   "cell_type": "code",
   "execution_count": 5,
   "metadata": {
    "colab": {
     "base_uri": "https://localhost:8080/"
    },
    "executionInfo": {
     "elapsed": 911,
     "status": "ok",
     "timestamp": 1746001636404,
     "user": {
      "displayName": "Matteo Omizzolo",
      "userId": "08280372081355066121"
     },
     "user_tz": -120
    },
    "id": "_zNWlDmyqFst",
    "outputId": "d6666160-dbf5-4ae6-d0d6-8d05d3173093"
   },
   "outputs": [
    {
     "name": "stdout",
     "output_type": "stream",
     "text": [
      "Shape: (25758, 18)\n"
     ]
    },
    {
     "data": {
      "text/html": [
       "<div>\n",
       "<style scoped>\n",
       "    .dataframe tbody tr th:only-of-type {\n",
       "        vertical-align: middle;\n",
       "    }\n",
       "\n",
       "    .dataframe tbody tr th {\n",
       "        vertical-align: top;\n",
       "    }\n",
       "\n",
       "    .dataframe thead th {\n",
       "        text-align: right;\n",
       "    }\n",
       "</style>\n",
       "<table border=\"1\" class=\"dataframe\">\n",
       "  <thead>\n",
       "    <tr style=\"text-align: right;\">\n",
       "      <th></th>\n",
       "      <th>title</th>\n",
       "      <th>ingredients</th>\n",
       "      <th>directions</th>\n",
       "      <th>link</th>\n",
       "      <th>source</th>\n",
       "      <th>NER</th>\n",
       "      <th>NER_list</th>\n",
       "      <th>NER_len</th>\n",
       "      <th>directions_len</th>\n",
       "      <th>title_lower</th>\n",
       "      <th>NER_clean</th>\n",
       "      <th>verbs</th>\n",
       "      <th>lemmed_verbs</th>\n",
       "      <th>filtered_verbs</th>\n",
       "      <th>set_verbs</th>\n",
       "      <th>clean_direction</th>\n",
       "      <th>pairs</th>\n",
       "      <th>pairs_set</th>\n",
       "    </tr>\n",
       "  </thead>\n",
       "  <tbody>\n",
       "    <tr>\n",
       "      <th>0</th>\n",
       "      <td>\" Bar\" Cheese</td>\n",
       "      <td>[\"32 ounces Velveeta cheese (regular)\", \"1 1/2...</td>\n",
       "      <td>[\"In a large sauce pan over low heat, melt the...</td>\n",
       "      <td>www.food.com/recipe/bar-cheese-42151</td>\n",
       "      <td>Gathered</td>\n",
       "      <td>[\"Velveeta cheese\", \"mayonnaise\", \"horseradish...</td>\n",
       "      <td>[velveeta cheese, mayonnaise, horseradish, tab...</td>\n",
       "      <td>5</td>\n",
       "      <td>368</td>\n",
       "      <td>\" bar\" cheese</td>\n",
       "      <td>[velveeta cheese, mayonnaise, horseradish, tab...</td>\n",
       "      <td>[pan, add, stirring, add, stirring, cool, refr...</td>\n",
       "      <td>[pan, add, stir, add, stir, cool, refrigerate]</td>\n",
       "      <td>[pan, add, stir, add, stir, cool, refrigerate]</td>\n",
       "      <td>[refrigerate, cool, pan, stir, add]</td>\n",
       "      <td>large sauce pan low heat melt velveeta add jar...</td>\n",
       "      <td>[add horseradish, add mayo, add worcestershire...</td>\n",
       "      <td>[refrigerate choice, add horseradish, add worc...</td>\n",
       "    </tr>\n",
       "    <tr>\n",
       "      <th>1</th>\n",
       "      <td>\" Barber's\" Chewy Vanilla &amp; Salted Butter Toffee</td>\n",
       "      <td>[\"2 14 cups icing sugar\", \"12 cup milk\", \"14 c...</td>\n",
       "      <td>[\"Butter a loaf pan.\", \"In a pot,combine icing...</td>\n",
       "      <td>www.food.com/recipe/barbers-chewy-vanilla-salt...</td>\n",
       "      <td>Recipes1M</td>\n",
       "      <td>[\"icing sugar\", \"milk\", \"corn syrup\", \"vanilla...</td>\n",
       "      <td>[icing sugar, milk, corn syrup, vanilla bean, ...</td>\n",
       "      <td>5</td>\n",
       "      <td>557</td>\n",
       "      <td>\" barber's\" chewy vanilla &amp; salted butter toffee</td>\n",
       "      <td>[icing sugar, milk, corn syrup, vanilla bean, ...</td>\n",
       "      <td>[pot, stirring, reduce, remove, stirring, reac...</td>\n",
       "      <td>[pot, stir, reduce, remove, stir, reach, pour,...</td>\n",
       "      <td>[pot, stir, reduce, remove, stir, reach, pour,...</td>\n",
       "      <td>[cut, remove, reach, stir, reduce, pot, pour]</td>\n",
       "      <td>butter loaf pan pot combine icing sugar milk c...</td>\n",
       "      <td>[remove vanilla, stir butter]</td>\n",
       "      <td>[stir butter, remove vanilla]</td>\n",
       "    </tr>\n",
       "    <tr>\n",
       "      <th>2</th>\n",
       "      <td>\" Denauseating\" With Ginger Tea</td>\n",
       "      <td>[\"1 1/2 cups water\", \"1/2 teaspoon of crushed ...</td>\n",
       "      <td>[\"Bring water to boil with crushed ginger in i...</td>\n",
       "      <td>www.food.com/recipe/denauseating-with-ginger-t...</td>\n",
       "      <td>Gathered</td>\n",
       "      <td>[\"water\", \"ginger\", \"honey\", \"milk\"]</td>\n",
       "      <td>[water, ginger, honey, milk]</td>\n",
       "      <td>4</td>\n",
       "      <td>239</td>\n",
       "      <td>\" denauseating\" with ginger tea</td>\n",
       "      <td>[water, ginger, honey, milk]</td>\n",
       "      <td>[crushed, let, medium, strain, add, add, want]</td>\n",
       "      <td>[crush, let, medium, strain, add, add, want]</td>\n",
       "      <td>[crush, let, medium, strain, add, add, want]</td>\n",
       "      <td>[let, strain, want, crush, add, medium]</td>\n",
       "      <td>bring water boil crushed ginger let simmer min...</td>\n",
       "      <td>[crush ginger, add tea, add milk]</td>\n",
       "      <td>[crush ginger, add milk, add tea]</td>\n",
       "    </tr>\n",
       "    <tr>\n",
       "      <th>3</th>\n",
       "      <td>\" Dunkin Donuts \" Oreo Coffee Coolatta</td>\n",
       "      <td>[\"16 Oreo's - crushed with few ones set sdide\"...</td>\n",
       "      <td>[\"Add all your ice cubes into the blender.\", \"...</td>\n",
       "      <td>cookpad.com/us/recipes/483003-dunkin-donuts-or...</td>\n",
       "      <td>Recipes1M</td>\n",
       "      <td>[\"coffee\", \"heavy cream\", \"chocolate syrup\", \"...</td>\n",
       "      <td>[coffee, heavy cream, chocolate syrup, sugar]</td>\n",
       "      <td>4</td>\n",
       "      <td>503</td>\n",
       "      <td>\" dunkin donuts \" oreo coffee coolatta</td>\n",
       "      <td>[coffee, heavy cream, chocolate syrup, sugar]</td>\n",
       "      <td>[add, blender, give, using, blend, give, want,...</td>\n",
       "      <td>[add, blender, give, use, blend, give, want, g...</td>\n",
       "      <td>[add, blender, give, use, blend, give, want, g...</td>\n",
       "      <td>[get, give, blend, use, make, want, blender, add]</td>\n",
       "      <td>add ice cubes blender pour cup coffee give liq...</td>\n",
       "      <td>[add cubes, give liquid, want coffee, blend co...</td>\n",
       "      <td>[want coffee, blend coffee, add coffee, give l...</td>\n",
       "    </tr>\n",
       "    <tr>\n",
       "      <th>4</th>\n",
       "      <td>\" German\" Barbecued Carrots</td>\n",
       "      <td>[\"1 lb carrot, peeled and sliced\", \"6 slices b...</td>\n",
       "      <td>[\"Preheat oven to 350F.\", \"Cook bacon until cr...</td>\n",
       "      <td>www.food.com/recipe/german-barbecued-carrots-1...</td>\n",
       "      <td>Recipes1M</td>\n",
       "      <td>[\"carrot\", \"bacon\", \"tomato soup\", \"sugar\"]</td>\n",
       "      <td>[carrot, bacon, tomato soup, sugar]</td>\n",
       "      <td>4</td>\n",
       "      <td>256</td>\n",
       "      <td>\" german\" barbecued carrots</td>\n",
       "      <td>[carrot, bacon, tomato soup, sugar]</td>\n",
       "      <td>[cook, peel, place, baking, add, bake, eat]</td>\n",
       "      <td>[cook, peel, place, bake, add, bake, eat]</td>\n",
       "      <td>[cook, peel, place, bake, add, bake, eat]</td>\n",
       "      <td>[eat, place, bake, peel, cook, add]</td>\n",
       "      <td>preheat oven cook bacon crisp drain grease cru...</td>\n",
       "      <td>[cook bacon, peel carrots, add tomato]</td>\n",
       "      <td>[peel carrots, add tomato, cook bacon]</td>\n",
       "    </tr>\n",
       "  </tbody>\n",
       "</table>\n",
       "</div>"
      ],
      "text/plain": [
       "                                              title  \\\n",
       "0                                     \" Bar\" Cheese   \n",
       "1  \" Barber's\" Chewy Vanilla & Salted Butter Toffee   \n",
       "2                   \" Denauseating\" With Ginger Tea   \n",
       "3            \" Dunkin Donuts \" Oreo Coffee Coolatta   \n",
       "4                       \" German\" Barbecued Carrots   \n",
       "\n",
       "                                         ingredients  \\\n",
       "0  [\"32 ounces Velveeta cheese (regular)\", \"1 1/2...   \n",
       "1  [\"2 14 cups icing sugar\", \"12 cup milk\", \"14 c...   \n",
       "2  [\"1 1/2 cups water\", \"1/2 teaspoon of crushed ...   \n",
       "3  [\"16 Oreo's - crushed with few ones set sdide\"...   \n",
       "4  [\"1 lb carrot, peeled and sliced\", \"6 slices b...   \n",
       "\n",
       "                                          directions  \\\n",
       "0  [\"In a large sauce pan over low heat, melt the...   \n",
       "1  [\"Butter a loaf pan.\", \"In a pot,combine icing...   \n",
       "2  [\"Bring water to boil with crushed ginger in i...   \n",
       "3  [\"Add all your ice cubes into the blender.\", \"...   \n",
       "4  [\"Preheat oven to 350F.\", \"Cook bacon until cr...   \n",
       "\n",
       "                                                link     source  \\\n",
       "0               www.food.com/recipe/bar-cheese-42151   Gathered   \n",
       "1  www.food.com/recipe/barbers-chewy-vanilla-salt...  Recipes1M   \n",
       "2  www.food.com/recipe/denauseating-with-ginger-t...   Gathered   \n",
       "3  cookpad.com/us/recipes/483003-dunkin-donuts-or...  Recipes1M   \n",
       "4  www.food.com/recipe/german-barbecued-carrots-1...  Recipes1M   \n",
       "\n",
       "                                                 NER  \\\n",
       "0  [\"Velveeta cheese\", \"mayonnaise\", \"horseradish...   \n",
       "1  [\"icing sugar\", \"milk\", \"corn syrup\", \"vanilla...   \n",
       "2               [\"water\", \"ginger\", \"honey\", \"milk\"]   \n",
       "3  [\"coffee\", \"heavy cream\", \"chocolate syrup\", \"...   \n",
       "4        [\"carrot\", \"bacon\", \"tomato soup\", \"sugar\"]   \n",
       "\n",
       "                                            NER_list  NER_len  directions_len  \\\n",
       "0  [velveeta cheese, mayonnaise, horseradish, tab...        5             368   \n",
       "1  [icing sugar, milk, corn syrup, vanilla bean, ...        5             557   \n",
       "2                       [water, ginger, honey, milk]        4             239   \n",
       "3      [coffee, heavy cream, chocolate syrup, sugar]        4             503   \n",
       "4                [carrot, bacon, tomato soup, sugar]        4             256   \n",
       "\n",
       "                                        title_lower  \\\n",
       "0                                     \" bar\" cheese   \n",
       "1  \" barber's\" chewy vanilla & salted butter toffee   \n",
       "2                   \" denauseating\" with ginger tea   \n",
       "3            \" dunkin donuts \" oreo coffee coolatta   \n",
       "4                       \" german\" barbecued carrots   \n",
       "\n",
       "                                           NER_clean  \\\n",
       "0  [velveeta cheese, mayonnaise, horseradish, tab...   \n",
       "1  [icing sugar, milk, corn syrup, vanilla bean, ...   \n",
       "2                       [water, ginger, honey, milk]   \n",
       "3      [coffee, heavy cream, chocolate syrup, sugar]   \n",
       "4                [carrot, bacon, tomato soup, sugar]   \n",
       "\n",
       "                                               verbs  \\\n",
       "0  [pan, add, stirring, add, stirring, cool, refr...   \n",
       "1  [pot, stirring, reduce, remove, stirring, reac...   \n",
       "2     [crushed, let, medium, strain, add, add, want]   \n",
       "3  [add, blender, give, using, blend, give, want,...   \n",
       "4        [cook, peel, place, baking, add, bake, eat]   \n",
       "\n",
       "                                        lemmed_verbs  \\\n",
       "0     [pan, add, stir, add, stir, cool, refrigerate]   \n",
       "1  [pot, stir, reduce, remove, stir, reach, pour,...   \n",
       "2       [crush, let, medium, strain, add, add, want]   \n",
       "3  [add, blender, give, use, blend, give, want, g...   \n",
       "4          [cook, peel, place, bake, add, bake, eat]   \n",
       "\n",
       "                                      filtered_verbs  \\\n",
       "0     [pan, add, stir, add, stir, cool, refrigerate]   \n",
       "1  [pot, stir, reduce, remove, stir, reach, pour,...   \n",
       "2       [crush, let, medium, strain, add, add, want]   \n",
       "3  [add, blender, give, use, blend, give, want, g...   \n",
       "4          [cook, peel, place, bake, add, bake, eat]   \n",
       "\n",
       "                                           set_verbs  \\\n",
       "0                [refrigerate, cool, pan, stir, add]   \n",
       "1      [cut, remove, reach, stir, reduce, pot, pour]   \n",
       "2            [let, strain, want, crush, add, medium]   \n",
       "3  [get, give, blend, use, make, want, blender, add]   \n",
       "4                [eat, place, bake, peel, cook, add]   \n",
       "\n",
       "                                     clean_direction  \\\n",
       "0  large sauce pan low heat melt velveeta add jar...   \n",
       "1  butter loaf pan pot combine icing sugar milk c...   \n",
       "2  bring water boil crushed ginger let simmer min...   \n",
       "3  add ice cubes blender pour cup coffee give liq...   \n",
       "4  preheat oven cook bacon crisp drain grease cru...   \n",
       "\n",
       "                                               pairs  \\\n",
       "0  [add horseradish, add mayo, add worcestershire...   \n",
       "1                      [remove vanilla, stir butter]   \n",
       "2                  [crush ginger, add tea, add milk]   \n",
       "3  [add cubes, give liquid, want coffee, blend co...   \n",
       "4             [cook bacon, peel carrots, add tomato]   \n",
       "\n",
       "                                           pairs_set  \n",
       "0  [refrigerate choice, add horseradish, add worc...  \n",
       "1                      [stir butter, remove vanilla]  \n",
       "2                  [crush ginger, add milk, add tea]  \n",
       "3  [want coffee, blend coffee, add coffee, give l...  \n",
       "4             [peel carrots, add tomato, cook bacon]  "
      ]
     },
     "execution_count": 5,
     "metadata": {},
     "output_type": "execute_result"
    }
   ],
   "source": [
    "print(f'Shape: {full_dataset.shape}')\n",
    "full_dataset.head(5)"
   ]
  },
  {
   "cell_type": "markdown",
   "metadata": {
    "id": "VJ0PNe5I8syO"
   },
   "source": [
    "# Preprocessing ingredients"
   ]
  },
  {
   "cell_type": "markdown",
   "metadata": {
    "id": "0reIc5rJ5H7g"
   },
   "source": [
    "Using RapidFuzz’s extractOne fuzzy‐matching function with a 90% similarity threshold, build a mapping from each raw token to its chosen canonical representative"
   ]
  },
  {
   "cell_type": "code",
   "execution_count": null,
   "metadata": {
    "id": "nZuXBkc5Y2-S"
   },
   "outputs": [],
   "source": [
    "all_cleaned_ings = set()\n",
    "for entry in tqdm(full_dataset[\"NER_clean\"], desc=\"Gathering unique ingredients\"):\n",
    "    if isinstance(entry, (list, np.ndarray)):\n",
    "        parts = entry\n",
    "    elif isinstance(entry, str):\n",
    "        parts = entry.split(\",\")\n",
    "    else:\n",
    "        continue\n",
    "\n",
    "    for part in parts:\n",
    "        ing = part.strip()\n",
    "        if ing:\n",
    "            all_cleaned_ings.add(ing)\n",
    "\n",
    "all_cleaned_ings = list(all_cleaned_ings)\n",
    "print(f\"Total unique cleaned ingredients: {len(all_cleaned_ings)}\")"
   ]
  },
  {
   "cell_type": "code",
   "execution_count": null,
   "metadata": {
    "id": "egEdtRCNZDKL"
   },
   "outputs": [],
   "source": [
    "# 2. Build the canonical mapping using fuzzy matching:\n",
    "def build_canonical_dict(all_ingredients, threshold=90):\n",
    "    canonical_set = set()\n",
    "    ing_to_canonical = {}\n",
    "    for ing in tqdm(all_ingredients, desc=\"Building canonical dictionary\"):\n",
    "        if not canonical_set:\n",
    "            canonical_set.add(ing)\n",
    "            ing_to_canonical[ing] = ing\n",
    "        else:\n",
    "            best_match, score, _ = process.extractOne(ing, list(canonical_set))\n",
    "            if score >= threshold:\n",
    "                ing_to_canonical[ing] = best_match\n",
    "            else:\n",
    "                canonical_set.add(ing)\n",
    "                ing_to_canonical[ing] = ing\n",
    "    return ing_to_canonical, canonical_set\n",
    "\n",
    "ing_to_canonical, canonical_set = build_canonical_dict(all_cleaned_ings, threshold=90)\n",
    "print(f\"Total unique canonical ingredients: {len(canonical_set)}\")"
   ]
  },
  {
   "cell_type": "code",
   "execution_count": null,
   "metadata": {
    "id": "hB5RwW-_ZHRf"
   },
   "outputs": [],
   "source": [
    "def unify_ingredient_entry(entry, ing_map):\n",
    "    if isinstance(entry, (list, np.ndarray)):\n",
    "        parts = entry\n",
    "    elif isinstance(entry, str):\n",
    "        parts = entry.split(\",\")\n",
    "    else:\n",
    "        return entry\n",
    "\n",
    "    unified = []\n",
    "    for part in parts:\n",
    "        ing = part.strip()\n",
    "        if ing:\n",
    "            unified.append(ing_map.get(ing, ing))\n",
    "    return unified\n",
    "\n",
    "full_dataset[\"NER_unified\"] = full_dataset[\"NER_clean\"].progress_apply(\n",
    "    lambda e: unify_ingredient_entry(e, ing_to_canonical)\n",
    ")"
   ]
  },
  {
   "cell_type": "code",
   "execution_count": null,
   "metadata": {
    "collapsed": true,
    "id": "uet9osRxrvN7",
    "jupyter": {
     "outputs_hidden": true
    }
   },
   "outputs": [],
   "source": [
    "inverted_dict = {}\n",
    "for raw_ing, canonical_ing in ing_to_canonical.items():\n",
    "    if canonical_ing not in inverted_dict:\n",
    "        inverted_dict[canonical_ing] = []\n",
    "    inverted_dict[canonical_ing].append(raw_ing)\n",
    "\n",
    "for canonical, raw_list in inverted_dict.items():\n",
    "    print(f\"{canonical}: {raw_list}\")"
   ]
  },
  {
   "cell_type": "code",
   "execution_count": null,
   "metadata": {
    "id": "0Wfqlq7E3Usq"
   },
   "outputs": [],
   "source": [
    "full_dataset.to_csv('/content/drive/MyDrive/NLP_Fanta_Projactt/RecipeNLG/DATASET/ingr_preprocessed.csv', index=False)"
   ]
  },
  {
   "cell_type": "markdown",
   "metadata": {
    "id": "wPFxMS1l7fxg"
   },
   "source": [
    "# Embeddings"
   ]
  },
  {
   "cell_type": "markdown",
   "metadata": {
    "id": "Rx9zk9O51Ant"
   },
   "source": [
    "## Embeddings Ingredients"
   ]
  },
  {
   "cell_type": "code",
   "execution_count": null,
   "metadata": {
    "id": "givgyxmGwbAX"
   },
   "outputs": [],
   "source": [
    "from sklearn.feature_extraction.text import TfidfVectorizer\n",
    "from sentence_transformers import SentenceTransformer"
   ]
  },
  {
   "cell_type": "code",
   "execution_count": null,
   "metadata": {
    "id": "VTvOwihXwd0P"
   },
   "outputs": [],
   "source": [
    "full_dataset[\"ingredient_str\"] = full_dataset[\"NER_unified\"].apply(\n",
    "    lambda lst: \", \".join(lst) if isinstance(lst, (list, np.ndarray)) else lst\n",
    ")\n",
    "\n",
    "ingredient_docs = full_dataset[\"ingredient_str\"].tolist()"
   ]
  },
  {
   "cell_type": "markdown",
   "metadata": {
    "id": "AlZDhwmT5-Yl"
   },
   "source": [
    "TF‑IDF assigns low weights to common pairs (salt, water) and higher weights to rarer items (saffron, miso). Next, we load the all‑MiniLM‑L6‑v2 SentenceTransformer and pre‑compute an embedding for each token that survives TF‑IDF. For every recipe we look up the TF‑IDF score of each token, retrieve its BERT embedding, and take a weighted average. The result is a single 384‑dimensional vector per recipe (ingredient_embeddings) that captures both the semantic meaning of each ingredient and its relative distinctiveness within the corpus.\n",
    "\n",
    "\n",
    "\n",
    "\n",
    "\n",
    "\n"
   ]
  },
  {
   "cell_type": "markdown",
   "metadata": {
    "id": "pJa4j04twrFX"
   },
   "source": [
    "### TF_IDF"
   ]
  },
  {
   "cell_type": "code",
   "execution_count": null,
   "metadata": {
    "id": "Vthkg7R3wlL6"
   },
   "outputs": [],
   "source": [
    "def comma_tokenizer(text):\n",
    "    return [token.strip() for token in text.split(\",\") if token.strip()]"
   ]
  },
  {
   "cell_type": "code",
   "execution_count": null,
   "metadata": {
    "colab": {
     "base_uri": "https://localhost:8080/"
    },
    "executionInfo": {
     "elapsed": 403,
     "status": "ok",
     "timestamp": 1745997134463,
     "user": {
      "displayName": "Matteo Omizzolo",
      "userId": "08280372081355066121"
     },
     "user_tz": -120
    },
    "id": "lZML7p0gwp1Y",
    "outputId": "676c3446-7038-4a95-9db6-e55afe5b61a4"
   },
   "outputs": [
    {
     "name": "stderr",
     "output_type": "stream",
     "text": [
      "/usr/local/lib/python3.11/dist-packages/sklearn/feature_extraction/text.py:517: UserWarning: The parameter 'token_pattern' will not be used since 'tokenizer' is not None'\n",
      "  warnings.warn(\n"
     ]
    }
   ],
   "source": [
    "vectorizer = TfidfVectorizer(\n",
    "    tokenizer=comma_tokenizer,\n",
    "    min_df=2,\n",
    "    max_df=0.85,\n",
    "    ngram_range=(1, 1),\n",
    "    norm='l2',\n",
    "    use_idf=True,\n",
    "    smooth_idf=True,\n",
    "    sublinear_tf=False\n",
    ")\n",
    "\n",
    "tfidf_matrix = vectorizer.fit_transform(ingredient_docs)\n",
    "vocab = vectorizer.get_feature_names_out()\n",
    "vocab_set = set(vocab)"
   ]
  },
  {
   "cell_type": "markdown",
   "metadata": {
    "id": "sk76BnP3wtNj"
   },
   "source": [
    "### BERT"
   ]
  },
  {
   "cell_type": "code",
   "execution_count": null,
   "metadata": {
    "colab": {
     "base_uri": "https://localhost:8080/"
    },
    "collapsed": true,
    "executionInfo": {
     "elapsed": 10910,
     "status": "ok",
     "timestamp": 1746001660093,
     "user": {
      "displayName": "Matteo Omizzolo",
      "userId": "08280372081355066121"
     },
     "user_tz": -120
    },
    "id": "ATnzbsk7wwNa",
    "jupyter": {
     "outputs_hidden": true
    },
    "outputId": "2dd9a77c-236b-46c0-c245-ec687e581dda"
   },
   "outputs": [
    {
     "name": "stderr",
     "output_type": "stream",
     "text": [
      "/usr/local/lib/python3.11/dist-packages/huggingface_hub/utils/_auth.py:94: UserWarning: \n",
      "The secret `HF_TOKEN` does not exist in your Colab secrets.\n",
      "To authenticate with the Hugging Face Hub, create a token in your settings tab (https://huggingface.co/settings/tokens), set it as secret in your Google Colab and restart your session.\n",
      "You will be able to reuse this secret in all of your notebooks.\n",
      "Please note that authentication is recommended but still optional to access public models or datasets.\n",
      "  warnings.warn(\n"
     ]
    }
   ],
   "source": [
    "model = SentenceTransformer(\"all-MiniLM-L6-v2\")"
   ]
  },
  {
   "cell_type": "code",
   "execution_count": null,
   "metadata": {
    "id": "runWmaPqyJwj"
   },
   "outputs": [],
   "source": [
    "def get_weighted_embedding(tokens, tfidf_scores, model, vocab_set):\n",
    "    \"\"\"\n",
    "    tokens: list of ingredient tokens (already cleaned)\n",
    "    tfidf_scores: dictionary mapping token to its TF-IDF weight for one recipe\n",
    "    model: pre-trained SentenceTransformer for token embeddings\n",
    "    vocab_set: set containing tokens in the vocabulary (for quick check)\n",
    "    \"\"\"\n",
    "    token_embeddings = []\n",
    "    weights = []\n",
    "    for token in tokens:\n",
    "        if token in vocab_set:\n",
    "            emb = model.encode(token)\n",
    "            token_embeddings.append(emb)\n",
    "            weights.append(tfidf_scores.get(token, 0.0))\n",
    "    if token_embeddings and np.sum(weights) > 0:\n",
    "        token_embeddings = np.array(token_embeddings)\n",
    "        weights = np.array(weights).reshape(-1, 1)\n",
    "        return np.sum(token_embeddings * weights, axis=0) / np.sum(weights)\n",
    "    else:\n",
    "        return model.encode(\" \".join(tokens))"
   ]
  },
  {
   "cell_type": "code",
   "execution_count": null,
   "metadata": {
    "colab": {
     "base_uri": "https://localhost:8080/"
    },
    "executionInfo": {
     "elapsed": 3364443,
     "status": "ok",
     "timestamp": 1746000512613,
     "user": {
      "displayName": "Matteo Omizzolo",
      "userId": "08280372081355066121"
     },
     "user_tz": -120
    },
    "id": "vCZQ5QAMwGaz",
    "outputId": "4dc3cc01-8bef-4a03-cffb-b6e74e83a464"
   },
   "outputs": [
    {
     "name": "stdout",
     "output_type": "stream",
     "text": [
      "Shape of ingredient embeddings: (25758, 384)\n"
     ]
    }
   ],
   "source": [
    "ingredient_embeddings = []\n",
    "\n",
    "for idx, doc in enumerate(ingredient_docs):\n",
    "    tokens = comma_tokenizer(doc)\n",
    "    row = tfidf_matrix[idx]\n",
    "    token_idx = row.nonzero()[1]\n",
    "    row_tfidf = {vocab[col]: row[0, col] for col in token_idx}\n",
    "    emb = get_weighted_embedding(tokens, row_tfidf, model, vocab_set)\n",
    "    ingredient_embeddings.append(emb)\n",
    "\n",
    "ingredient_embeddings = np.array(ingredient_embeddings)\n",
    "print(\"Shape of ingredient embeddings:\", ingredient_embeddings.shape)"
   ]
  },
  {
   "cell_type": "code",
   "execution_count": null,
   "metadata": {
    "id": "IMw6rWbcQbPG"
   },
   "outputs": [],
   "source": [
    "titles = full_dataset[\"title\"].tolist()\n",
    "embedding_dict = {t: e for t, e in zip(titles, ingredient_embeddings)}\n",
    "\n",
    "np.savez('/content/drive/MyDrive/NLP_Fanta_Projactt/RecipeNLG/DATASET/ingredient_embeddings_by_title.npz',\n",
    "         **embedding_dict)"
   ]
  },
  {
   "cell_type": "markdown",
   "metadata": {
    "id": "QeAxXtUziGAq"
   },
   "source": [
    "## Embeddings Directions"
   ]
  },
  {
   "cell_type": "markdown",
   "metadata": {
    "id": "7Aj2tb1zethP"
   },
   "source": [
    "### TF_IDF"
   ]
  },
  {
   "cell_type": "code",
   "execution_count": null,
   "metadata": {
    "id": "1dhmfsuKethP"
   },
   "outputs": [],
   "source": [
    "full_dataset[\"verbs_str\"] = full_dataset[\"set_verbs\"].apply(\n",
    "    lambda lst: \", \".join(lst) if isinstance(lst, (list, np.ndarray)) else str(lst)\n",
    ")\n",
    "\n",
    "verbs_docs = full_dataset[\"verbs_str\"].tolist()"
   ]
  },
  {
   "cell_type": "code",
   "execution_count": null,
   "metadata": {
    "colab": {
     "base_uri": "https://localhost:8080/"
    },
    "executionInfo": {
     "elapsed": 343,
     "status": "ok",
     "timestamp": 1746000526340,
     "user": {
      "displayName": "Matteo Omizzolo",
      "userId": "08280372081355066121"
     },
     "user_tz": -120
    },
    "id": "9ifP5gnZethQ",
    "outputId": "29ecbe2f-519a-4839-c95f-028548602300"
   },
   "outputs": [
    {
     "name": "stderr",
     "output_type": "stream",
     "text": [
      "/usr/local/lib/python3.11/dist-packages/sklearn/feature_extraction/text.py:517: UserWarning: The parameter 'token_pattern' will not be used since 'tokenizer' is not None'\n",
      "  warnings.warn(\n"
     ]
    }
   ],
   "source": [
    "def comma_tokenizer(text):\n",
    "    return [t.strip() for t in text.split(\",\") if t.strip()]\n",
    "\n",
    "verb_vectorizer = TfidfVectorizer(\n",
    "    tokenizer=comma_tokenizer,\n",
    "    min_df=2,\n",
    "    max_df=0.85,\n",
    "    ngram_range=(1,1),\n",
    "    norm='l2',\n",
    "    use_idf=True,\n",
    "    smooth_idf=True,\n",
    "    sublinear_tf=False\n",
    ")\n",
    "\n",
    "verb_tfidf = verb_vectorizer.fit_transform(verbs_docs)\n",
    "verb_vocab  = verb_vectorizer.get_feature_names_out()\n",
    "verb_vocab_set = set(verb_vocab)\n"
   ]
  },
  {
   "cell_type": "markdown",
   "metadata": {
    "id": "q9-IAasQggmy"
   },
   "source": [
    "### Bert"
   ]
  },
  {
   "cell_type": "code",
   "execution_count": null,
   "metadata": {
    "colab": {
     "base_uri": "https://localhost:8080/",
     "referenced_widgets": [
      "11318fcc8b3c41868a6e435f72c4cfc6",
      "9ef3051b24794939b177610bf519f0e0",
      "f053d0f3ed17477091762c2d4d539115",
      "d7eb773f3f3d4889b7f253140dd956d7",
      "9eca01846f7a4257ae88cf8618b7a5dc",
      "b390f27d4f134210a442bec6609ae237",
      "7de3104e72354e48ac2fa1f344c4cf67",
      "dfc0eead39bc4a59b2e7dc598faed8cc",
      "f067048fe2f34fd897fc612f4f969105",
      "08abbeec99244a67a2186568a48d5480",
      "4ff50bd710794fcd9bb2e3b68c9560a1"
     ]
    },
    "executionInfo": {
     "elapsed": 907,
     "status": "ok",
     "timestamp": 1746000527245,
     "user": {
      "displayName": "Matteo Omizzolo",
      "userId": "08280372081355066121"
     },
     "user_tz": -120
    },
    "id": "4zBcYZ2Jf6h1",
    "outputId": "62619d59-6f63-4e50-ac07-3eb4687cf131"
   },
   "outputs": [
    {
     "data": {
      "application/vnd.jupyter.widget-view+json": {
       "model_id": "11318fcc8b3c41868a6e435f72c4cfc6",
       "version_major": 2,
       "version_minor": 0
      },
      "text/plain": [
       "Batches:   0%|          | 0/4 [00:00<?, ?it/s]"
      ]
     },
     "metadata": {},
     "output_type": "display_data"
    }
   ],
   "source": [
    "token_embeds = model.encode(verb_vocab, show_progress_bar=True, batch_size=64)\n",
    "embed_map    = dict(zip(verb_vocab, token_embeds))"
   ]
  },
  {
   "cell_type": "code",
   "execution_count": null,
   "metadata": {
    "id": "_Y5HUl_VfwHA"
   },
   "outputs": [],
   "source": [
    "def weighted_verb_embedding(doc_idx, doc_text):\n",
    "    tokens = comma_tokenizer(doc_text)\n",
    "    row = verb_tfidf[doc_idx]\n",
    "    cols = row.nonzero()[1]\n",
    "    tfidf_scores = { verb_vocab[c]: row[0, c] for c in cols }\n",
    "    emb_list, w_list = [], []\n",
    "    for tok in tokens:\n",
    "        if tok in embed_map:\n",
    "            emb_list.append(embed_map[tok])\n",
    "            w_list.append(tfidf_scores.get(tok, 0.0))\n",
    "    if emb_list and np.sum(w_list) > 0:\n",
    "        embs = np.vstack(emb_list)\n",
    "        ws   = np.array(w_list)[:, None]\n",
    "        return (embs * ws).sum(axis=0) / ws.sum()\n",
    "    return model.encode(\" \".join(tokens))"
   ]
  },
  {
   "cell_type": "code",
   "execution_count": null,
   "metadata": {
    "colab": {
     "base_uri": "https://localhost:8080/"
    },
    "executionInfo": {
     "elapsed": 10656,
     "status": "ok",
     "timestamp": 1746000537936,
     "user": {
      "displayName": "Matteo Omizzolo",
      "userId": "08280372081355066121"
     },
     "user_tz": -120
    },
    "id": "sHKb0hjAf2bz",
    "outputId": "d1300719-24c4-49f7-d6ef-54e4eff78a9e"
   },
   "outputs": [
    {
     "name": "stdout",
     "output_type": "stream",
     "text": [
      "Shape of verb embeddings: (25758, 384)\n"
     ]
    }
   ],
   "source": [
    "verb_embeddings = []\n",
    "for i, doc in enumerate(verbs_docs):\n",
    "    verb_embeddings.append(weighted_verb_embedding(i, doc))\n",
    "\n",
    "verb_embeddings = np.vstack(verb_embeddings)\n",
    "print(\"Shape of verb embeddings:\", verb_embeddings.shape)"
   ]
  },
  {
   "cell_type": "code",
   "execution_count": null,
   "metadata": {
    "id": "r2n7lc8bQ8M_"
   },
   "outputs": [],
   "source": [
    "titles = full_dataset[\"title\"].tolist()\n",
    "embedding_dict = {t: e for t, e in zip(titles, verb_embeddings)}\n",
    "\n",
    "np.savez('/content/drive/MyDrive/NLP_Fanta_Projactt/RecipeNLG/DATASET/verb_embeddings_by_title.npz',\n",
    "         **embedding_dict)"
   ]
  },
  {
   "cell_type": "markdown",
   "metadata": {
    "id": "1j50JpTegly5"
   },
   "source": [
    "## Embeddings Set Pairs"
   ]
  },
  {
   "cell_type": "markdown",
   "metadata": {
    "id": "UE08vWhqn8sa"
   },
   "source": [
    "### TF_IDF"
   ]
  },
  {
   "cell_type": "code",
   "execution_count": null,
   "metadata": {
    "id": "Mutw8jCGTD1I"
   },
   "outputs": [],
   "source": [
    "full_dataset[\"pairs_str\"] = full_dataset[\"pairs_set\"].apply(\n",
    "    lambda lst: \", \".join(lst) if isinstance(lst, (list, np.ndarray)) else str(lst)\n",
    ")\n",
    "\n",
    "verbs_docs = full_dataset[\"pairs_str\"].tolist()"
   ]
  },
  {
   "cell_type": "code",
   "execution_count": null,
   "metadata": {
    "colab": {
     "base_uri": "https://localhost:8080/"
    },
    "executionInfo": {
     "elapsed": 161,
     "status": "ok",
     "timestamp": 1746000551190,
     "user": {
      "displayName": "Matteo Omizzolo",
      "userId": "08280372081355066121"
     },
     "user_tz": -120
    },
    "id": "ACY8xC_GoAHZ",
    "outputId": "a0e7cd31-d3bf-466e-e026-e9afe58cce7a"
   },
   "outputs": [
    {
     "name": "stderr",
     "output_type": "stream",
     "text": [
      "/usr/local/lib/python3.11/dist-packages/sklearn/feature_extraction/text.py:517: UserWarning: The parameter 'token_pattern' will not be used since 'tokenizer' is not None'\n",
      "  warnings.warn(\n"
     ]
    }
   ],
   "source": [
    "def comma_tokenizer(text):\n",
    "    return [token.strip() for token in text.split(\",\") if token.strip()]\n",
    "\n",
    "verb_vectorizer = TfidfVectorizer(\n",
    "    tokenizer=comma_tokenizer,\n",
    "    min_df=2,\n",
    "    max_df=0.85,\n",
    "    ngram_range=(1,1), # single verbs only\n",
    "    norm='l2',\n",
    "    use_idf=True,\n",
    "    smooth_idf=True,\n",
    "    sublinear_tf=False\n",
    ")\n",
    "\n",
    "verb_tfidf = verb_vectorizer.fit_transform(verbs_docs)\n",
    "verb_vocab  = verb_vectorizer.get_feature_names_out()\n",
    "verb_vocab_set = set(verb_vocab)"
   ]
  },
  {
   "cell_type": "markdown",
   "metadata": {
    "id": "9uTYjRIBoAuP"
   },
   "source": [
    "### Bert"
   ]
  },
  {
   "cell_type": "code",
   "execution_count": null,
   "metadata": {
    "colab": {
     "base_uri": "https://localhost:8080/",
     "height": 49,
     "referenced_widgets": [
      "9d47dd71ee84479494fd719f0f3f1f16",
      "3e42990bf9a745af9727efdfacf82b3f",
      "d94700f4739147439fd381b3027abe83",
      "9f66eda489e14ed78ce0ae3c971d100f",
      "4d4854cb976f41548a1b07cd6ed3ffb2",
      "d2b3a74e6cd3467eae00af01de276e87",
      "30f01e685bdb4fc693f7940e6df1ffd8",
      "9c29ad392cf1402fafd60af040085cc3",
      "441c6b5650c541efb45574d161510f19",
      "7fbefd0a9c9e410585f8127b286857a2",
      "c4d9e7ea20b84f09a45225df9e87f8d6"
     ]
    },
    "executionInfo": {
     "elapsed": 25227,
     "status": "ok",
     "timestamp": 1746000576415,
     "user": {
      "displayName": "Matteo Omizzolo",
      "userId": "08280372081355066121"
     },
     "user_tz": -120
    },
    "id": "MaR7yHsan0MR",
    "outputId": "9fdf3311-1566-44ca-9ce3-39a801834863"
   },
   "outputs": [
    {
     "data": {
      "application/vnd.jupyter.widget-view+json": {
       "model_id": "9d47dd71ee84479494fd719f0f3f1f16",
       "version_major": 2,
       "version_minor": 0
      },
      "text/plain": [
       "Batches:   0%|          | 0/120 [00:00<?, ?it/s]"
      ]
     },
     "metadata": {},
     "output_type": "display_data"
    }
   ],
   "source": [
    "token_embeds = model.encode(verb_vocab, show_progress_bar=True, batch_size=64)\n",
    "embed_map    = dict(zip(verb_vocab, token_embeds))\n",
    "\n",
    "def weighted_verb_embedding(doc_idx, doc_text):\n",
    "    # get tokens\n",
    "    tokens = comma_tokenizer(doc_text)\n",
    "    # get tfidf weights for this row\n",
    "    row = verb_tfidf[doc_idx]\n",
    "    cols = row.nonzero()[1]\n",
    "    tfidf_scores = { verb_vocab[c]: row[0, c] for c in cols }\n",
    "    #  accumulate embeddings\n",
    "    emb_list, w_list = [], []\n",
    "    for tok in tokens:\n",
    "        if tok in embed_map:\n",
    "            emb_list.append(embed_map[tok])\n",
    "            w_list.append(tfidf_scores.get(tok, 0.0))\n",
    "    if emb_list and np.sum(w_list) > 0:\n",
    "        embs = np.vstack(emb_list)\n",
    "        ws   = np.array(w_list)[:, None]\n",
    "        return (embs * ws).sum(axis=0) / ws.sum()\n",
    "    return model.encode(\" \".join(tokens))"
   ]
  },
  {
   "cell_type": "code",
   "execution_count": null,
   "metadata": {
    "colab": {
     "base_uri": "https://localhost:8080/"
    },
    "executionInfo": {
     "elapsed": 43606,
     "status": "ok",
     "timestamp": 1746000620025,
     "user": {
      "displayName": "Matteo Omizzolo",
      "userId": "08280372081355066121"
     },
     "user_tz": -120
    },
    "id": "T7sLaL6XoMBp",
    "outputId": "fa66c70c-fdaa-4535-c685-567a56cd2bf7"
   },
   "outputs": [
    {
     "name": "stdout",
     "output_type": "stream",
     "text": [
      "Shape of verb embeddings: (25758, 384)\n"
     ]
    }
   ],
   "source": [
    "verb_embeddings = []\n",
    "for i, doc in enumerate(verbs_docs):\n",
    "    verb_embeddings.append(weighted_verb_embedding(i, doc))\n",
    "verb_embeddings = np.vstack(verb_embeddings)\n",
    "print(\"Shape of verb embeddings:\", verb_embeddings.shape)"
   ]
  },
  {
   "cell_type": "code",
   "execution_count": null,
   "metadata": {
    "id": "XOGzQXXmRGyj"
   },
   "outputs": [],
   "source": [
    "titles = full_dataset[\"title\"].tolist()\n",
    "embedding_dict = {t: e for t, e in zip(titles, verb_embeddings)}\n",
    "\n",
    "np.savez('/content/drive/MyDrive/NLP_Fanta_Projactt/RecipeNLG/DATASET/pairs_embeddings_by_title.npz',\n",
    "         **embedding_dict)"
   ]
  },
  {
   "cell_type": "markdown",
   "metadata": {
    "id": "MGMc541MpNj6"
   },
   "source": [
    "## Preprocessing/Embeddings of titles"
   ]
  },
  {
   "cell_type": "code",
   "execution_count": null,
   "metadata": {
    "id": "LTJDh-82pMsY"
   },
   "outputs": [],
   "source": [
    "def clean_title(text):\n",
    "    text = str(text).lower()\n",
    "    text = re.sub(r'[^a-z0-9\\s]', '', text)\n",
    "    return text.strip()\n",
    "\n",
    "full_dataset[\"title_clean\"] = full_dataset[\"title\"].apply(clean_title)"
   ]
  },
  {
   "cell_type": "code",
   "execution_count": null,
   "metadata": {
    "colab": {
     "base_uri": "https://localhost:8080/",
     "referenced_widgets": [
      "bef8b8a0d41c4bcd9cf4d4fb5431b6e0",
      "8822987ae65f4e8cafb8f10d7040f176",
      "e4c9b756b1d74f5c87a8c2dbbf9c801d",
      "9a3c1ff808aa4aceb16fb9b6cb822c59",
      "56b1e80aa2ad4df5b6150460963cf18a",
      "b0b6e18db336484ea85e5451c5ab5536",
      "8f8b7cd810c943ca96c277e9b0d18ca1",
      "be86a1a4f40242ce90e7c3d97fc8404a",
      "879adf96f3e04964b50d85886ef0bc2c",
      "2b9a3c7dd7ff49c2be6b4fd7e91fc8f9",
      "f15ee32c08744c4bb779b5ee7591cd22"
     ]
    },
    "executionInfo": {
     "elapsed": 161076,
     "status": "ok",
     "timestamp": 1746001821423,
     "user": {
      "displayName": "Matteo Omizzolo",
      "userId": "08280372081355066121"
     },
     "user_tz": -120
    },
    "id": "UH_uE12HpyhA",
    "outputId": "44aa7c0e-3307-4de8-ccce-2fa2f7f4f82e"
   },
   "outputs": [
    {
     "data": {
      "application/vnd.jupyter.widget-view+json": {
       "model_id": "bef8b8a0d41c4bcd9cf4d4fb5431b6e0",
       "version_major": 2,
       "version_minor": 0
      },
      "text/plain": [
       "Batches:   0%|          | 0/202 [00:00<?, ?it/s]"
      ]
     },
     "metadata": {},
     "output_type": "display_data"
    }
   ],
   "source": [
    "title_texts = full_dataset[\"title_clean\"].tolist()\n",
    "title_embeddings = model.encode(title_texts, show_progress_bar=True, batch_size=128)"
   ]
  },
  {
   "cell_type": "code",
   "execution_count": null,
   "metadata": {
    "id": "xm1kirdXzNGW"
   },
   "outputs": [],
   "source": [
    "titles = full_dataset[\"title\"].tolist()\n",
    "embedding_dict = {t: e for t, e in zip(titles, title_embeddings)}\n",
    "\n",
    "np.savez('/content/drive/MyDrive/NLP_Fanta_Projactt/RecipeNLG/DATASET/title_embeddings_by_title.npz',\n",
    "         **embedding_dict)"
   ]
  }
 ],
 "metadata": {
  "colab": {
   "collapsed_sections": [
    "cYOKgHb7fpVh",
    "VJ0PNe5I8syO",
    "QeAxXtUziGAq",
    "7Aj2tb1zethP",
    "UE08vWhqn8sa",
    "CEGA5-LFDJme",
    "OaMZQfJEEXkd"
   ],
   "provenance": [
    {
     "file_id": "1BFrKyxpcvFwo2eHqaULoSCEb_LM8iHTO",
     "timestamp": 1744809406579
    },
    {
     "file_id": "1BRLxyUGeI7rsk644_l3TluqtoBVZUAaf",
     "timestamp": 1744726287847
    }
   ]
  },
  "kernelspec": {
   "display_name": "Python 3 (ipykernel)",
   "language": "python",
   "name": "python3"
  },
  "language_info": {
   "codemirror_mode": {
    "name": "ipython",
    "version": 3
   },
   "file_extension": ".py",
   "mimetype": "text/x-python",
   "name": "python",
   "nbconvert_exporter": "python",
   "pygments_lexer": "ipython3",
   "version": "3.12.7"
  },
  "widgets": {
   "application/vnd.jupyter.widget-state+json": {
    "08abbeec99244a67a2186568a48d5480": {
     "model_module": "@jupyter-widgets/base",
     "model_module_version": "1.2.0",
     "model_name": "LayoutModel",
     "state": {
      "_model_module": "@jupyter-widgets/base",
      "_model_module_version": "1.2.0",
      "_model_name": "LayoutModel",
      "_view_count": null,
      "_view_module": "@jupyter-widgets/base",
      "_view_module_version": "1.2.0",
      "_view_name": "LayoutView",
      "align_content": null,
      "align_items": null,
      "align_self": null,
      "border": null,
      "bottom": null,
      "display": null,
      "flex": null,
      "flex_flow": null,
      "grid_area": null,
      "grid_auto_columns": null,
      "grid_auto_flow": null,
      "grid_auto_rows": null,
      "grid_column": null,
      "grid_gap": null,
      "grid_row": null,
      "grid_template_areas": null,
      "grid_template_columns": null,
      "grid_template_rows": null,
      "height": null,
      "justify_content": null,
      "justify_items": null,
      "left": null,
      "margin": null,
      "max_height": null,
      "max_width": null,
      "min_height": null,
      "min_width": null,
      "object_fit": null,
      "object_position": null,
      "order": null,
      "overflow": null,
      "overflow_x": null,
      "overflow_y": null,
      "padding": null,
      "right": null,
      "top": null,
      "visibility": null,
      "width": null
     }
    },
    "11318fcc8b3c41868a6e435f72c4cfc6": {
     "model_module": "@jupyter-widgets/controls",
     "model_module_version": "1.5.0",
     "model_name": "HBoxModel",
     "state": {
      "_dom_classes": [],
      "_model_module": "@jupyter-widgets/controls",
      "_model_module_version": "1.5.0",
      "_model_name": "HBoxModel",
      "_view_count": null,
      "_view_module": "@jupyter-widgets/controls",
      "_view_module_version": "1.5.0",
      "_view_name": "HBoxView",
      "box_style": "",
      "children": [
       "IPY_MODEL_9ef3051b24794939b177610bf519f0e0",
       "IPY_MODEL_f053d0f3ed17477091762c2d4d539115",
       "IPY_MODEL_d7eb773f3f3d4889b7f253140dd956d7"
      ],
      "layout": "IPY_MODEL_9eca01846f7a4257ae88cf8618b7a5dc"
     }
    },
    "2b9a3c7dd7ff49c2be6b4fd7e91fc8f9": {
     "model_module": "@jupyter-widgets/base",
     "model_module_version": "1.2.0",
     "model_name": "LayoutModel",
     "state": {
      "_model_module": "@jupyter-widgets/base",
      "_model_module_version": "1.2.0",
      "_model_name": "LayoutModel",
      "_view_count": null,
      "_view_module": "@jupyter-widgets/base",
      "_view_module_version": "1.2.0",
      "_view_name": "LayoutView",
      "align_content": null,
      "align_items": null,
      "align_self": null,
      "border": null,
      "bottom": null,
      "display": null,
      "flex": null,
      "flex_flow": null,
      "grid_area": null,
      "grid_auto_columns": null,
      "grid_auto_flow": null,
      "grid_auto_rows": null,
      "grid_column": null,
      "grid_gap": null,
      "grid_row": null,
      "grid_template_areas": null,
      "grid_template_columns": null,
      "grid_template_rows": null,
      "height": null,
      "justify_content": null,
      "justify_items": null,
      "left": null,
      "margin": null,
      "max_height": null,
      "max_width": null,
      "min_height": null,
      "min_width": null,
      "object_fit": null,
      "object_position": null,
      "order": null,
      "overflow": null,
      "overflow_x": null,
      "overflow_y": null,
      "padding": null,
      "right": null,
      "top": null,
      "visibility": null,
      "width": null
     }
    },
    "30f01e685bdb4fc693f7940e6df1ffd8": {
     "model_module": "@jupyter-widgets/controls",
     "model_module_version": "1.5.0",
     "model_name": "DescriptionStyleModel",
     "state": {
      "_model_module": "@jupyter-widgets/controls",
      "_model_module_version": "1.5.0",
      "_model_name": "DescriptionStyleModel",
      "_view_count": null,
      "_view_module": "@jupyter-widgets/base",
      "_view_module_version": "1.2.0",
      "_view_name": "StyleView",
      "description_width": ""
     }
    },
    "3e42990bf9a745af9727efdfacf82b3f": {
     "model_module": "@jupyter-widgets/controls",
     "model_module_version": "1.5.0",
     "model_name": "HTMLModel",
     "state": {
      "_dom_classes": [],
      "_model_module": "@jupyter-widgets/controls",
      "_model_module_version": "1.5.0",
      "_model_name": "HTMLModel",
      "_view_count": null,
      "_view_module": "@jupyter-widgets/controls",
      "_view_module_version": "1.5.0",
      "_view_name": "HTMLView",
      "description": "",
      "description_tooltip": null,
      "layout": "IPY_MODEL_d2b3a74e6cd3467eae00af01de276e87",
      "placeholder": "​",
      "style": "IPY_MODEL_30f01e685bdb4fc693f7940e6df1ffd8",
      "value": "Batches: 100%"
     }
    },
    "441c6b5650c541efb45574d161510f19": {
     "model_module": "@jupyter-widgets/controls",
     "model_module_version": "1.5.0",
     "model_name": "ProgressStyleModel",
     "state": {
      "_model_module": "@jupyter-widgets/controls",
      "_model_module_version": "1.5.0",
      "_model_name": "ProgressStyleModel",
      "_view_count": null,
      "_view_module": "@jupyter-widgets/base",
      "_view_module_version": "1.2.0",
      "_view_name": "StyleView",
      "bar_color": null,
      "description_width": ""
     }
    },
    "4d4854cb976f41548a1b07cd6ed3ffb2": {
     "model_module": "@jupyter-widgets/base",
     "model_module_version": "1.2.0",
     "model_name": "LayoutModel",
     "state": {
      "_model_module": "@jupyter-widgets/base",
      "_model_module_version": "1.2.0",
      "_model_name": "LayoutModel",
      "_view_count": null,
      "_view_module": "@jupyter-widgets/base",
      "_view_module_version": "1.2.0",
      "_view_name": "LayoutView",
      "align_content": null,
      "align_items": null,
      "align_self": null,
      "border": null,
      "bottom": null,
      "display": null,
      "flex": null,
      "flex_flow": null,
      "grid_area": null,
      "grid_auto_columns": null,
      "grid_auto_flow": null,
      "grid_auto_rows": null,
      "grid_column": null,
      "grid_gap": null,
      "grid_row": null,
      "grid_template_areas": null,
      "grid_template_columns": null,
      "grid_template_rows": null,
      "height": null,
      "justify_content": null,
      "justify_items": null,
      "left": null,
      "margin": null,
      "max_height": null,
      "max_width": null,
      "min_height": null,
      "min_width": null,
      "object_fit": null,
      "object_position": null,
      "order": null,
      "overflow": null,
      "overflow_x": null,
      "overflow_y": null,
      "padding": null,
      "right": null,
      "top": null,
      "visibility": null,
      "width": null
     }
    },
    "4ff50bd710794fcd9bb2e3b68c9560a1": {
     "model_module": "@jupyter-widgets/controls",
     "model_module_version": "1.5.0",
     "model_name": "DescriptionStyleModel",
     "state": {
      "_model_module": "@jupyter-widgets/controls",
      "_model_module_version": "1.5.0",
      "_model_name": "DescriptionStyleModel",
      "_view_count": null,
      "_view_module": "@jupyter-widgets/base",
      "_view_module_version": "1.2.0",
      "_view_name": "StyleView",
      "description_width": ""
     }
    },
    "56b1e80aa2ad4df5b6150460963cf18a": {
     "model_module": "@jupyter-widgets/base",
     "model_module_version": "1.2.0",
     "model_name": "LayoutModel",
     "state": {
      "_model_module": "@jupyter-widgets/base",
      "_model_module_version": "1.2.0",
      "_model_name": "LayoutModel",
      "_view_count": null,
      "_view_module": "@jupyter-widgets/base",
      "_view_module_version": "1.2.0",
      "_view_name": "LayoutView",
      "align_content": null,
      "align_items": null,
      "align_self": null,
      "border": null,
      "bottom": null,
      "display": null,
      "flex": null,
      "flex_flow": null,
      "grid_area": null,
      "grid_auto_columns": null,
      "grid_auto_flow": null,
      "grid_auto_rows": null,
      "grid_column": null,
      "grid_gap": null,
      "grid_row": null,
      "grid_template_areas": null,
      "grid_template_columns": null,
      "grid_template_rows": null,
      "height": null,
      "justify_content": null,
      "justify_items": null,
      "left": null,
      "margin": null,
      "max_height": null,
      "max_width": null,
      "min_height": null,
      "min_width": null,
      "object_fit": null,
      "object_position": null,
      "order": null,
      "overflow": null,
      "overflow_x": null,
      "overflow_y": null,
      "padding": null,
      "right": null,
      "top": null,
      "visibility": null,
      "width": null
     }
    },
    "7de3104e72354e48ac2fa1f344c4cf67": {
     "model_module": "@jupyter-widgets/controls",
     "model_module_version": "1.5.0",
     "model_name": "DescriptionStyleModel",
     "state": {
      "_model_module": "@jupyter-widgets/controls",
      "_model_module_version": "1.5.0",
      "_model_name": "DescriptionStyleModel",
      "_view_count": null,
      "_view_module": "@jupyter-widgets/base",
      "_view_module_version": "1.2.0",
      "_view_name": "StyleView",
      "description_width": ""
     }
    },
    "7fbefd0a9c9e410585f8127b286857a2": {
     "model_module": "@jupyter-widgets/base",
     "model_module_version": "1.2.0",
     "model_name": "LayoutModel",
     "state": {
      "_model_module": "@jupyter-widgets/base",
      "_model_module_version": "1.2.0",
      "_model_name": "LayoutModel",
      "_view_count": null,
      "_view_module": "@jupyter-widgets/base",
      "_view_module_version": "1.2.0",
      "_view_name": "LayoutView",
      "align_content": null,
      "align_items": null,
      "align_self": null,
      "border": null,
      "bottom": null,
      "display": null,
      "flex": null,
      "flex_flow": null,
      "grid_area": null,
      "grid_auto_columns": null,
      "grid_auto_flow": null,
      "grid_auto_rows": null,
      "grid_column": null,
      "grid_gap": null,
      "grid_row": null,
      "grid_template_areas": null,
      "grid_template_columns": null,
      "grid_template_rows": null,
      "height": null,
      "justify_content": null,
      "justify_items": null,
      "left": null,
      "margin": null,
      "max_height": null,
      "max_width": null,
      "min_height": null,
      "min_width": null,
      "object_fit": null,
      "object_position": null,
      "order": null,
      "overflow": null,
      "overflow_x": null,
      "overflow_y": null,
      "padding": null,
      "right": null,
      "top": null,
      "visibility": null,
      "width": null
     }
    },
    "879adf96f3e04964b50d85886ef0bc2c": {
     "model_module": "@jupyter-widgets/controls",
     "model_module_version": "1.5.0",
     "model_name": "ProgressStyleModel",
     "state": {
      "_model_module": "@jupyter-widgets/controls",
      "_model_module_version": "1.5.0",
      "_model_name": "ProgressStyleModel",
      "_view_count": null,
      "_view_module": "@jupyter-widgets/base",
      "_view_module_version": "1.2.0",
      "_view_name": "StyleView",
      "bar_color": null,
      "description_width": ""
     }
    },
    "8822987ae65f4e8cafb8f10d7040f176": {
     "model_module": "@jupyter-widgets/controls",
     "model_module_version": "1.5.0",
     "model_name": "HTMLModel",
     "state": {
      "_dom_classes": [],
      "_model_module": "@jupyter-widgets/controls",
      "_model_module_version": "1.5.0",
      "_model_name": "HTMLModel",
      "_view_count": null,
      "_view_module": "@jupyter-widgets/controls",
      "_view_module_version": "1.5.0",
      "_view_name": "HTMLView",
      "description": "",
      "description_tooltip": null,
      "layout": "IPY_MODEL_b0b6e18db336484ea85e5451c5ab5536",
      "placeholder": "​",
      "style": "IPY_MODEL_8f8b7cd810c943ca96c277e9b0d18ca1",
      "value": "Batches: 100%"
     }
    },
    "8f8b7cd810c943ca96c277e9b0d18ca1": {
     "model_module": "@jupyter-widgets/controls",
     "model_module_version": "1.5.0",
     "model_name": "DescriptionStyleModel",
     "state": {
      "_model_module": "@jupyter-widgets/controls",
      "_model_module_version": "1.5.0",
      "_model_name": "DescriptionStyleModel",
      "_view_count": null,
      "_view_module": "@jupyter-widgets/base",
      "_view_module_version": "1.2.0",
      "_view_name": "StyleView",
      "description_width": ""
     }
    },
    "9a3c1ff808aa4aceb16fb9b6cb822c59": {
     "model_module": "@jupyter-widgets/controls",
     "model_module_version": "1.5.0",
     "model_name": "HTMLModel",
     "state": {
      "_dom_classes": [],
      "_model_module": "@jupyter-widgets/controls",
      "_model_module_version": "1.5.0",
      "_model_name": "HTMLModel",
      "_view_count": null,
      "_view_module": "@jupyter-widgets/controls",
      "_view_module_version": "1.5.0",
      "_view_name": "HTMLView",
      "description": "",
      "description_tooltip": null,
      "layout": "IPY_MODEL_2b9a3c7dd7ff49c2be6b4fd7e91fc8f9",
      "placeholder": "​",
      "style": "IPY_MODEL_f15ee32c08744c4bb779b5ee7591cd22",
      "value": " 202/202 [02:40&lt;00:00,  2.01it/s]"
     }
    },
    "9c29ad392cf1402fafd60af040085cc3": {
     "model_module": "@jupyter-widgets/base",
     "model_module_version": "1.2.0",
     "model_name": "LayoutModel",
     "state": {
      "_model_module": "@jupyter-widgets/base",
      "_model_module_version": "1.2.0",
      "_model_name": "LayoutModel",
      "_view_count": null,
      "_view_module": "@jupyter-widgets/base",
      "_view_module_version": "1.2.0",
      "_view_name": "LayoutView",
      "align_content": null,
      "align_items": null,
      "align_self": null,
      "border": null,
      "bottom": null,
      "display": null,
      "flex": null,
      "flex_flow": null,
      "grid_area": null,
      "grid_auto_columns": null,
      "grid_auto_flow": null,
      "grid_auto_rows": null,
      "grid_column": null,
      "grid_gap": null,
      "grid_row": null,
      "grid_template_areas": null,
      "grid_template_columns": null,
      "grid_template_rows": null,
      "height": null,
      "justify_content": null,
      "justify_items": null,
      "left": null,
      "margin": null,
      "max_height": null,
      "max_width": null,
      "min_height": null,
      "min_width": null,
      "object_fit": null,
      "object_position": null,
      "order": null,
      "overflow": null,
      "overflow_x": null,
      "overflow_y": null,
      "padding": null,
      "right": null,
      "top": null,
      "visibility": null,
      "width": null
     }
    },
    "9d47dd71ee84479494fd719f0f3f1f16": {
     "model_module": "@jupyter-widgets/controls",
     "model_module_version": "1.5.0",
     "model_name": "HBoxModel",
     "state": {
      "_dom_classes": [],
      "_model_module": "@jupyter-widgets/controls",
      "_model_module_version": "1.5.0",
      "_model_name": "HBoxModel",
      "_view_count": null,
      "_view_module": "@jupyter-widgets/controls",
      "_view_module_version": "1.5.0",
      "_view_name": "HBoxView",
      "box_style": "",
      "children": [
       "IPY_MODEL_3e42990bf9a745af9727efdfacf82b3f",
       "IPY_MODEL_d94700f4739147439fd381b3027abe83",
       "IPY_MODEL_9f66eda489e14ed78ce0ae3c971d100f"
      ],
      "layout": "IPY_MODEL_4d4854cb976f41548a1b07cd6ed3ffb2"
     }
    },
    "9eca01846f7a4257ae88cf8618b7a5dc": {
     "model_module": "@jupyter-widgets/base",
     "model_module_version": "1.2.0",
     "model_name": "LayoutModel",
     "state": {
      "_model_module": "@jupyter-widgets/base",
      "_model_module_version": "1.2.0",
      "_model_name": "LayoutModel",
      "_view_count": null,
      "_view_module": "@jupyter-widgets/base",
      "_view_module_version": "1.2.0",
      "_view_name": "LayoutView",
      "align_content": null,
      "align_items": null,
      "align_self": null,
      "border": null,
      "bottom": null,
      "display": null,
      "flex": null,
      "flex_flow": null,
      "grid_area": null,
      "grid_auto_columns": null,
      "grid_auto_flow": null,
      "grid_auto_rows": null,
      "grid_column": null,
      "grid_gap": null,
      "grid_row": null,
      "grid_template_areas": null,
      "grid_template_columns": null,
      "grid_template_rows": null,
      "height": null,
      "justify_content": null,
      "justify_items": null,
      "left": null,
      "margin": null,
      "max_height": null,
      "max_width": null,
      "min_height": null,
      "min_width": null,
      "object_fit": null,
      "object_position": null,
      "order": null,
      "overflow": null,
      "overflow_x": null,
      "overflow_y": null,
      "padding": null,
      "right": null,
      "top": null,
      "visibility": null,
      "width": null
     }
    },
    "9ef3051b24794939b177610bf519f0e0": {
     "model_module": "@jupyter-widgets/controls",
     "model_module_version": "1.5.0",
     "model_name": "HTMLModel",
     "state": {
      "_dom_classes": [],
      "_model_module": "@jupyter-widgets/controls",
      "_model_module_version": "1.5.0",
      "_model_name": "HTMLModel",
      "_view_count": null,
      "_view_module": "@jupyter-widgets/controls",
      "_view_module_version": "1.5.0",
      "_view_name": "HTMLView",
      "description": "",
      "description_tooltip": null,
      "layout": "IPY_MODEL_b390f27d4f134210a442bec6609ae237",
      "placeholder": "​",
      "style": "IPY_MODEL_7de3104e72354e48ac2fa1f344c4cf67",
      "value": "Batches: 100%"
     }
    },
    "9f66eda489e14ed78ce0ae3c971d100f": {
     "model_module": "@jupyter-widgets/controls",
     "model_module_version": "1.5.0",
     "model_name": "HTMLModel",
     "state": {
      "_dom_classes": [],
      "_model_module": "@jupyter-widgets/controls",
      "_model_module_version": "1.5.0",
      "_model_name": "HTMLModel",
      "_view_count": null,
      "_view_module": "@jupyter-widgets/controls",
      "_view_module_version": "1.5.0",
      "_view_name": "HTMLView",
      "description": "",
      "description_tooltip": null,
      "layout": "IPY_MODEL_7fbefd0a9c9e410585f8127b286857a2",
      "placeholder": "​",
      "style": "IPY_MODEL_c4d9e7ea20b84f09a45225df9e87f8d6",
      "value": " 120/120 [00:25&lt;00:00,  6.64it/s]"
     }
    },
    "b0b6e18db336484ea85e5451c5ab5536": {
     "model_module": "@jupyter-widgets/base",
     "model_module_version": "1.2.0",
     "model_name": "LayoutModel",
     "state": {
      "_model_module": "@jupyter-widgets/base",
      "_model_module_version": "1.2.0",
      "_model_name": "LayoutModel",
      "_view_count": null,
      "_view_module": "@jupyter-widgets/base",
      "_view_module_version": "1.2.0",
      "_view_name": "LayoutView",
      "align_content": null,
      "align_items": null,
      "align_self": null,
      "border": null,
      "bottom": null,
      "display": null,
      "flex": null,
      "flex_flow": null,
      "grid_area": null,
      "grid_auto_columns": null,
      "grid_auto_flow": null,
      "grid_auto_rows": null,
      "grid_column": null,
      "grid_gap": null,
      "grid_row": null,
      "grid_template_areas": null,
      "grid_template_columns": null,
      "grid_template_rows": null,
      "height": null,
      "justify_content": null,
      "justify_items": null,
      "left": null,
      "margin": null,
      "max_height": null,
      "max_width": null,
      "min_height": null,
      "min_width": null,
      "object_fit": null,
      "object_position": null,
      "order": null,
      "overflow": null,
      "overflow_x": null,
      "overflow_y": null,
      "padding": null,
      "right": null,
      "top": null,
      "visibility": null,
      "width": null
     }
    },
    "b390f27d4f134210a442bec6609ae237": {
     "model_module": "@jupyter-widgets/base",
     "model_module_version": "1.2.0",
     "model_name": "LayoutModel",
     "state": {
      "_model_module": "@jupyter-widgets/base",
      "_model_module_version": "1.2.0",
      "_model_name": "LayoutModel",
      "_view_count": null,
      "_view_module": "@jupyter-widgets/base",
      "_view_module_version": "1.2.0",
      "_view_name": "LayoutView",
      "align_content": null,
      "align_items": null,
      "align_self": null,
      "border": null,
      "bottom": null,
      "display": null,
      "flex": null,
      "flex_flow": null,
      "grid_area": null,
      "grid_auto_columns": null,
      "grid_auto_flow": null,
      "grid_auto_rows": null,
      "grid_column": null,
      "grid_gap": null,
      "grid_row": null,
      "grid_template_areas": null,
      "grid_template_columns": null,
      "grid_template_rows": null,
      "height": null,
      "justify_content": null,
      "justify_items": null,
      "left": null,
      "margin": null,
      "max_height": null,
      "max_width": null,
      "min_height": null,
      "min_width": null,
      "object_fit": null,
      "object_position": null,
      "order": null,
      "overflow": null,
      "overflow_x": null,
      "overflow_y": null,
      "padding": null,
      "right": null,
      "top": null,
      "visibility": null,
      "width": null
     }
    },
    "be86a1a4f40242ce90e7c3d97fc8404a": {
     "model_module": "@jupyter-widgets/base",
     "model_module_version": "1.2.0",
     "model_name": "LayoutModel",
     "state": {
      "_model_module": "@jupyter-widgets/base",
      "_model_module_version": "1.2.0",
      "_model_name": "LayoutModel",
      "_view_count": null,
      "_view_module": "@jupyter-widgets/base",
      "_view_module_version": "1.2.0",
      "_view_name": "LayoutView",
      "align_content": null,
      "align_items": null,
      "align_self": null,
      "border": null,
      "bottom": null,
      "display": null,
      "flex": null,
      "flex_flow": null,
      "grid_area": null,
      "grid_auto_columns": null,
      "grid_auto_flow": null,
      "grid_auto_rows": null,
      "grid_column": null,
      "grid_gap": null,
      "grid_row": null,
      "grid_template_areas": null,
      "grid_template_columns": null,
      "grid_template_rows": null,
      "height": null,
      "justify_content": null,
      "justify_items": null,
      "left": null,
      "margin": null,
      "max_height": null,
      "max_width": null,
      "min_height": null,
      "min_width": null,
      "object_fit": null,
      "object_position": null,
      "order": null,
      "overflow": null,
      "overflow_x": null,
      "overflow_y": null,
      "padding": null,
      "right": null,
      "top": null,
      "visibility": null,
      "width": null
     }
    },
    "bef8b8a0d41c4bcd9cf4d4fb5431b6e0": {
     "model_module": "@jupyter-widgets/controls",
     "model_module_version": "1.5.0",
     "model_name": "HBoxModel",
     "state": {
      "_dom_classes": [],
      "_model_module": "@jupyter-widgets/controls",
      "_model_module_version": "1.5.0",
      "_model_name": "HBoxModel",
      "_view_count": null,
      "_view_module": "@jupyter-widgets/controls",
      "_view_module_version": "1.5.0",
      "_view_name": "HBoxView",
      "box_style": "",
      "children": [
       "IPY_MODEL_8822987ae65f4e8cafb8f10d7040f176",
       "IPY_MODEL_e4c9b756b1d74f5c87a8c2dbbf9c801d",
       "IPY_MODEL_9a3c1ff808aa4aceb16fb9b6cb822c59"
      ],
      "layout": "IPY_MODEL_56b1e80aa2ad4df5b6150460963cf18a"
     }
    },
    "c4d9e7ea20b84f09a45225df9e87f8d6": {
     "model_module": "@jupyter-widgets/controls",
     "model_module_version": "1.5.0",
     "model_name": "DescriptionStyleModel",
     "state": {
      "_model_module": "@jupyter-widgets/controls",
      "_model_module_version": "1.5.0",
      "_model_name": "DescriptionStyleModel",
      "_view_count": null,
      "_view_module": "@jupyter-widgets/base",
      "_view_module_version": "1.2.0",
      "_view_name": "StyleView",
      "description_width": ""
     }
    },
    "d2b3a74e6cd3467eae00af01de276e87": {
     "model_module": "@jupyter-widgets/base",
     "model_module_version": "1.2.0",
     "model_name": "LayoutModel",
     "state": {
      "_model_module": "@jupyter-widgets/base",
      "_model_module_version": "1.2.0",
      "_model_name": "LayoutModel",
      "_view_count": null,
      "_view_module": "@jupyter-widgets/base",
      "_view_module_version": "1.2.0",
      "_view_name": "LayoutView",
      "align_content": null,
      "align_items": null,
      "align_self": null,
      "border": null,
      "bottom": null,
      "display": null,
      "flex": null,
      "flex_flow": null,
      "grid_area": null,
      "grid_auto_columns": null,
      "grid_auto_flow": null,
      "grid_auto_rows": null,
      "grid_column": null,
      "grid_gap": null,
      "grid_row": null,
      "grid_template_areas": null,
      "grid_template_columns": null,
      "grid_template_rows": null,
      "height": null,
      "justify_content": null,
      "justify_items": null,
      "left": null,
      "margin": null,
      "max_height": null,
      "max_width": null,
      "min_height": null,
      "min_width": null,
      "object_fit": null,
      "object_position": null,
      "order": null,
      "overflow": null,
      "overflow_x": null,
      "overflow_y": null,
      "padding": null,
      "right": null,
      "top": null,
      "visibility": null,
      "width": null
     }
    },
    "d7eb773f3f3d4889b7f253140dd956d7": {
     "model_module": "@jupyter-widgets/controls",
     "model_module_version": "1.5.0",
     "model_name": "HTMLModel",
     "state": {
      "_dom_classes": [],
      "_model_module": "@jupyter-widgets/controls",
      "_model_module_version": "1.5.0",
      "_model_name": "HTMLModel",
      "_view_count": null,
      "_view_module": "@jupyter-widgets/controls",
      "_view_module_version": "1.5.0",
      "_view_name": "HTMLView",
      "description": "",
      "description_tooltip": null,
      "layout": "IPY_MODEL_08abbeec99244a67a2186568a48d5480",
      "placeholder": "​",
      "style": "IPY_MODEL_4ff50bd710794fcd9bb2e3b68c9560a1",
      "value": " 4/4 [00:00&lt;00:00,  5.29it/s]"
     }
    },
    "d94700f4739147439fd381b3027abe83": {
     "model_module": "@jupyter-widgets/controls",
     "model_module_version": "1.5.0",
     "model_name": "FloatProgressModel",
     "state": {
      "_dom_classes": [],
      "_model_module": "@jupyter-widgets/controls",
      "_model_module_version": "1.5.0",
      "_model_name": "FloatProgressModel",
      "_view_count": null,
      "_view_module": "@jupyter-widgets/controls",
      "_view_module_version": "1.5.0",
      "_view_name": "ProgressView",
      "bar_style": "success",
      "description": "",
      "description_tooltip": null,
      "layout": "IPY_MODEL_9c29ad392cf1402fafd60af040085cc3",
      "max": 120,
      "min": 0,
      "orientation": "horizontal",
      "style": "IPY_MODEL_441c6b5650c541efb45574d161510f19",
      "value": 120
     }
    },
    "dfc0eead39bc4a59b2e7dc598faed8cc": {
     "model_module": "@jupyter-widgets/base",
     "model_module_version": "1.2.0",
     "model_name": "LayoutModel",
     "state": {
      "_model_module": "@jupyter-widgets/base",
      "_model_module_version": "1.2.0",
      "_model_name": "LayoutModel",
      "_view_count": null,
      "_view_module": "@jupyter-widgets/base",
      "_view_module_version": "1.2.0",
      "_view_name": "LayoutView",
      "align_content": null,
      "align_items": null,
      "align_self": null,
      "border": null,
      "bottom": null,
      "display": null,
      "flex": null,
      "flex_flow": null,
      "grid_area": null,
      "grid_auto_columns": null,
      "grid_auto_flow": null,
      "grid_auto_rows": null,
      "grid_column": null,
      "grid_gap": null,
      "grid_row": null,
      "grid_template_areas": null,
      "grid_template_columns": null,
      "grid_template_rows": null,
      "height": null,
      "justify_content": null,
      "justify_items": null,
      "left": null,
      "margin": null,
      "max_height": null,
      "max_width": null,
      "min_height": null,
      "min_width": null,
      "object_fit": null,
      "object_position": null,
      "order": null,
      "overflow": null,
      "overflow_x": null,
      "overflow_y": null,
      "padding": null,
      "right": null,
      "top": null,
      "visibility": null,
      "width": null
     }
    },
    "e4c9b756b1d74f5c87a8c2dbbf9c801d": {
     "model_module": "@jupyter-widgets/controls",
     "model_module_version": "1.5.0",
     "model_name": "FloatProgressModel",
     "state": {
      "_dom_classes": [],
      "_model_module": "@jupyter-widgets/controls",
      "_model_module_version": "1.5.0",
      "_model_name": "FloatProgressModel",
      "_view_count": null,
      "_view_module": "@jupyter-widgets/controls",
      "_view_module_version": "1.5.0",
      "_view_name": "ProgressView",
      "bar_style": "success",
      "description": "",
      "description_tooltip": null,
      "layout": "IPY_MODEL_be86a1a4f40242ce90e7c3d97fc8404a",
      "max": 202,
      "min": 0,
      "orientation": "horizontal",
      "style": "IPY_MODEL_879adf96f3e04964b50d85886ef0bc2c",
      "value": 202
     }
    },
    "f053d0f3ed17477091762c2d4d539115": {
     "model_module": "@jupyter-widgets/controls",
     "model_module_version": "1.5.0",
     "model_name": "FloatProgressModel",
     "state": {
      "_dom_classes": [],
      "_model_module": "@jupyter-widgets/controls",
      "_model_module_version": "1.5.0",
      "_model_name": "FloatProgressModel",
      "_view_count": null,
      "_view_module": "@jupyter-widgets/controls",
      "_view_module_version": "1.5.0",
      "_view_name": "ProgressView",
      "bar_style": "success",
      "description": "",
      "description_tooltip": null,
      "layout": "IPY_MODEL_dfc0eead39bc4a59b2e7dc598faed8cc",
      "max": 4,
      "min": 0,
      "orientation": "horizontal",
      "style": "IPY_MODEL_f067048fe2f34fd897fc612f4f969105",
      "value": 4
     }
    },
    "f067048fe2f34fd897fc612f4f969105": {
     "model_module": "@jupyter-widgets/controls",
     "model_module_version": "1.5.0",
     "model_name": "ProgressStyleModel",
     "state": {
      "_model_module": "@jupyter-widgets/controls",
      "_model_module_version": "1.5.0",
      "_model_name": "ProgressStyleModel",
      "_view_count": null,
      "_view_module": "@jupyter-widgets/base",
      "_view_module_version": "1.2.0",
      "_view_name": "StyleView",
      "bar_color": null,
      "description_width": ""
     }
    },
    "f15ee32c08744c4bb779b5ee7591cd22": {
     "model_module": "@jupyter-widgets/controls",
     "model_module_version": "1.5.0",
     "model_name": "DescriptionStyleModel",
     "state": {
      "_model_module": "@jupyter-widgets/controls",
      "_model_module_version": "1.5.0",
      "_model_name": "DescriptionStyleModel",
      "_view_count": null,
      "_view_module": "@jupyter-widgets/base",
      "_view_module_version": "1.2.0",
      "_view_name": "StyleView",
      "description_width": ""
     }
    }
   }
  }
 },
 "nbformat": 4,
 "nbformat_minor": 4
}
