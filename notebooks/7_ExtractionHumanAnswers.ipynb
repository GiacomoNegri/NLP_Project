{
 "cells": [
  {
   "cell_type": "code",
   "execution_count": 20,
   "metadata": {
    "colab": {
     "base_uri": "https://localhost:8080/"
    },
    "id": "RbHwwDEUe0ss",
    "outputId": "bf65eef9-7d4d-477f-a754-7af33841b031"
   },
   "outputs": [
    {
     "name": "stderr",
     "output_type": "stream",
     "text": [
      "[nltk_data] Downloading package stopwords to\n",
      "[nltk_data]     C:\\Users\\Lenovo\\AppData\\Roaming\\nltk_data...\n",
      "[nltk_data]   Package stopwords is already up-to-date!\n",
      "[nltk_data] Downloading package wordnet to\n",
      "[nltk_data]     C:\\Users\\Lenovo\\AppData\\Roaming\\nltk_data...\n",
      "[nltk_data]   Package wordnet is already up-to-date!\n",
      "[nltk_data] Downloading package omw-1.4 to\n",
      "[nltk_data]     C:\\Users\\Lenovo\\AppData\\Roaming\\nltk_data...\n",
      "[nltk_data]   Package omw-1.4 is already up-to-date!\n"
     ]
    },
    {
     "data": {
      "text/plain": [
       "True"
      ]
     },
     "execution_count": 20,
     "metadata": {},
     "output_type": "execute_result"
    }
   ],
   "source": [
    "import pandas as pd\n",
    "import numpy as np\n",
    "import ast\n",
    "import matplotlib.pyplot as plt\n",
    "import seaborn as sns\n",
    "\n",
    "import re\n",
    "import nltk\n",
    "from nltk.corpus import stopwords\n",
    "from nltk.stem import WordNetLemmatizer\n",
    "\n",
    "from sklearn.feature_extraction.text import TfidfVectorizer, CountVectorizer\n",
    "\n",
    "from sklearn.metrics import classification_report, accuracy_score, confusion_matrix\n",
    "\n",
    "nltk.download('stopwords')\n",
    "nltk.download('wordnet')\n",
    "nltk.download('omw-1.4')"
   ]
  },
  {
   "cell_type": "code",
   "execution_count": 2,
   "metadata": {
    "id": "3hK2EpRBe2wM"
   },
   "outputs": [],
   "source": [
    "df=pd.read_csv('../datasets/llm_bert_clusters.csv')"
   ]
  },
  {
   "cell_type": "code",
   "execution_count": 3,
   "metadata": {
    "colab": {
     "base_uri": "https://localhost:8080/"
    },
    "id": "BlmTTn-fhDOO",
    "outputId": "98a3acf1-ed5f-4505-f016-b47c485ce332"
   },
   "outputs": [
    {
     "data": {
      "text/plain": [
       "(25098, 11)"
      ]
     },
     "execution_count": 3,
     "metadata": {},
     "output_type": "execute_result"
    }
   ],
   "source": [
    "df.shape"
   ]
  },
  {
   "cell_type": "code",
   "execution_count": 4,
   "metadata": {
    "id": "y7bwM6nLfE1U"
   },
   "outputs": [],
   "source": [
    "df=df[df['naed']!=0]"
   ]
  },
  {
   "cell_type": "code",
   "execution_count": 5,
   "metadata": {
    "colab": {
     "base_uri": "https://localhost:8080/",
     "height": 335
    },
    "id": "-3GNbUeqhJ6b",
    "outputId": "15916297-6fd9-4a16-d8e3-8f6c05eedb36"
   },
   "outputs": [
    {
     "data": {
      "text/plain": [
       "naed\n",
       "2    5253\n",
       "5    4177\n",
       "4    4075\n",
       "7    3827\n",
       "1    3747\n",
       "3    1845\n",
       "6    1818\n",
       "Name: count, dtype: int64"
      ]
     },
     "execution_count": 5,
     "metadata": {},
     "output_type": "execute_result"
    }
   ],
   "source": [
    "df['naed'].value_counts()"
   ]
  },
  {
   "cell_type": "code",
   "execution_count": 6,
   "metadata": {
    "colab": {
     "base_uri": "https://localhost:8080/"
    },
    "id": "ga2dZnbGhGTk",
    "outputId": "53d1fcc0-7205-4374-99d5-ab37deff4a4b"
   },
   "outputs": [
    {
     "data": {
      "text/plain": [
       "(24742, 11)"
      ]
     },
     "execution_count": 6,
     "metadata": {},
     "output_type": "execute_result"
    }
   ],
   "source": [
    "df.shape"
   ]
  },
  {
   "cell_type": "markdown",
   "metadata": {
    "id": "LB3FBmXrx4nr"
   },
   "source": [
    "# Checking Human Labeling"
   ]
  },
  {
   "cell_type": "code",
   "execution_count": 8,
   "metadata": {
    "id": "m4ezWmvKx4AX"
   },
   "outputs": [],
   "source": [
    "labeled=pd.read_csv('../datasets/human_labelling.csv')"
   ]
  },
  {
   "cell_type": "code",
   "execution_count": 9,
   "metadata": {
    "id": "Pj-tAv2dywgA"
   },
   "outputs": [],
   "source": [
    "labeled=labeled[['Unnamed: 0', 'title', 'NER_list', 'filtered_verbs', 'HumanLabelling']]"
   ]
  },
  {
   "cell_type": "code",
   "execution_count": 11,
   "metadata": {
    "colab": {
     "base_uri": "https://localhost:8080/"
    },
    "id": "b47ATyMREjsp",
    "outputId": "d3369fda-9af1-40c3-feea-74b554eba822"
   },
   "outputs": [
    {
     "data": {
      "text/plain": [
       "Index(['Unnamed: 0', 'title', 'NER_list', 'filtered_verbs', 'umap_x', 'umap_y',\n",
       "       'dish_type_response', 'naed', 'naed_label', 'hier', 'hier_label'],\n",
       "      dtype='object')"
      ]
     },
     "execution_count": 11,
     "metadata": {},
     "output_type": "execute_result"
    }
   ],
   "source": [
    "df.columns"
   ]
  },
  {
   "cell_type": "code",
   "execution_count": 12,
   "metadata": {
    "id": "pV8kLZtXzKZU"
   },
   "outputs": [],
   "source": [
    "merged = pd.merge(labeled, df, left_on='title', right_on='title', how='left')"
   ]
  },
  {
   "cell_type": "code",
   "execution_count": 13,
   "metadata": {
    "colab": {
     "base_uri": "https://localhost:8080/"
    },
    "id": "_dLHyRFUEpIf",
    "outputId": "732f31df-39d8-4160-8816-761be0266e85"
   },
   "outputs": [
    {
     "data": {
      "text/plain": [
       "(1000, 15)"
      ]
     },
     "execution_count": 13,
     "metadata": {},
     "output_type": "execute_result"
    }
   ],
   "source": [
    "merged.shape"
   ]
  },
  {
   "cell_type": "code",
   "execution_count": 14,
   "metadata": {
    "id": "g6BYSvojz3qB"
   },
   "outputs": [],
   "source": [
    "merged.rename(columns={'HumanLabelling':'humanlabeling'},inplace=True)\n",
    "merged=merged[~merged['humanlabeling'].isna()]"
   ]
  },
  {
   "cell_type": "code",
   "execution_count": 30,
   "metadata": {
    "id": "XgOFAwXhXAq4"
   },
   "outputs": [],
   "source": [
    "merged.to_csv(\"../datasets/llm_clusters_human.csv\")"
   ]
  },
  {
   "cell_type": "markdown",
   "metadata": {
    "id": "VvyIRyO4HMWs"
   },
   "source": [
    "### LLM"
   ]
  },
  {
   "cell_type": "code",
   "execution_count": 17,
   "metadata": {
    "colab": {
     "base_uri": "https://localhost:8080/"
    },
    "id": "RnmHIzKJ0Azq",
    "outputId": "030b69b0-685d-43bf-b4b0-878b9203997e"
   },
   "outputs": [
    {
     "name": "stdout",
     "output_type": "stream",
     "text": [
      "HumanLabels   1    2   3    4    5   6    7\n",
      "LLM                                        \n",
      "1            74   43   3   15   10   0   10\n",
      "2             4  183  13    6    3   0    0\n",
      "3             0   11  46    9    2   0    0\n",
      "4             5    6   9  111   24   1    6\n",
      "5            11    6   2   12  131   3   22\n",
      "6             0    3   1   13    7  36    5\n",
      "7             1    3   1    9   11   7  122\n"
     ]
    }
   ],
   "source": [
    "confusion_df = pd.crosstab(merged['naed'], merged['humanlabeling'], rownames=['LLM'], colnames=['HumanLabels'])\n",
    "print(confusion_df)"
   ]
  },
  {
   "cell_type": "code",
   "execution_count": 18,
   "metadata": {
    "colab": {
     "base_uri": "https://localhost:8080/"
    },
    "id": "8dpoPZ6s1NSb",
    "outputId": "db017a98-9276-4869-82c2-a061fc139580"
   },
   "outputs": [
    {
     "name": "stdout",
     "output_type": "stream",
     "text": [
      "0\n",
      "0\n"
     ]
    }
   ],
   "source": [
    "print(merged['naed'].isna().sum())\n",
    "print(merged['humanlabeling'].isna().sum())"
   ]
  },
  {
   "cell_type": "code",
   "execution_count": 25,
   "metadata": {
    "colab": {
     "base_uri": "https://localhost:8080/",
     "height": 607
    },
    "id": "cJBjM8j_0hxb",
    "outputId": "6d138059-0aae-4d34-c979-e45f2600ba55"
   },
   "outputs": [
    {
     "data": {
      "image/png": "[encoded data removed]",
      "text/plain": [
       "<Figure size 800x600 with 2 Axes>"
      ]
     },
     "metadata": {},
     "output_type": "display_data"
    }
   ],
   "source": [
    "plt.figure(figsize=(8, 6))\n",
    "sns.heatmap(confusion_df, annot=True, fmt='d', cmap='YlGnBu', linewidths=0.5, linecolor='gray')\n",
    "plt.xlabel('Human label', fontsize=12)\n",
    "plt.ylabel('LLM labels', fontsize=12)\n",
    "plt.tight_layout()\n",
    "plt.savefig('../images/conf_matrix_llm_human.png')\n",
    "plt.show()"
   ]
  },
  {
   "cell_type": "code",
   "execution_count": 21,
   "metadata": {
    "id": "AhRhQ-ZxHXbk"
   },
   "outputs": [],
   "source": [
    "# drop nans\n",
    "filtered = merged.dropna(subset=['naed', 'humanlabeling'])\n",
    "\n",
    "y_true = filtered['humanlabeling'].astype(int)\n",
    "y_pred = filtered['naed'].astype(int)"
   ]
  },
  {
   "cell_type": "code",
   "execution_count": 22,
   "metadata": {
    "colab": {
     "base_uri": "https://localhost:8080/"
    },
    "id": "CjOuCBXeHaRH",
    "outputId": "703130eb-b0a1-4200-b539-ae5f3e1c4e58"
   },
   "outputs": [
    {
     "name": "stdout",
     "output_type": "stream",
     "text": [
      "Accuracy: 0.703\n",
      "              precision    recall  f1-score   support\n",
      "\n",
      "           1      0.477     0.779     0.592        95\n",
      "           2      0.876     0.718     0.789       255\n",
      "           3      0.676     0.613     0.643        75\n",
      "           4      0.685     0.634     0.659       175\n",
      "           5      0.701     0.697     0.699       188\n",
      "           6      0.554     0.766     0.643        47\n",
      "           7      0.792     0.739     0.765       165\n",
      "\n",
      "    accuracy                          0.703      1000\n",
      "   macro avg      0.680     0.707     0.684      1000\n",
      "weighted avg      0.728     0.703     0.709      1000\n",
      "\n"
     ]
    }
   ],
   "source": [
    "# Accuracy\n",
    "print(\"Accuracy:\", accuracy_score(y_true, y_pred))\n",
    "\n",
    "# Precision, recall, F1-score per class\n",
    "report = classification_report(y_true, y_pred, digits=3)\n",
    "print(report)"
   ]
  },
  {
   "cell_type": "markdown",
   "metadata": {
    "id": "2Q9x-zTbHFAX"
   },
   "source": [
    "### BERT"
   ]
  },
  {
   "cell_type": "code",
   "execution_count": 23,
   "metadata": {
    "colab": {
     "base_uri": "https://localhost:8080/"
    },
    "id": "ENSjQnx42FqL",
    "outputId": "c6f794ce-57b6-428a-aa5b-b72f0a2d1b9e"
   },
   "outputs": [
    {
     "name": "stdout",
     "output_type": "stream",
     "text": [
      "HumanLabels   1    2   3   4    5   6   7\n",
      "BERT                                     \n",
      "1            48  118   3   6    4   0   0\n",
      "2             7  107  19   8    3   0   0\n",
      "3             5   20  37  18    2   0   3\n",
      "4             1    1   5  73    8   2   9\n",
      "5            29    5   6  33  112  10  27\n",
      "6             3    2   2  20   45  34  27\n",
      "7             2    2   3  17   14   1  99\n"
     ]
    }
   ],
   "source": [
    "confusion_df = pd.crosstab(merged['hier'], merged['humanlabeling'], rownames=['BERT'], colnames=['HumanLabels'])\n",
    "print(confusion_df)"
   ]
  },
  {
   "cell_type": "code",
   "execution_count": 26,
   "metadata": {
    "colab": {
     "base_uri": "https://localhost:8080/",
     "height": 607
    },
    "id": "XZQAAmLu2PeG",
    "outputId": "fa89dead-dfa0-48eb-8df8-b5d092e4aea5"
   },
   "outputs": [
    {
     "data": {
      "image/png": "[encoded data removed]",
      "text/plain": [
       "<Figure size 800x600 with 2 Axes>"
      ]
     },
     "metadata": {},
     "output_type": "display_data"
    }
   ],
   "source": [
    "plt.figure(figsize=(8, 6))\n",
    "sns.heatmap(confusion_df, annot=True, fmt='d', cmap='YlGnBu', linewidths=0.5, linecolor='gray')\n",
    "plt.xlabel('BERT labels', fontsize=12)\n",
    "plt.ylabel('Human label', fontsize=12)\n",
    "plt.tight_layout()\n",
    "plt.savefig('../images/conf_matrix_bert_human.png')\n",
    "plt.show()\n"
   ]
  },
  {
   "cell_type": "code",
   "execution_count": 27,
   "metadata": {
    "id": "VzzIOs0gH3zL"
   },
   "outputs": [],
   "source": [
    "filtered = merged.dropna(subset=['naed', 'hier'])\n",
    "y_true = filtered['humanlabeling'].astype(int)\n",
    "y_pred = filtered['hier'].astype(int)"
   ]
  },
  {
   "cell_type": "code",
   "execution_count": 28,
   "metadata": {
    "colab": {
     "base_uri": "https://localhost:8080/"
    },
    "id": "7rUB-6M9H6Yu",
    "outputId": "d47f2e54-51ea-4617-9f41-611376aaee3a"
   },
   "outputs": [
    {
     "name": "stdout",
     "output_type": "stream",
     "text": [
      "Accuracy: 0.51\n",
      "              precision    recall  f1-score   support\n",
      "\n",
      "           1      0.268     0.505     0.350        95\n",
      "           2      0.743     0.420     0.536       255\n",
      "           3      0.435     0.493     0.463        75\n",
      "           4      0.737     0.417     0.533       175\n",
      "           5      0.505     0.596     0.546       188\n",
      "           6      0.256     0.723     0.378        47\n",
      "           7      0.717     0.600     0.653       165\n",
      "\n",
      "    accuracy                          0.510      1000\n",
      "   macro avg      0.523     0.536     0.494      1000\n",
      "weighted avg      0.602     0.510     0.526      1000\n",
      "\n"
     ]
    }
   ],
   "source": [
    "# accuracy\n",
    "print(\"Accuracy:\", accuracy_score(y_true, y_pred))\n",
    "\n",
    "report = classification_report(y_true, y_pred, digits=3)\n",
    "print(report)"
   ]
  },
  {
   "cell_type": "code",
   "execution_count": null,
   "metadata": {
    "id": "HwNPntbc5Bqr"
   },
   "outputs": [],
   "source": [
    "trial=merged.copy()"
   ]
  },
  {
   "cell_type": "code",
   "execution_count": null,
   "metadata": {
    "colab": {
     "base_uri": "https://localhost:8080/"
    },
    "id": "nQsvdZuN5buo",
    "outputId": "8e63d37f-02be-4466-adac-c6c862ce9670"
   },
   "outputs": [
    {
     "data": {
      "text/plain": [
       "Index(['Unnamed: 0_x', 'title_x', 'NER_list_x', 'filtered_verbs_x',\n",
       "       'humanlabeling', 'Unnamed: 0.1', 'Unnamed: 0_y', 'title_y',\n",
       "       'ingredients', 'directions', 'link', 'source', 'NER', 'NER_list_y',\n",
       "       'NER_len', 'directions_len', 'title_lower', 'NER_clean',\n",
       "       'ingredients_str', 'cluster', 'verbs', 'lemmed_verbs',\n",
       "       'filtered_verbs_y', 'set_verbs', 'clean_direction', 'pairs',\n",
       "       'pairs_set', 'umap_x', 'umap_y', 'cluster_hier', 'cluster_label',\n",
       "       'text_snippet', 'dish_type_response', 'naed', 'naed_label',\n",
       "       'hier_label', 'map_naed'],\n",
       "      dtype='object')"
      ]
     },
     "execution_count": 47,
     "metadata": {},
     "output_type": "execute_result"
    }
   ],
   "source": [
    "trial.columns"
   ]
  },
  {
   "cell_type": "code",
   "execution_count": null,
   "metadata": {
    "id": "FzUn0Rgs5Qzi"
   },
   "outputs": [],
   "source": [
    "trial=trial[(trial['naed']==2) & (trial['humanlabeling']==5)][['Unnamed: 0_x','title_x','NER_list_x','naed','humanlabeling']]"
   ]
  },
  {
   "cell_type": "code",
   "execution_count": null,
   "metadata": {
    "colab": {
     "base_uri": "https://localhost:8080/"
    },
    "id": "uxnyqGRn5iqH",
    "outputId": "436e0961-16d0-4075-e2fe-b36d8280500e"
   },
   "outputs": [
    {
     "name": "stdout",
     "output_type": "stream",
     "text": [
      "     Unnamed: 0_x                                            title_x  \\\n",
      "13          16690                Noodles And Shredded Herbed Carrots   \n",
      "22           9240                                       Filbert Yams   \n",
      "35           9762                   From Italy: Easy Pasta Carbonara   \n",
      "41          11103  Green Mountain Rice(From Marcliff Poultry Farm...   \n",
      "60          12829                     Jean'S Quick 'N Easy Casserole   \n",
      "73           8366          Easy Lasagna with Mushrooms & White Sauce   \n",
      "115         13805                     Lemon-Chili Chicken With Penne   \n",
      "123         23606                      Tortellini Sauce-Tomato Based   \n",
      "141         10319   Glazed Carrots With Maple Syrup And Sesame Seeds   \n",
      "183         22248                           Stuffed Monster Zucchini   \n",
      "222         11043                                 Green Bean Special   \n",
      "233         16602                     No More Plain Jane Green Beans   \n",
      "240           527                          Airport Bob'S Green Beans   \n",
      "247         23233                    The Realtor'S Cream Cheese Corn   \n",
      "291         22124           Stir-fried Eggplant and Shishito Peppers   \n",
      "295          5410                                   Chinese Choupsey   \n",
      "296         16371                         Nancy'S Zucchini Casserole   \n",
      "299         13671                           Leftover Ham And Noodles   \n",
      "302         13623                              Lazy Sunday Casserole   \n",
      "308          7779                      Diane Peyton'S Rhubarb Water    \n",
      "311          2569                               Beef Noodle Marzetti   \n",
      "317          2393               Basil, Squash, And Tomato Pasta Toss   \n",
      "349         11971                                Homemade Cavatellis   \n",
      "393         13824                               Lemon-Pepper Polenta   \n",
      "397          9182                               Fettuccine Pepperoni   \n",
      "401         17939                                  Penne Pesto Pollo   \n",
      "453         15308                    Mexican Vegetables On Cornbread   \n",
      "459          6003                        Classic Maccaroni & Cheese    \n",
      "463         22096                         Stewed Potatoes - Potatoes   \n",
      "487         18941                               Quiche Aux Crevettes   \n",
      "\n",
      "                                            NER_list_x  naed  humanlabeling  \n",
      "13   ['egg noodles' 'butter' 'carrots' 'parsley' 's...   2.0            5.0  \n",
      "22   ['yams' 'honey' 'margarine' 'lemon juice' 'nut...   2.0            5.0  \n",
      "35   ['bacon' 'egg' 'parmesan cheese' 'black pepper...   2.0            5.0  \n",
      "41   ['onion' 'butter' 'cream cheese' 'salt' 'peppe...   2.0            5.0  \n",
      "60   ['tortilla chips' 'beans' 'ground beef' 'shred...   2.0            5.0  \n",
      "73   ['oil' 'onion' 'mushrooms' 'condensed cream' '...   2.0            5.0  \n",
      "115  ['penne' 'chicken breast' 'olive oil' 'onion' ...   2.0            5.0  \n",
      "123  ['bacon' 'onion' 'mushrooms' 'tomatoes' 'chick...   2.0            5.0  \n",
      "141  ['carrot' 'butter' 'honey' 'salt' 'water' 'ses...   2.0            5.0  \n",
      "183  ['zucchini' 'rice' 'lentils' 'celery' 'onions'...   2.0            5.0  \n",
      "222  ['bacon' 'clove garlic' 'onion' 'green pepper'...   2.0            5.0  \n",
      "233  ['green beans' 'olive oil' 'lemon juice' 'garl...   2.0            5.0  \n",
      "240                   ['bacon' 'butter' 'brown sugar']   2.0            5.0  \n",
      "247    ['corn kernels' 'butter' 'cream cheese' 'salt']   2.0            5.0  \n",
      "291  ['eggplants' 'peppers' 'garlic' 'sesame oil' '...   2.0            5.0  \n",
      "295  ['noodles' 'cabbage' 'carrot' 'red bell pepper...   2.0            5.0  \n",
      "296  ['cream of chicken soup' 'sour cream' 'carrots...   2.0            5.0  \n",
      "299  ['ham' 'ground black pepper' 'clove garlic' 'w...   2.0            5.0  \n",
      "302  ['stew meat' 'red wine' 'bread crumbs' 'flour'...   2.0            5.0  \n",
      "308                        ['rhubarb' 'water' 'sugar']   2.0            5.0  \n",
      "311  ['egg noodles' 'lean ground beef' 'green peppe...   2.0            5.0  \n",
      "317  ['chicken' 'water' 'extra-virgin olive oil' 's...   2.0            5.0  \n",
      "349                 ['flour' 'boiling water' 'butter']   2.0            5.0  \n",
      "393  ['milk' 'water' 'yellow cornmeal' 'lemon zest'...   2.0            5.0  \n",
      "397  ['fettuccine' 'pepperoni' 'butter' 'mushroom s...   2.0            5.0  \n",
      "401  ['penne pasta' 'vegetable oil' 'chicken breast...   2.0            5.0  \n",
      "453  ['vegetable oil' 'onions' 'garlic' 'carrots' '...   2.0            5.0  \n",
      "459                                           ['salt']   2.0            5.0  \n",
      "463  ['white potatoes' 'butter' 'salt' 'pepper' 'wa...   2.0            5.0  \n",
      "487  ['shell' 'shrimp' 'light cream' 'swiss cheese'...   2.0            5.0  \n"
     ]
    }
   ],
   "source": [
    "print(trial)"
   ]
  }
 ],
 "metadata": {
  "colab": {
   "provenance": []
  },
  "kernelspec": {
   "display_name": "Python 3 (ipykernel)",
   "language": "python",
   "name": "python3"
  },
  "language_info": {
   "codemirror_mode": {
    "name": "ipython",
    "version": 3
   },
   "file_extension": ".py",
   "mimetype": "text/x-python",
   "name": "python",
   "nbconvert_exporter": "python",
   "pygments_lexer": "ipython3",
   "version": "3.12.7"
  }
 },
 "nbformat": 4,
 "nbformat_minor": 4
}
