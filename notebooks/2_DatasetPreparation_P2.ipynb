{
 "cells": [
  {
   "cell_type": "markdown",
   "metadata": {
    "id": "OboVLkXkbMPJ"
   },
   "source": [
    "# Installing the needed packages"
   ]
  },
  {
   "cell_type": "code",
   "execution_count": 32,
   "metadata": {
    "colab": {
     "base_uri": "https://localhost:8080/"
    },
    "executionInfo": {
     "elapsed": 4256,
     "status": "ok",
     "timestamp": 1747574641928,
     "user": {
      "displayName": "Giacomo Negri",
      "userId": "14779197913857683755"
     },
     "user_tz": -120
    },
    "id": "EcukIaOMFn-m",
    "outputId": "01dd725d-c7e4-4f8f-812b-8fd0d576a24a"
   },
   "outputs": [
    {
     "name": "stdout",
     "output_type": "stream",
     "text": [
      "Requirement already satisfied: unidecode in c:\\users\\lenovo\\anaconda3\\envs\\myenv\\lib\\site-packages (1.3.8)\n"
     ]
    }
   ],
   "source": [
    "!pip install unidecode"
   ]
  },
  {
   "cell_type": "markdown",
   "metadata": {
    "id": "MNYiWpqhbP-p"
   },
   "source": [
    "# Importing libraries and necessary downloads"
   ]
  },
  {
   "cell_type": "code",
   "execution_count": 33,
   "metadata": {
    "colab": {
     "base_uri": "https://localhost:8080/"
    },
    "executionInfo": {
     "elapsed": 8599,
     "status": "ok",
     "timestamp": 1747574650541,
     "user": {
      "displayName": "Giacomo Negri",
      "userId": "14779197913857683755"
     },
     "user_tz": -120
    },
    "id": "sHPJhcrBuaGR",
    "outputId": "960fe8ce-c17a-40e3-abee-9ade415ee93d"
   },
   "outputs": [
    {
     "name": "stderr",
     "output_type": "stream",
     "text": [
      "[nltk_data] Downloading package punkt_tab to\n",
      "[nltk_data]     C:\\Users\\Lenovo\\AppData\\Roaming\\nltk_data...\n",
      "[nltk_data]   Package punkt_tab is already up-to-date!\n",
      "[nltk_data] Downloading package averaged_perceptron_tagger_eng to\n",
      "[nltk_data]     C:\\Users\\Lenovo\\AppData\\Roaming\\nltk_data...\n",
      "[nltk_data]   Package averaged_perceptron_tagger_eng is already up-to-\n",
      "[nltk_data]       date!\n",
      "[nltk_data] Downloading package stopwords to\n",
      "[nltk_data]     C:\\Users\\Lenovo\\AppData\\Roaming\\nltk_data...\n",
      "[nltk_data]   Package stopwords is already up-to-date!\n",
      "[nltk_data] Downloading package wordnet to\n",
      "[nltk_data]     C:\\Users\\Lenovo\\AppData\\Roaming\\nltk_data...\n",
      "[nltk_data]   Package wordnet is already up-to-date!\n",
      "[nltk_data] Downloading package omw-1.4 to\n",
      "[nltk_data]     C:\\Users\\Lenovo\\AppData\\Roaming\\nltk_data...\n",
      "[nltk_data]   Package omw-1.4 is already up-to-date!\n"
     ]
    },
    {
     "data": {
      "text/plain": [
       "True"
      ]
     },
     "execution_count": 33,
     "metadata": {},
     "output_type": "execute_result"
    }
   ],
   "source": [
    "import pandas as pd\n",
    "import numpy as np\n",
    "import string\n",
    "import ast\n",
    "\n",
    "import re\n",
    "from unidecode import unidecode\n",
    "import nltk\n",
    "from nltk.corpus import stopwords\n",
    "from nltk.stem import WordNetLemmatizer\n",
    "from nltk import word_tokenize, pos_tag\n",
    "\n",
    "from collections import Counter\n",
    "from sklearn.feature_extraction.text import CountVectorizer, TfidfVectorizer\n",
    "from sklearn.cluster import KMeans\n",
    "from sklearn.decomposition import PCA\n",
    "\n",
    "\n",
    "nltk.download(\"punkt_tab\")\n",
    "nltk.download(\"averaged_perceptron_tagger_eng\")\n",
    "nltk.download('stopwords')\n",
    "nltk.download('wordnet')\n",
    "nltk.download('omw-1.4')"
   ]
  },
  {
   "cell_type": "code",
   "execution_count": 34,
   "metadata": {
    "executionInfo": {
     "elapsed": 12960,
     "status": "ok",
     "timestamp": 1747574705801,
     "user": {
      "displayName": "Giacomo Negri",
      "userId": "14779197913857683755"
     },
     "user_tz": -120
    },
    "id": "3unS518kubGd"
   },
   "outputs": [],
   "source": [
    "df=pd.read_csv(\"../datasets/reduced_dataset.csv\")"
   ]
  },
  {
   "cell_type": "code",
   "execution_count": 35,
   "metadata": {
    "colab": {
     "base_uri": "https://localhost:8080/"
    },
    "executionInfo": {
     "elapsed": 11,
     "status": "ok",
     "timestamp": 1747574705816,
     "user": {
      "displayName": "Giacomo Negri",
      "userId": "14779197913857683755"
     },
     "user_tz": -120
    },
    "id": "X5dBqI9_xzzP",
    "outputId": "eb0e0138-ac67-4d99-f588-a2db6dabdda7"
   },
   "outputs": [
    {
     "data": {
      "text/plain": [
       "(298331, 11)"
      ]
     },
     "execution_count": 35,
     "metadata": {},
     "output_type": "execute_result"
    }
   ],
   "source": [
    "df.shape"
   ]
  },
  {
   "cell_type": "markdown",
   "metadata": {
    "id": "Z7j4tzofbX0g"
   },
   "source": [
    "We are redefining the `NER_list` as a list of ingredients instead of a string."
   ]
  },
  {
   "cell_type": "code",
   "execution_count": 36,
   "metadata": {
    "executionInfo": {
     "elapsed": 6892,
     "status": "ok",
     "timestamp": 1747574712706,
     "user": {
      "displayName": "Giacomo Negri",
      "userId": "14779197913857683755"
     },
     "user_tz": -120
    },
    "id": "0mv0heWYu0R6"
   },
   "outputs": [],
   "source": [
    "df['NER_list']=df['NER'].apply(lambda x: ast.literal_eval(x.lower()))"
   ]
  },
  {
   "cell_type": "markdown",
   "metadata": {
    "id": "i-nW9Ciabhiz"
   },
   "source": [
    "We are cleaning the ingredients by removing punctuations, and words/letter that have a length inferior to 2 in a composite ingredients. For instance, `a fish`, would be transform into `fish`."
   ]
  },
  {
   "cell_type": "code",
   "execution_count": 37,
   "metadata": {
    "executionInfo": {
     "elapsed": 44,
     "status": "ok",
     "timestamp": 1747574712751,
     "user": {
      "displayName": "Giacomo Negri",
      "userId": "14779197913857683755"
     },
     "user_tz": -120
    },
    "id": "g9OYDeCUvT9M"
   },
   "outputs": [],
   "source": [
    "STOPWORDS = set(stopwords.words('english'))\n",
    "\n",
    "def clean_ingredient_list(ingredient_list):\n",
    "    cleaned = []\n",
    "    for item in ingredient_list:\n",
    "        item_clean = item.lower().translate(str.maketrans('', '', string.punctuation)).strip()\n",
    "\n",
    "        words = item_clean.split()\n",
    "        filtered_words = [w for w in words if w not in STOPWORDS and len(w) > 2]\n",
    "        \n",
    "        if filtered_words:\n",
    "            cleaned.append(' '.join(filtered_words))\n",
    "    return cleaned"
   ]
  },
  {
   "cell_type": "code",
   "execution_count": 38,
   "metadata": {
    "executionInfo": {
     "elapsed": 10135,
     "status": "ok",
     "timestamp": 1747574722888,
     "user": {
      "displayName": "Giacomo Negri",
      "userId": "14779197913857683755"
     },
     "user_tz": -120
    },
    "id": "8PabXCRxv-Wc"
   },
   "outputs": [],
   "source": [
    "df['NER_clean']=df['NER_list'].apply(clean_ingredient_list)"
   ]
  },
  {
   "cell_type": "markdown",
   "metadata": {
    "id": "eFoqBwgVb_c1"
   },
   "source": [
    "Taking the absolute frequencies of ingredienst through `Counter`."
   ]
  },
  {
   "cell_type": "code",
   "execution_count": 39,
   "metadata": {
    "executionInfo": {
     "elapsed": 562,
     "status": "ok",
     "timestamp": 1747574723446,
     "user": {
      "displayName": "Giacomo Negri",
      "userId": "14779197913857683755"
     },
     "user_tz": -120
    },
    "id": "4m6XRf2iwEkS"
   },
   "outputs": [],
   "source": [
    "all_ingredients = [ingredient for sublist in df['NER_clean'] for ingredient in sublist]\n",
    "# Counting frequencies\n",
    "ingredient_counts = Counter(all_ingredients)\n",
    "total = sum(ingredient_counts.values())\n",
    "\n",
    "sorted_ingredients = ingredient_counts.most_common()"
   ]
  },
  {
   "cell_type": "markdown",
   "metadata": {
    "id": "2hw01h_HcncN"
   },
   "source": [
    "Total number of unique ingredients."
   ]
  },
  {
   "cell_type": "code",
   "execution_count": 40,
   "metadata": {
    "colab": {
     "base_uri": "https://localhost:8080/"
    },
    "executionInfo": {
     "elapsed": 4,
     "status": "ok",
     "timestamp": 1747574723452,
     "user": {
      "displayName": "Giacomo Negri",
      "userId": "14779197913857683755"
     },
     "user_tz": -120
    },
    "id": "Pc3ySWkQzMCl",
    "outputId": "744277db-6626-438f-8305-474907f74da5"
   },
   "outputs": [
    {
     "data": {
      "text/plain": [
       "57579"
      ]
     },
     "execution_count": 40,
     "metadata": {},
     "output_type": "execute_result"
    }
   ],
   "source": [
    "len(ingredient_counts)"
   ]
  },
  {
   "cell_type": "code",
   "execution_count": 41,
   "metadata": {
    "colab": {
     "base_uri": "https://localhost:8080/"
    },
    "executionInfo": {
     "elapsed": 4,
     "status": "ok",
     "timestamp": 1747574723458,
     "user": {
      "displayName": "Giacomo Negri",
      "userId": "14779197913857683755"
     },
     "user_tz": -120
    },
    "id": "p5M6_-ESeCG9",
    "outputId": "610bc2d8-0003-4ffc-baa4-d75d817e6883"
   },
   "outputs": [
    {
     "data": {
      "text/plain": [
       "[('dried italian seasoning', 1),\n",
       " ('tablspn oilve oil', 1),\n",
       " ('torn mint leaf', 1),\n",
       " ('recipe basic meatloaf', 1),\n",
       " ('nonfat alpine', 1),\n",
       " ('potatoes washed big', 1),\n",
       " ('green chili optional', 1),\n",
       " ('moreparmesan cheese', 1),\n",
       " ('fresh zuccini', 1),\n",
       " ('green zuccini', 1),\n",
       " ('eggplant black olive spread', 1),\n",
       " ('zuchinia', 1),\n",
       " ('baby spinach loosely', 1),\n",
       " ('corn hominy', 1),\n",
       " ('yellow boiling potato', 1),\n",
       " ('sour rye bread', 1),\n",
       " ('zwack', 1),\n",
       " ('recipe pizza crust', 1),\n",
       " ('zest two lemons', 1),\n",
       " ('scallions onions', 1)]"
      ]
     },
     "execution_count": 41,
     "metadata": {},
     "output_type": "execute_result"
    }
   ],
   "source": [
    "sorted_ingredients[-20:]"
   ]
  },
  {
   "cell_type": "markdown",
   "metadata": {
    "id": "5qaVuqwKcrU1"
   },
   "source": [
    "We are going to exclude all those ingredients that represent less than 10% of the overall number of ingredients by count."
   ]
  },
  {
   "cell_type": "code",
   "execution_count": 42,
   "metadata": {
    "executionInfo": {
     "elapsed": 591,
     "status": "ok",
     "timestamp": 1747574724050,
     "user": {
      "displayName": "Giacomo Negri",
      "userId": "14779197913857683755"
     },
     "user_tz": -120
    },
    "id": "kw1BJQMIzJlj"
   },
   "outputs": [],
   "source": [
    "cumulative = 0\n",
    "top_ingredients = set()\n",
    "\n",
    "for ingredient, count in sorted_ingredients:\n",
    "    cumulative += count\n",
    "    top_ingredients.add(ingredient)\n",
    "    if cumulative / total >= 0.9:\n",
    "        break\n",
    "\n",
    "# Function to check for rare ingredients\n",
    "def has_rare_ingredient(ingredients):\n",
    "    return any(ing not in top_ingredients for ing in ingredients)\n",
    "\n",
    "filtered_df = df[~df['NER_clean'].apply(has_rare_ingredient)].reset_index(drop=True)"
   ]
  },
  {
   "cell_type": "markdown",
   "metadata": {
    "id": "lM9X_vv74awB"
   },
   "source": [
    "Shape of the filtered dataframe"
   ]
  },
  {
   "cell_type": "code",
   "execution_count": 43,
   "metadata": {
    "colab": {
     "base_uri": "https://localhost:8080/"
    },
    "executionInfo": {
     "elapsed": 5,
     "status": "ok",
     "timestamp": 1747574724679,
     "user": {
      "displayName": "Giacomo Negri",
      "userId": "14779197913857683755"
     },
     "user_tz": -120
    },
    "id": "_qbR2JuLzuDL",
    "outputId": "2c47f870-12fa-4671-fa6b-18c99d32e18b"
   },
   "outputs": [
    {
     "data": {
      "text/plain": [
       "(144759, 12)"
      ]
     },
     "execution_count": 43,
     "metadata": {},
     "output_type": "execute_result"
    }
   ],
   "source": [
    "filtered_df.shape"
   ]
  },
  {
   "cell_type": "markdown",
   "metadata": {
    "id": "Tl3HLYyn4e5G"
   },
   "source": [
    "Counting frequency of the remaining ingredients after filtering for top 90%"
   ]
  },
  {
   "cell_type": "code",
   "execution_count": 44,
   "metadata": {
    "executionInfo": {
     "elapsed": 25,
     "status": "ok",
     "timestamp": 1747574724705,
     "user": {
      "displayName": "Giacomo Negri",
      "userId": "14779197913857683755"
     },
     "user_tz": -120
    },
    "id": "4rh_YbGJ0PN-"
   },
   "outputs": [],
   "source": [
    "all_ingredients_fil = [ingredient for sublist in filtered_df['NER_clean'] for ingredient in sublist]\n",
    "\n",
    "ingredient_counts = Counter(all_ingredients_fil)\n",
    "sorted_ingredients = ingredient_counts.most_common()"
   ]
  },
  {
   "cell_type": "code",
   "execution_count": 45,
   "metadata": {
    "colab": {
     "base_uri": "https://localhost:8080/"
    },
    "executionInfo": {
     "elapsed": 19,
     "status": "ok",
     "timestamp": 1747574724725,
     "user": {
      "displayName": "Giacomo Negri",
      "userId": "14779197913857683755"
     },
     "user_tz": -120
    },
    "id": "2817eYds0UDr",
    "outputId": "25c1417b-37c1-4f0c-e567-edfb1a7aa324"
   },
   "outputs": [
    {
     "data": {
      "text/plain": [
       "1460"
      ]
     },
     "execution_count": 45,
     "metadata": {},
     "output_type": "execute_result"
    }
   ],
   "source": [
    "len(ingredient_counts)"
   ]
  },
  {
   "cell_type": "code",
   "execution_count": 46,
   "metadata": {
    "id": "MZ9Ae70EGS_D"
   },
   "outputs": [],
   "source": [
    "# ingredients_df = pd.DataFrame(sorted_ingredients, columns=['ingredient', 'count'])\n",
    "\n",
    "# # Export to CSV\n",
    "# ingredients_df.to_csv('DATASET/sorted_ingredients.csv', index=True)"
   ]
  },
  {
   "cell_type": "markdown",
   "metadata": {
    "id": "aGsMrxeq4pX_"
   },
   "source": [
    "Computing the TF-IDF vectorization with the column `NER_clean`"
   ]
  },
  {
   "cell_type": "code",
   "execution_count": 47,
   "metadata": {
    "id": "8_-nzk4n2DsF"
   },
   "outputs": [],
   "source": [
    "ingredient_list = list(top_ingredients)\n",
    "\n",
    "# Join ingredients to strings to use with CountVectorizer\n",
    "filtered_df['ingredients_str'] = filtered_df['NER_clean'].apply(lambda x: ' '.join(x))\n",
    "\n",
    "# Only use frequent ingredients\n",
    "# vectorizer = CountVectorizer(vocabulary=ingredient_list, binary=True)\n",
    "vectorizer =TfidfVectorizer(vocabulary=ingredient_list, binary=True)\n",
    "X = vectorizer.fit_transform(filtered_df['ingredients_str'])\n",
    "\n",
    "# Convert to DataFrame if you want to inspect\n",
    "X_df = pd.DataFrame(X.toarray(), columns=vectorizer.get_feature_names_out())"
   ]
  },
  {
   "cell_type": "markdown",
   "metadata": {
    "id": "W01lxx7qE-Al"
   },
   "source": [
    "# Extracting the cooking method"
   ]
  },
  {
   "cell_type": "code",
   "execution_count": 52,
   "metadata": {
    "executionInfo": {
     "elapsed": 5,
     "status": "ok",
     "timestamp": 1747574726118,
     "user": {
      "displayName": "Giacomo Negri",
      "userId": "14779197913857683755"
     },
     "user_tz": -120
    },
    "id": "k1ipAkEUFI28"
   },
   "outputs": [],
   "source": [
    "def extract_verbs(text):\n",
    "  tokens=word_tokenize(text)\n",
    "  tagged=pos_tag(tokens)\n",
    "  verbs=[word for word,tag in tagged if tag.startswith('VB')]\n",
    "  return verbs"
   ]
  },
  {
   "cell_type": "code",
   "execution_count": 53,
   "metadata": {
    "executionInfo": {
     "elapsed": 9,
     "status": "ok",
     "timestamp": 1747574728406,
     "user": {
      "displayName": "Giacomo Negri",
      "userId": "14779197913857683755"
     },
     "user_tz": -120
    },
    "id": "sKQ73jB3FRc6"
   },
   "outputs": [],
   "source": [
    "def print_tag(text):\n",
    "  tokens=word_tokenize(text)\n",
    "  tagged=pos_tag(tokens)\n",
    "  verbs=[f\"{word}_{tag}\" for word,tag in tagged]\n",
    "  print(verbs)\n",
    "\n",
    "lemmatizer = WordNetLemmatizer()\n",
    "\n",
    "def advanced_preprocess(txt):\n",
    "    txt = unidecode(txt.lower())\n",
    "    txt = re.sub(r'[^a-z\\s]', ' ', txt)\n",
    "    tokens = txt.split()\n",
    "\n",
    "    tokens = [w for w in tokens if w not in STOPWORDS]\n",
    "\n",
    "    tokens = [t for t in tokens if len(t) > 2]\n",
    "\n",
    "    return \" \".join(tokens)"
   ]
  },
  {
   "cell_type": "markdown",
   "metadata": {
    "id": "EXCsXeKE69QK"
   },
   "source": [
    "Defining the set of all remaining ingredients"
   ]
  },
  {
   "cell_type": "code",
   "execution_count": 54,
   "metadata": {
    "executionInfo": {
     "elapsed": 258,
     "status": "ok",
     "timestamp": 1747574731805,
     "user": {
      "displayName": "Giacomo Negri",
      "userId": "14779197913857683755"
     },
     "user_tz": -120
    },
    "id": "pDJqS9pBLUcZ"
   },
   "outputs": [],
   "source": [
    "ingredients=set(all_ingredients_fil)"
   ]
  },
  {
   "cell_type": "markdown",
   "metadata": {
    "id": "96Hwhs6A7Ajs"
   },
   "source": [
    "Defining the function to remove all the verbs that are also ingredients"
   ]
  },
  {
   "cell_type": "code",
   "execution_count": 55,
   "metadata": {
    "executionInfo": {
     "elapsed": 8,
     "status": "ok",
     "timestamp": 1747574734566,
     "user": {
      "displayName": "Giacomo Negri",
      "userId": "14779197913857683755"
     },
     "user_tz": -120
    },
    "id": "V0mKthbkGn64"
   },
   "outputs": [],
   "source": [
    "def filter_verbs(verbs):\n",
    "    return [v for v in verbs if v.lower() not in ingredients]"
   ]
  },
  {
   "cell_type": "code",
   "execution_count": 56,
   "metadata": {
    "executionInfo": {
     "elapsed": 473073,
     "status": "ok",
     "timestamp": 1747575213664,
     "user": {
      "displayName": "Giacomo Negri",
      "userId": "14779197913857683755"
     },
     "user_tz": -120
    },
    "id": "HEAV4EwnFTHf"
   },
   "outputs": [],
   "source": [
    "filtered_df['verbs'] =filtered_df['directions'].apply(advanced_preprocess).apply(extract_verbs)"
   ]
  },
  {
   "cell_type": "markdown",
   "metadata": {
    "id": "mjT9Gw5V7Pkk"
   },
   "source": [
    "Defining a function that lemmatize the verbs"
   ]
  },
  {
   "cell_type": "code",
   "execution_count": 57,
   "metadata": {
    "executionInfo": {
     "elapsed": 13,
     "status": "ok",
     "timestamp": 1747575217062,
     "user": {
      "displayName": "Giacomo Negri",
      "userId": "14779197913857683755"
     },
     "user_tz": -120
    },
    "id": "ZgKzDaIYLrje"
   },
   "outputs": [],
   "source": [
    "def lemmatization(text):\n",
    "  tokens = [lemmatizer.lemmatize(t,'v') for t in text]\n",
    "  return tokens"
   ]
  },
  {
   "cell_type": "code",
   "execution_count": 58,
   "metadata": {
    "executionInfo": {
     "elapsed": 13071,
     "status": "ok",
     "timestamp": 1747575230129,
     "user": {
      "displayName": "Giacomo Negri",
      "userId": "14779197913857683755"
     },
     "user_tz": -120
    },
    "id": "Iv4AI9DZLsz0"
   },
   "outputs": [],
   "source": [
    "filtered_df['lemmed_verbs']=filtered_df['verbs'].apply(lemmatization)"
   ]
  },
  {
   "cell_type": "markdown",
   "metadata": {
    "id": "ZGz2dlnS7Vyd"
   },
   "source": [
    "Filtering lemmatized verbs and defining a set of verbs to extract unique verbs"
   ]
  },
  {
   "cell_type": "code",
   "execution_count": 59,
   "metadata": {
    "executionInfo": {
     "elapsed": 1666,
     "status": "ok",
     "timestamp": 1747575231792,
     "user": {
      "displayName": "Giacomo Negri",
      "userId": "14779197913857683755"
     },
     "user_tz": -120
    },
    "id": "W5dEwgcUGtHW"
   },
   "outputs": [],
   "source": [
    "filtered_df['filtered_verbs'] = filtered_df['lemmed_verbs'].apply(filter_verbs)\n",
    "filtered_df['set_verbs']=filtered_df['filtered_verbs'].apply(set)"
   ]
  },
  {
   "cell_type": "markdown",
   "metadata": {
    "id": "VWBThGsC7dep"
   },
   "source": [
    "Defining a list of all verbs present in the recipes"
   ]
  },
  {
   "cell_type": "code",
   "execution_count": 60,
   "metadata": {
    "executionInfo": {
     "elapsed": 100,
     "status": "ok",
     "timestamp": 1747575231894,
     "user": {
      "displayName": "Giacomo Negri",
      "userId": "14779197913857683755"
     },
     "user_tz": -120
    },
    "id": "oDDosW_SMJBO"
   },
   "outputs": [],
   "source": [
    "tecniques = [tech for subset in filtered_df['set_verbs'] for tech in subset]"
   ]
  },
  {
   "cell_type": "code",
   "execution_count": 61,
   "metadata": {
    "colab": {
     "base_uri": "https://localhost:8080/"
    },
    "executionInfo": {
     "elapsed": 9,
     "status": "ok",
     "timestamp": 1747575231906,
     "user": {
      "displayName": "Giacomo Negri",
      "userId": "14779197913857683755"
     },
     "user_tz": -120
    },
    "id": "Woa_aU4hMUuR",
    "outputId": "65ad93c0-6e28-4d37-feb5-f79bb8e22145"
   },
   "outputs": [
    {
     "data": {
      "text/plain": [
       "983812"
      ]
     },
     "execution_count": 61,
     "metadata": {},
     "output_type": "execute_result"
    }
   ],
   "source": [
    "len(tecniques)"
   ]
  },
  {
   "cell_type": "markdown",
   "metadata": {
    "id": "a1PAXw6P7i3i"
   },
   "source": [
    "Number of unique verbs"
   ]
  },
  {
   "cell_type": "code",
   "execution_count": 62,
   "metadata": {
    "colab": {
     "base_uri": "https://localhost:8080/"
    },
    "executionInfo": {
     "elapsed": 110,
     "status": "ok",
     "timestamp": 1747575232015,
     "user": {
      "displayName": "Giacomo Negri",
      "userId": "14779197913857683755"
     },
     "user_tz": -120
    },
    "id": "pkTBJh797kol",
    "outputId": "5c4afb3b-c1d8-4c03-8901-c6c6f21ab2cd"
   },
   "outputs": [
    {
     "data": {
      "text/plain": [
       "6908"
      ]
     },
     "execution_count": 62,
     "metadata": {},
     "output_type": "execute_result"
    }
   ],
   "source": [
    "len(set(tecniques))"
   ]
  },
  {
   "cell_type": "markdown",
   "metadata": {
    "id": "j6z3UqVONBwz"
   },
   "source": [
    "# Filtering recipes for tecniques"
   ]
  },
  {
   "cell_type": "markdown",
   "metadata": {
    "id": "B0wTH4Dj71QX"
   },
   "source": [
    "Computing the absolute frequency of tecniques and sorting them"
   ]
  },
  {
   "cell_type": "code",
   "execution_count": 63,
   "metadata": {
    "executionInfo": {
     "elapsed": 4,
     "status": "ok",
     "timestamp": 1747575232162,
     "user": {
      "displayName": "Giacomo Negri",
      "userId": "14779197913857683755"
     },
     "user_tz": -120
    },
    "id": "uTV05u7KNDSN"
   },
   "outputs": [],
   "source": [
    "tecniques_counts = Counter(tecniques)\n",
    "total = sum(tecniques_counts.values())\n",
    "\n",
    "sorted_tecniques = tecniques_counts.most_common()"
   ]
  },
  {
   "cell_type": "markdown",
   "metadata": {
    "id": "lPTkz66i7_C7"
   },
   "source": [
    "Computing the top 90% of verbs frequency"
   ]
  },
  {
   "cell_type": "code",
   "execution_count": 64,
   "metadata": {
    "executionInfo": {
     "elapsed": 17,
     "status": "ok",
     "timestamp": 1747575232182,
     "user": {
      "displayName": "Giacomo Negri",
      "userId": "14779197913857683755"
     },
     "user_tz": -120
    },
    "id": "dGygitQeNZqp"
   },
   "outputs": [],
   "source": [
    "cumulative = 0\n",
    "top_tecniques = set()\n",
    "\n",
    "for tech, count in sorted_tecniques:\n",
    "    cumulative += count\n",
    "    top_tecniques.add(tech)\n",
    "    if cumulative / total >= 0.90:\n",
    "        break\n",
    "\n",
    "def has_rare_tecniques(tecniques):\n",
    "    return any(tec not in top_tecniques for tec in tecniques)"
   ]
  },
  {
   "cell_type": "markdown",
   "metadata": {
    "id": "Xx6p-knk8F5z"
   },
   "source": [
    "Filtering the dataset removing all the recipes that contains at least one of the verbs in the bottom 10%"
   ]
  },
  {
   "cell_type": "code",
   "execution_count": 65,
   "metadata": {
    "executionInfo": {
     "elapsed": 300,
     "status": "ok",
     "timestamp": 1747575232486,
     "user": {
      "displayName": "Giacomo Negri",
      "userId": "14779197913857683755"
     },
     "user_tz": -120
    },
    "id": "DHu2RGnTOCRF"
   },
   "outputs": [],
   "source": [
    "verbs_df = filtered_df[~filtered_df['lemmed_verbs'].apply(has_rare_tecniques)].reset_index(drop=True)"
   ]
  },
  {
   "cell_type": "code",
   "execution_count": 66,
   "metadata": {
    "colab": {
     "base_uri": "https://localhost:8080/"
    },
    "executionInfo": {
     "elapsed": 14,
     "status": "ok",
     "timestamp": 1747575232489,
     "user": {
      "displayName": "Giacomo Negri",
      "userId": "14779197913857683755"
     },
     "user_tz": -120
    },
    "id": "P4niHc_ROVEh",
    "outputId": "717d76ff-6d31-40de-b4e0-81c717183507"
   },
   "outputs": [
    {
     "data": {
      "text/plain": [
       "(25976, 18)"
      ]
     },
     "execution_count": 66,
     "metadata": {},
     "output_type": "execute_result"
    }
   ],
   "source": [
    "verbs_df.shape"
   ]
  },
  {
   "cell_type": "markdown",
   "metadata": {
    "id": "DLlBaP8M8Mj4"
   },
   "source": [
    "Checking remaining tecniques"
   ]
  },
  {
   "cell_type": "code",
   "execution_count": 67,
   "metadata": {
    "executionInfo": {
     "elapsed": 43,
     "status": "ok",
     "timestamp": 1747575232525,
     "user": {
      "displayName": "Giacomo Negri",
      "userId": "14779197913857683755"
     },
     "user_tz": -120
    },
    "id": "L2guDtNxPXP9"
   },
   "outputs": [],
   "source": [
    "tecniques = [tech for subset in verbs_df['set_verbs'] for tech in subset]"
   ]
  },
  {
   "cell_type": "code",
   "execution_count": 68,
   "metadata": {
    "colab": {
     "base_uri": "https://localhost:8080/"
    },
    "executionInfo": {
     "elapsed": 52,
     "status": "ok",
     "timestamp": 1747575232579,
     "user": {
      "displayName": "Giacomo Negri",
      "userId": "14779197913857683755"
     },
     "user_tz": -120
    },
    "id": "WbZ0mTa5Pa0Y",
    "outputId": "0f156391-6e56-4c13-a705-f7e5f7d7602d"
   },
   "outputs": [
    {
     "data": {
      "text/plain": [
       "233"
      ]
     },
     "execution_count": 68,
     "metadata": {},
     "output_type": "execute_result"
    }
   ],
   "source": [
    "len(set(tecniques))"
   ]
  },
  {
   "cell_type": "markdown",
   "metadata": {
    "id": "M5aztf_gS91_"
   },
   "source": [
    "# Extracting Bigrams of Tecnique-Ingredient"
   ]
  },
  {
   "cell_type": "code",
   "execution_count": 69,
   "metadata": {
    "colab": {
     "base_uri": "https://localhost:8080/"
    },
    "executionInfo": {
     "elapsed": 78,
     "status": "ok",
     "timestamp": 1747406622096,
     "user": {
      "displayName": "Giacomo Negri",
      "userId": "14779197913857683755"
     },
     "user_tz": -120
    },
    "id": "NJNldYm2Tc1o",
    "outputId": "71c8577b-ffc9-493f-d9d7-d4c0b681b964"
   },
   "outputs": [
    {
     "name": "stdout",
     "output_type": "stream",
     "text": [
      "<class 'pandas.core.frame.DataFrame'>\n",
      "RangeIndex: 25976 entries, 0 to 25975\n",
      "Data columns (total 18 columns):\n",
      " #   Column           Non-Null Count  Dtype \n",
      "---  ------           --------------  ----- \n",
      " 0   Unnamed: 0       25976 non-null  int64 \n",
      " 1   title            25976 non-null  object\n",
      " 2   ingredients      25976 non-null  object\n",
      " 3   directions       25976 non-null  object\n",
      " 4   link             25976 non-null  object\n",
      " 5   source           25976 non-null  object\n",
      " 6   NER              25976 non-null  object\n",
      " 7   NER_list         25976 non-null  object\n",
      " 8   NER_len          25976 non-null  int64 \n",
      " 9   directions_len   25976 non-null  int64 \n",
      " 10  title_lower      25976 non-null  object\n",
      " 11  NER_clean        25976 non-null  object\n",
      " 12  ingredients_str  25976 non-null  object\n",
      " 13  cluster          25976 non-null  int32 \n",
      " 14  verbs            25976 non-null  object\n",
      " 15  lemmed_verbs     25976 non-null  object\n",
      " 16  filtered_verbs   25976 non-null  object\n",
      " 17  set_verbs        25976 non-null  object\n",
      "dtypes: int32(1), int64(3), object(14)\n",
      "memory usage: 3.5+ MB\n"
     ]
    }
   ],
   "source": [
    "verbs_df.info()"
   ]
  },
  {
   "cell_type": "markdown",
   "metadata": {
    "id": "lU9ookgF8c3_"
   },
   "source": [
    "We identify some ingredients that are ambiguous or wrong, hence the recipes containing at least one of those get removed."
   ]
  },
  {
   "cell_type": "code",
   "execution_count": 70,
   "metadata": {
    "executionInfo": {
     "elapsed": 3,
     "status": "ok",
     "timestamp": 1747575233363,
     "user": {
      "displayName": "Giacomo Negri",
      "userId": "14779197913857683755"
     },
     "user_tz": -120
    },
    "id": "TWlyjbtNUXrZ"
   },
   "outputs": [],
   "source": [
    "to_discard=set(['mix','ready','summer','containers','favorite','stock','thin','regular','baking'])"
   ]
  },
  {
   "cell_type": "markdown",
   "metadata": {
    "id": "NKXgwQs08ycc"
   },
   "source": [
    "Defining a function to discard the recipes that contained `to_discard` ingredients"
   ]
  },
  {
   "cell_type": "code",
   "execution_count": 71,
   "metadata": {
    "executionInfo": {
     "elapsed": 144,
     "status": "ok",
     "timestamp": 1747575233521,
     "user": {
      "displayName": "Giacomo Negri",
      "userId": "14779197913857683755"
     },
     "user_tz": -120
    },
    "id": "G9WTYHOQUgvV"
   },
   "outputs": [],
   "source": [
    "def contains_discarded_ingredient(ner_list):\n",
    "    return any(ingredient in to_discard for ingredient in ner_list)\n",
    "\n",
    "verbs_df = verbs_df[~verbs_df['NER_list'].apply(contains_discarded_ingredient)].reset_index(drop=True)"
   ]
  },
  {
   "cell_type": "markdown",
   "metadata": {
    "id": "o0MPz_w-86yM"
   },
   "source": [
    "Checking the shape of the remaining filtered `verbs_df`"
   ]
  },
  {
   "cell_type": "code",
   "execution_count": 72,
   "metadata": {
    "colab": {
     "base_uri": "https://localhost:8080/"
    },
    "executionInfo": {
     "elapsed": 12,
     "status": "ok",
     "timestamp": 1747575233523,
     "user": {
      "displayName": "Giacomo Negri",
      "userId": "14779197913857683755"
     },
     "user_tz": -120
    },
    "id": "MbtL863IVVg9",
    "outputId": "4017620e-86b9-4361-d819-cc5a116198f3"
   },
   "outputs": [
    {
     "data": {
      "text/plain": [
       "(25758, 18)"
      ]
     },
     "execution_count": 72,
     "metadata": {},
     "output_type": "execute_result"
    }
   ],
   "source": [
    "verbs_df.shape"
   ]
  },
  {
   "cell_type": "markdown",
   "metadata": {
    "id": "mZBYdyTj9VNI"
   },
   "source": [
    "Redefining the set of ingredients in the remaining recipes"
   ]
  },
  {
   "cell_type": "code",
   "execution_count": 73,
   "metadata": {
    "executionInfo": {
     "elapsed": 43,
     "status": "ok",
     "timestamp": 1747575233560,
     "user": {
      "displayName": "Giacomo Negri",
      "userId": "14779197913857683755"
     },
     "user_tz": -120
    },
    "id": "8IvTXs7AeIum"
   },
   "outputs": [],
   "source": [
    "ingredients=set([ingredient for sublist in verbs_df['NER_clean'] for ingredient in sublist])"
   ]
  },
  {
   "cell_type": "markdown",
   "metadata": {
    "id": "pCnQEc-fDQKh"
   },
   "source": [
    "Only one additional ingredient was removed inadvertedly, because of collinearity, or fully contained within one or more recipes that contained at least one element in `to_discard`"
   ]
  },
  {
   "cell_type": "code",
   "execution_count": 74,
   "metadata": {
    "colab": {
     "base_uri": "https://localhost:8080/"
    },
    "executionInfo": {
     "elapsed": 34,
     "status": "ok",
     "timestamp": 1747575233596,
     "user": {
      "displayName": "Giacomo Negri",
      "userId": "14779197913857683755"
     },
     "user_tz": -120
    },
    "id": "s9g0kYPODE3u",
    "outputId": "9279a94d-8f7f-4b87-aad6-832751ee281a"
   },
   "outputs": [
    {
     "data": {
      "text/plain": [
       "1451"
      ]
     },
     "execution_count": 74,
     "metadata": {},
     "output_type": "execute_result"
    }
   ],
   "source": [
    "len(ingredients)"
   ]
  },
  {
   "cell_type": "markdown",
   "metadata": {
    "id": "_h4XIXzK9Yz2"
   },
   "source": [
    "Defining a soft-preprocessing function"
   ]
  },
  {
   "cell_type": "code",
   "execution_count": 75,
   "metadata": {
    "executionInfo": {
     "elapsed": 2,
     "status": "ok",
     "timestamp": 1747575233632,
     "user": {
      "displayName": "Giacomo Negri",
      "userId": "14779197913857683755"
     },
     "user_tz": -120
    },
    "id": "vvaKfY-FS7Ye"
   },
   "outputs": [],
   "source": [
    "def soft_preprocess(txt):\n",
    "    txt = unidecode(txt.lower())\n",
    "    txt = re.sub(r'[^a-z\\s]', ' ', txt)\n",
    "    tokens = txt.split()\n",
    "\n",
    "    tokens = [w for w in tokens if w not in STOPWORDS]\n",
    "\n",
    "    tokens = [t for t in tokens if len(t) > 2]\n",
    "\n",
    "    return \" \".join(tokens)"
   ]
  },
  {
   "cell_type": "markdown",
   "metadata": {
    "id": "3mj5njDM9cVv"
   },
   "source": [
    "Creating a cleaned version of the directions, that removes stopwords and tokens with length less than 3"
   ]
  },
  {
   "cell_type": "code",
   "execution_count": 76,
   "metadata": {
    "executionInfo": {
     "elapsed": 1187,
     "status": "ok",
     "timestamp": 1747575234824,
     "user": {
      "displayName": "Giacomo Negri",
      "userId": "14779197913857683755"
     },
     "user_tz": -120
    },
    "id": "YzAixgKKTypP"
   },
   "outputs": [],
   "source": [
    "verbs_df['clean_direction']=verbs_df['directions'].apply(soft_preprocess)"
   ]
  },
  {
   "cell_type": "markdown",
   "metadata": {
    "id": "XzxGTcPI9rcM"
   },
   "source": [
    "Defining a funciton that extract the pairs verb-ingredient, and it checks if the next three words after the verb are ingredient, and if that is the case then they are added to the list of pairs as strings."
   ]
  },
  {
   "cell_type": "code",
   "execution_count": 77,
   "metadata": {
    "executionInfo": {
     "elapsed": 50,
     "status": "ok",
     "timestamp": 1747575263664,
     "user": {
      "displayName": "Giacomo Negri",
      "userId": "14779197913857683755"
     },
     "user_tz": -120
    },
    "id": "F6TmJVrMTIOY"
   },
   "outputs": [],
   "source": [
    "def extract_verb_ingredient_pairs(text, verbs, ingredients):\n",
    "    tokens = text.split()\n",
    "    pairs = []\n",
    "\n",
    "    for i in range(len(tokens) - 2):\n",
    "        first = lemmatizer.lemmatize(tokens[i],'v')\n",
    "        second = tokens[i + 1]\n",
    "        third=tokens[i+2]\n",
    "        # fourth=tokens[i+3]\n",
    "\n",
    "        if first in verbs and second in ingredients:\n",
    "            pairs.append(f\"{first} {second}\")\n",
    "\n",
    "        if first in verbs and third in ingredients:\n",
    "            pairs.append(f\"{first} {third}\")\n",
    "\n",
    "        # if first in verbs and fourth in ingredients:\n",
    "        #     pairs.append(f\"{first} {fourth}\")\n",
    "\n",
    "    return pairs"
   ]
  },
  {
   "cell_type": "markdown",
   "metadata": {
    "id": "f5DzptZ_94Xl"
   },
   "source": [
    "Computing the pairs"
   ]
  },
  {
   "cell_type": "code",
   "execution_count": 78,
   "metadata": {
    "executionInfo": {
     "elapsed": 4745,
     "status": "ok",
     "timestamp": 1747575331658,
     "user": {
      "displayName": "Giacomo Negri",
      "userId": "14779197913857683755"
     },
     "user_tz": -120
    },
    "id": "q5nZWTDoTOYI"
   },
   "outputs": [],
   "source": [
    "verbs_df['pairs']= verbs_df.apply(\n",
    "    lambda row: extract_verb_ingredient_pairs(row['clean_direction'], row['filtered_verbs'], ingredients),\n",
    "    axis=1\n",
    ")"
   ]
  },
  {
   "cell_type": "markdown",
   "metadata": {
    "id": "uYkOO9kS_ZER"
   },
   "source": [
    "Defining the set of pairs"
   ]
  },
  {
   "cell_type": "code",
   "execution_count": 79,
   "metadata": {
    "executionInfo": {
     "elapsed": 54,
     "status": "ok",
     "timestamp": 1747575332247,
     "user": {
      "displayName": "Giacomo Negri",
      "userId": "14779197913857683755"
     },
     "user_tz": -120
    },
    "id": "hf8vtXxjXmC8"
   },
   "outputs": [],
   "source": [
    "verbs_df['pairs_set']=verbs_df['pairs'].apply(set)"
   ]
  },
  {
   "cell_type": "code",
   "execution_count": 80,
   "metadata": {
    "colab": {
     "base_uri": "https://localhost:8080/",
     "height": 730
    },
    "executionInfo": {
     "elapsed": 687,
     "status": "ok",
     "timestamp": 1747575335781,
     "user": {
      "displayName": "Giacomo Negri",
      "userId": "14779197913857683755"
     },
     "user_tz": -120
    },
    "id": "E5XMzqBUT7jh",
    "outputId": "78ebc21f-153b-4ba9-a331-7903f09e07d7"
   },
   "outputs": [
    {
     "data": {
      "text/html": [
       "<div>\n",
       "<style scoped>\n",
       "    .dataframe tbody tr th:only-of-type {\n",
       "        vertical-align: middle;\n",
       "    }\n",
       "\n",
       "    .dataframe tbody tr th {\n",
       "        vertical-align: top;\n",
       "    }\n",
       "\n",
       "    .dataframe thead th {\n",
       "        text-align: right;\n",
       "    }\n",
       "</style>\n",
       "<table border=\"1\" class=\"dataframe\">\n",
       "  <thead>\n",
       "    <tr style=\"text-align: right;\">\n",
       "      <th></th>\n",
       "      <th>Unnamed: 0</th>\n",
       "      <th>title</th>\n",
       "      <th>ingredients</th>\n",
       "      <th>directions</th>\n",
       "      <th>link</th>\n",
       "      <th>source</th>\n",
       "      <th>NER</th>\n",
       "      <th>NER_list</th>\n",
       "      <th>NER_len</th>\n",
       "      <th>directions_len</th>\n",
       "      <th>...</th>\n",
       "      <th>NER_clean</th>\n",
       "      <th>ingredients_str</th>\n",
       "      <th>cluster</th>\n",
       "      <th>verbs</th>\n",
       "      <th>lemmed_verbs</th>\n",
       "      <th>filtered_verbs</th>\n",
       "      <th>set_verbs</th>\n",
       "      <th>clean_direction</th>\n",
       "      <th>pairs</th>\n",
       "      <th>pairs_set</th>\n",
       "    </tr>\n",
       "  </thead>\n",
       "  <tbody>\n",
       "    <tr>\n",
       "      <th>0</th>\n",
       "      <td>5</td>\n",
       "      <td>\" Bar\" Cheese</td>\n",
       "      <td>[\"32 ounces Velveeta cheese (regular)\", \"1 1/2...</td>\n",
       "      <td>[\"In a large sauce pan over low heat, melt the...</td>\n",
       "      <td>www.food.com/recipe/bar-cheese-42151</td>\n",
       "      <td>Gathered</td>\n",
       "      <td>[\"Velveeta cheese\", \"mayonnaise\", \"horseradish...</td>\n",
       "      <td>[velveeta cheese, mayonnaise, horseradish, tab...</td>\n",
       "      <td>5</td>\n",
       "      <td>368</td>\n",
       "      <td>...</td>\n",
       "      <td>[velveeta cheese, mayonnaise, horseradish, tab...</td>\n",
       "      <td>velveeta cheese mayonnaise horseradish tabasco...</td>\n",
       "      <td>1</td>\n",
       "      <td>[pan, add, stirring, add, stirring, cool, refr...</td>\n",
       "      <td>[pan, add, stir, add, stir, cool, refrigerate]</td>\n",
       "      <td>[pan, add, stir, add, stir, cool, refrigerate]</td>\n",
       "      <td>{stir, cool, pan, add, refrigerate}</td>\n",
       "      <td>large sauce pan low heat melt velveeta add jar...</td>\n",
       "      <td>[add horseradish, add mayo, add worcestershire...</td>\n",
       "      <td>{refrigerate choice, add mayo, add worcestersh...</td>\n",
       "    </tr>\n",
       "    <tr>\n",
       "      <th>1</th>\n",
       "      <td>6</td>\n",
       "      <td>\" Barber's\" Chewy Vanilla &amp; Salted Butter Toffee</td>\n",
       "      <td>[\"2 14 cups icing sugar\", \"12 cup milk\", \"14 c...</td>\n",
       "      <td>[\"Butter a loaf pan.\", \"In a pot,combine icing...</td>\n",
       "      <td>www.food.com/recipe/barbers-chewy-vanilla-salt...</td>\n",
       "      <td>Recipes1M</td>\n",
       "      <td>[\"icing sugar\", \"milk\", \"corn syrup\", \"vanilla...</td>\n",
       "      <td>[icing sugar, milk, corn syrup, vanilla bean, ...</td>\n",
       "      <td>5</td>\n",
       "      <td>557</td>\n",
       "      <td>...</td>\n",
       "      <td>[icing sugar, milk, corn syrup, vanilla bean, ...</td>\n",
       "      <td>icing sugar milk corn syrup vanilla bean butter</td>\n",
       "      <td>3</td>\n",
       "      <td>[pot, stirring, reduce, remove, stirring, reac...</td>\n",
       "      <td>[pot, stir, reduce, remove, stir, reach, pour,...</td>\n",
       "      <td>[pot, stir, reduce, remove, stir, reach, pour,...</td>\n",
       "      <td>{pot, cut, pour, stir, remove, reduce, reach}</td>\n",
       "      <td>butter loaf pan pot combine icing sugar milk c...</td>\n",
       "      <td>[remove vanilla, stir butter]</td>\n",
       "      <td>{stir butter, remove vanilla}</td>\n",
       "    </tr>\n",
       "  </tbody>\n",
       "</table>\n",
       "<p>2 rows × 21 columns</p>\n",
       "</div>"
      ],
      "text/plain": [
       "   Unnamed: 0                                             title  \\\n",
       "0           5                                     \" Bar\" Cheese   \n",
       "1           6  \" Barber's\" Chewy Vanilla & Salted Butter Toffee   \n",
       "\n",
       "                                         ingredients  \\\n",
       "0  [\"32 ounces Velveeta cheese (regular)\", \"1 1/2...   \n",
       "1  [\"2 14 cups icing sugar\", \"12 cup milk\", \"14 c...   \n",
       "\n",
       "                                          directions  \\\n",
       "0  [\"In a large sauce pan over low heat, melt the...   \n",
       "1  [\"Butter a loaf pan.\", \"In a pot,combine icing...   \n",
       "\n",
       "                                                link     source  \\\n",
       "0               www.food.com/recipe/bar-cheese-42151   Gathered   \n",
       "1  www.food.com/recipe/barbers-chewy-vanilla-salt...  Recipes1M   \n",
       "\n",
       "                                                 NER  \\\n",
       "0  [\"Velveeta cheese\", \"mayonnaise\", \"horseradish...   \n",
       "1  [\"icing sugar\", \"milk\", \"corn syrup\", \"vanilla...   \n",
       "\n",
       "                                            NER_list  NER_len  directions_len  \\\n",
       "0  [velveeta cheese, mayonnaise, horseradish, tab...        5             368   \n",
       "1  [icing sugar, milk, corn syrup, vanilla bean, ...        5             557   \n",
       "\n",
       "   ...                                          NER_clean  \\\n",
       "0  ...  [velveeta cheese, mayonnaise, horseradish, tab...   \n",
       "1  ...  [icing sugar, milk, corn syrup, vanilla bean, ...   \n",
       "\n",
       "                                     ingredients_str cluster  \\\n",
       "0  velveeta cheese mayonnaise horseradish tabasco...       1   \n",
       "1    icing sugar milk corn syrup vanilla bean butter       3   \n",
       "\n",
       "                                               verbs  \\\n",
       "0  [pan, add, stirring, add, stirring, cool, refr...   \n",
       "1  [pot, stirring, reduce, remove, stirring, reac...   \n",
       "\n",
       "                                        lemmed_verbs  \\\n",
       "0     [pan, add, stir, add, stir, cool, refrigerate]   \n",
       "1  [pot, stir, reduce, remove, stir, reach, pour,...   \n",
       "\n",
       "                                      filtered_verbs  \\\n",
       "0     [pan, add, stir, add, stir, cool, refrigerate]   \n",
       "1  [pot, stir, reduce, remove, stir, reach, pour,...   \n",
       "\n",
       "                                       set_verbs  \\\n",
       "0            {stir, cool, pan, add, refrigerate}   \n",
       "1  {pot, cut, pour, stir, remove, reduce, reach}   \n",
       "\n",
       "                                     clean_direction  \\\n",
       "0  large sauce pan low heat melt velveeta add jar...   \n",
       "1  butter loaf pan pot combine icing sugar milk c...   \n",
       "\n",
       "                                               pairs  \\\n",
       "0  [add horseradish, add mayo, add worcestershire...   \n",
       "1                      [remove vanilla, stir butter]   \n",
       "\n",
       "                                           pairs_set  \n",
       "0  {refrigerate choice, add mayo, add worcestersh...  \n",
       "1                      {stir butter, remove vanilla}  \n",
       "\n",
       "[2 rows x 21 columns]"
      ]
     },
     "execution_count": 80,
     "metadata": {},
     "output_type": "execute_result"
    }
   ],
   "source": [
    "verbs_df.head(2)"
   ]
  },
  {
   "cell_type": "code",
   "execution_count": 81,
   "metadata": {
    "colab": {
     "base_uri": "https://localhost:8080/"
    },
    "executionInfo": {
     "elapsed": 25,
     "status": "ok",
     "timestamp": 1747575341227,
     "user": {
      "displayName": "Giacomo Negri",
      "userId": "14779197913857683755"
     },
     "user_tz": -120
    },
    "id": "DfOJ_E-QDxKC",
    "outputId": "eea63f08-6ec1-43b3-e33e-fee72bf629eb"
   },
   "outputs": [
    {
     "name": "stdout",
     "output_type": "stream",
     "text": [
      "1527\n"
     ]
    }
   ],
   "source": [
    "empty_pairs = verbs_df[verbs_df['pairs'].apply(lambda x: len(x) == 0)]\n",
    "print(len(empty_pairs))"
   ]
  },
  {
   "cell_type": "markdown",
   "metadata": {
    "id": "ef8fT5a5_eX2"
   },
   "source": [
    "Checking for 'odd' pairs"
   ]
  },
  {
   "cell_type": "code",
   "execution_count": 82,
   "metadata": {
    "colab": {
     "base_uri": "https://localhost:8080/"
    },
    "executionInfo": {
     "elapsed": 8,
     "status": "ok",
     "timestamp": 1747575544191,
     "user": {
      "displayName": "Giacomo Negri",
      "userId": "14779197913857683755"
     },
     "user_tz": -120
    },
    "id": "QuCXB-3nYAgS",
    "outputId": "d932a919-9e0c-4afb-da59-4ad2b343ec7c"
   },
   "outputs": [
    {
     "name": "stdout",
     "output_type": "stream",
     "text": [
      "[('remain ingredients', 1978), ('add flour', 1322), ('add water', 1288), ('melt butter', 1228), ('add milk', 1182), ('add ingredients', 1151), ('add sugar', 1128), ('add salt', 1116), ('boil water', 961), ('add garlic', 934), ('add onion', 851), ('add vanilla', 811), ('add eggs', 781), ('add butter', 758), ('add cheese', 611), ('add cream', 604), ('bake soda', 597), ('add egg', 576), ('bake salt', 574), ('add oil', 566)]\n"
     ]
    }
   ],
   "source": [
    "all_pairs = [pair for sublist in verbs_df['pairs'] for pair in sublist]\n",
    "\n",
    "pair_counts = Counter(all_pairs)\n",
    "# Most common pairs\n",
    "print(pair_counts.most_common(20))"
   ]
  },
  {
   "cell_type": "markdown",
   "metadata": {
    "id": "avjHcjQ5_oAx"
   },
   "source": [
    "Checking for the bottom frequent pairs"
   ]
  },
  {
   "cell_type": "code",
   "execution_count": 83,
   "metadata": {
    "colab": {
     "base_uri": "https://localhost:8080/"
    },
    "executionInfo": {
     "elapsed": 29,
     "status": "ok",
     "timestamp": 1747575553689,
     "user": {
      "displayName": "Giacomo Negri",
      "userId": "14779197913857683755"
     },
     "user_tz": -120
    },
    "id": "rG1YGt5-YZlr",
    "outputId": "0f07442c-a854-4df1-cdbf-76cd658f3fd1"
   },
   "outputs": [
    {
     "name": "stdout",
     "output_type": "stream",
     "text": [
      "save egg: 1\n",
      "save white: 1\n",
      "fill rolls: 1\n",
      "toast cheddar: 1\n",
      "save crust: 1\n",
      "drain margarine: 1\n",
      "taste handful: 1\n",
      "crisp tomato: 1\n",
      "transfer potato: 1\n",
      "shake cereal: 1\n",
      "warm yeast: 1\n",
      "run jalapenos: 1\n",
      "start chocolate: 1\n",
      "saute ginger: 1\n",
      "want lime: 1\n",
      "fill ricotta: 1\n",
      "cook cilantro: 1\n",
      "mince vinegar: 1\n",
      "season mustard: 1\n",
      "peel fish: 1\n",
      "chill spinach: 1\n",
      "press water: 1\n",
      "wrap mayo: 1\n",
      "simmer wine: 1\n",
      "tender zucchini: 1\n",
      "smoke beef: 1\n",
      "smoke olives: 1\n",
      "shred feta: 1\n",
      "bowl tuna: 1\n",
      "cookie cheese: 1\n",
      "add angel: 1\n",
      "shake parmesan: 1\n",
      "fold herbs: 1\n",
      "stuff oil: 1\n",
      "put cumin: 1\n",
      "stuff zucchini: 1\n",
      "soften shell: 1\n",
      "degrees vanilla: 1\n",
      "spread zucchini: 1\n",
      "follow crust: 1\n",
      "crumb taco: 1\n",
      "let zucchini: 1\n",
      "stand zucchini: 1\n",
      "make pesto: 1\n",
      "combine mint: 1\n",
      "desire zucchini: 1\n",
      "uncover zucchini: 1\n",
      "shake zucchini: 1\n",
      "smoke zucchini: 1\n",
      "dissolve figs: 1\n"
     ]
    }
   ],
   "source": [
    "# Less common pairs\n",
    "least_common_pairs = pair_counts.most_common()[-50:]\n",
    "\n",
    "for pair, count in least_common_pairs:\n",
    "    print(f\"{pair}: {count}\")\n"
   ]
  },
  {
   "cell_type": "code",
   "execution_count": 84,
   "metadata": {},
   "outputs": [],
   "source": [
    "verbs_df.to_csv('../datasets/ds_verbs.csv')"
   ]
  }
 ],
 "metadata": {
  "colab": {
   "authorship_tag": "ABX9TyOf0iedg1zSDbDCbnTgyTcQ",
   "collapsed_sections": [
    "ZXLhaUNQ13h-",
    "fdTgFsxL6nCK",
    "3nESiaDJ6wad",
    "TmgQ6NS5607g"
   ],
   "provenance": []
  },
  "kernelspec": {
   "display_name": "Python 3 (ipykernel)",
   "language": "python",
   "name": "python3"
  },
  "language_info": {
   "codemirror_mode": {
    "name": "ipython",
    "version": 3
   },
   "file_extension": ".py",
   "mimetype": "text/x-python",
   "name": "python",
   "nbconvert_exporter": "python",
   "pygments_lexer": "ipython3",
   "version": "3.12.7"
  }
 },
 "nbformat": 4,
 "nbformat_minor": 4
}
