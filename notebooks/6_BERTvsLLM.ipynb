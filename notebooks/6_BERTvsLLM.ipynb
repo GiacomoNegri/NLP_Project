{
 "cells": [
  {
   "cell_type": "code",
   "execution_count": 2,
   "metadata": {},
   "outputs": [
    {
     "name": "stdout",
     "output_type": "stream",
     "text": [
      "Collecting umap\n",
      "  Downloading umap-0.1.1.tar.gz (3.2 kB)\n",
      "  Preparing metadata (setup.py): started\n",
      "  Preparing metadata (setup.py): finished with status 'done'\n",
      "Building wheels for collected packages: umap\n",
      "  Building wheel for umap (setup.py): started\n",
      "  Building wheel for umap (setup.py): finished with status 'done'\n",
      "  Created wheel for umap: filename=umap-0.1.1-py3-none-any.whl size=3550 sha256=fd45788586b248cb33b59e49e433e0db5bb4e8522177b4e70e0be79a82b07813\n",
      "  Stored in directory: c:\\users\\lenovo\\appdata\\local\\pip\\cache\\wheels\\48\\4a\\1c\\1d511cbb0413a448d8546e958f8e82b98d9bb493038d19ece2\n",
      "Successfully built umap\n",
      "Installing collected packages: umap\n",
      "Successfully installed umap-0.1.1\n"
     ]
    }
   ],
   "source": [
    "!pip install umap"
   ]
  },
  {
   "cell_type": "code",
   "execution_count": 109,
   "metadata": {
    "colab": {
     "base_uri": "https://localhost:8080/"
    },
    "id": "Sk3cE5qjlHMQ",
    "outputId": "9412a47e-0f60-46bc-fdf3-96ea8dc58f18"
   },
   "outputs": [
    {
     "name": "stderr",
     "output_type": "stream",
     "text": [
      "[nltk_data] Downloading package stopwords to\n",
      "[nltk_data]     C:\\Users\\Lenovo\\AppData\\Roaming\\nltk_data...\n",
      "[nltk_data]   Package stopwords is already up-to-date!\n",
      "[nltk_data] Downloading package wordnet to\n",
      "[nltk_data]     C:\\Users\\Lenovo\\AppData\\Roaming\\nltk_data...\n",
      "[nltk_data]   Package wordnet is already up-to-date!\n",
      "[nltk_data] Downloading package omw-1.4 to\n",
      "[nltk_data]     C:\\Users\\Lenovo\\AppData\\Roaming\\nltk_data...\n",
      "[nltk_data]   Package omw-1.4 is already up-to-date!\n"
     ]
    },
    {
     "data": {
      "text/plain": [
       "True"
      ]
     },
     "execution_count": 109,
     "metadata": {},
     "output_type": "execute_result"
    }
   ],
   "source": [
    "import pandas as pd\n",
    "import numpy as np\n",
    "import ast\n",
    "import matplotlib.pyplot as plt\n",
    "import seaborn as sns\n",
    "\n",
    "import re\n",
    "import nltk\n",
    "from nltk.corpus import stopwords\n",
    "from nltk.stem import WordNetLemmatizer\n",
    "\n",
    "from sklearn.feature_extraction.text import TfidfVectorizer, CountVectorizer\n",
    "from sklearn.decomposition import LatentDirichletAllocation\n",
    "\n",
    "from sklearn.cluster import KMeans\n",
    "from sklearn.manifold import TSNE\n",
    "from sklearn.metrics import accuracy_score, precision_score, recall_score\n",
    "\n",
    "from sklearn.metrics import classification_report\n",
    "\n",
    "nltk.download('stopwords')\n",
    "nltk.download('wordnet')\n",
    "nltk.download('omw-1.4')"
   ]
  },
  {
   "cell_type": "markdown",
   "metadata": {},
   "source": [
    "# Loading the dataset"
   ]
  },
  {
   "cell_type": "code",
   "execution_count": 45,
   "metadata": {
    "id": "f81VgOW9lPv9"
   },
   "outputs": [],
   "source": [
    "df=pd.read_csv('../datasets/dish_type_results_25758.csv')"
   ]
  },
  {
   "cell_type": "code",
   "execution_count": 46,
   "metadata": {
    "colab": {
     "base_uri": "https://localhost:8080/"
    },
    "id": "BIrNNszrlt7V",
    "outputId": "8ed353af-fc43-4422-a52f-2d0f0b1fe6e4"
   },
   "outputs": [
    {
     "data": {
      "text/plain": [
       "(25758, 21)"
      ]
     },
     "execution_count": 46,
     "metadata": {},
     "output_type": "execute_result"
    }
   ],
   "source": [
    "df.shape"
   ]
  },
  {
   "cell_type": "code",
   "execution_count": 47,
   "metadata": {
    "id": "U1l4j-IPmI30"
   },
   "outputs": [],
   "source": [
    "# Extract all numbers (including decimals) into lists\n",
    "df['numbers'] = df['dish_type_response'].str.findall(r'\\d+(?:\\.\\d+)?')"
   ]
  },
  {
   "cell_type": "code",
   "execution_count": 48,
   "metadata": {
    "id": "ZKRjpxbMwkJR"
   },
   "outputs": [],
   "source": [
    "df['len_numbers']=df['numbers'].apply(len)"
   ]
  },
  {
   "cell_type": "code",
   "execution_count": 49,
   "metadata": {
    "colab": {
     "base_uri": "https://localhost:8080/",
     "height": 335
    },
    "id": "YYQcF-FL4Cxl",
    "outputId": "003da503-901f-4ef4-bd86-d0acd3fb0181"
   },
   "outputs": [
    {
     "data": {
      "text/plain": [
       "len_numbers\n",
       "0      642\n",
       "1    20525\n",
       "2     4486\n",
       "3       90\n",
       "4        9\n",
       "5        5\n",
       "6        1\n",
       "dtype: int64"
      ]
     },
     "execution_count": 49,
     "metadata": {},
     "output_type": "execute_result"
    }
   ],
   "source": [
    "df.groupby('len_numbers').size()"
   ]
  },
  {
   "cell_type": "code",
   "execution_count": 50,
   "metadata": {
    "id": "Mqx-2kCn4Sci"
   },
   "outputs": [],
   "source": [
    "# Replace empty lists with [-1]\n",
    "df['numbers'] = df['numbers'].apply(lambda x: [-1] if len(x) == 0 else x)"
   ]
  },
  {
   "cell_type": "code",
   "execution_count": 51,
   "metadata": {
    "colab": {
     "base_uri": "https://localhost:8080/",
     "height": 1000
    },
    "id": "IWXiY4lC48Te",
    "outputId": "260609a4-f309-4af5-d28c-56457c9a7c31"
   },
   "outputs": [
    {
     "data": {
      "text/html": [
       "<div>\n",
       "<style scoped>\n",
       "    .dataframe tbody tr th:only-of-type {\n",
       "        vertical-align: middle;\n",
       "    }\n",
       "\n",
       "    .dataframe tbody tr th {\n",
       "        vertical-align: top;\n",
       "    }\n",
       "\n",
       "    .dataframe thead th {\n",
       "        text-align: right;\n",
       "    }\n",
       "</style>\n",
       "<table border=\"1\" class=\"dataframe\">\n",
       "  <thead>\n",
       "    <tr style=\"text-align: right;\">\n",
       "      <th></th>\n",
       "      <th>title</th>\n",
       "      <th>ingredients</th>\n",
       "      <th>directions</th>\n",
       "      <th>link</th>\n",
       "      <th>source</th>\n",
       "      <th>NER</th>\n",
       "      <th>NER_list</th>\n",
       "      <th>NER_len</th>\n",
       "      <th>directions_len</th>\n",
       "      <th>title_lower</th>\n",
       "      <th>...</th>\n",
       "      <th>verbs</th>\n",
       "      <th>lemmed_verbs</th>\n",
       "      <th>filtered_verbs</th>\n",
       "      <th>set_verbs</th>\n",
       "      <th>clean_direction</th>\n",
       "      <th>pairs</th>\n",
       "      <th>pairs_set</th>\n",
       "      <th>dish_type_response</th>\n",
       "      <th>numbers</th>\n",
       "      <th>len_numbers</th>\n",
       "    </tr>\n",
       "  </thead>\n",
       "  <tbody>\n",
       "    <tr>\n",
       "      <th>10</th>\n",
       "      <td>\" Pancake Mini Muffins. \"</td>\n",
       "      <td>[\"3 cup all-purpose flour\", \"1 tbsp baking pow...</td>\n",
       "      <td>[\"Preheat oven to 425 degrees .\", \"For a softe...</td>\n",
       "      <td>cookpad.com/us/recipes/362436-pancake-mini-muf...</td>\n",
       "      <td>Recipes1M</td>\n",
       "      <td>[\"all-purpose\", \"baking powder\", \"salt\", \"milk...</td>\n",
       "      <td>['all-purpose' 'baking powder' 'salt' 'milk' '...</td>\n",
       "      <td>9</td>\n",
       "      <td>598</td>\n",
       "      <td>\" pancake mini muffins. \"</td>\n",
       "      <td>...</td>\n",
       "      <td>['degrees' 'sift' 'set' 'set' 'whisk' 'combine...</td>\n",
       "      <td>['degrees' 'sift' 'set' 'set' 'whisk' 'combine...</td>\n",
       "      <td>['degrees' 'sift' 'set' 'set' 'whisk' 'combine...</td>\n",
       "      <td>['sit' 'sift' 'melt' 'degrees' 'combine' 'whis...</td>\n",
       "      <td>preheat oven degrees softer muffin bake degree...</td>\n",
       "      <td>['stir milk' 'whisk eggs' 'whisk vanilla' 'com...</td>\n",
       "      <td>['use blueberries' 'whisk eggs' 'serve syrup' ...</td>\n",
       "      <td>RATIONALE: Pancakes, Mini, Muffins, All-purpos...</td>\n",
       "      <td>[-1]</td>\n",
       "      <td>0</td>\n",
       "    </tr>\n",
       "    <tr>\n",
       "      <th>51</th>\n",
       "      <td>\"Food For The Gods\"</td>\n",
       "      <td>[\"1 cup white sugar\", \"1/3 cup graham cracker ...</td>\n",
       "      <td>[\"Preheat oven to 250\\u00b0. Mix all ingredien...</td>\n",
       "      <td>www.cookbooks.com/Recipe-Details.aspx?id=31289</td>\n",
       "      <td>Gathered</td>\n",
       "      <td>[\"white sugar\", \"graham cracker crumbs\", \"baki...</td>\n",
       "      <td>['white sugar' 'graham cracker crumbs' 'baking...</td>\n",
       "      <td>7</td>\n",
       "      <td>308</td>\n",
       "      <td>\"food for the gods\"</td>\n",
       "      <td>...</td>\n",
       "      <td>['whipping' 'greased' 'baking' 'cool' 'add' 'w...</td>\n",
       "      <td>['whip' 'grease' 'bake' 'cool' 'add' 'whip' 'a...</td>\n",
       "      <td>['whip' 'grease' 'bake' 'cool' 'add' 'whip' 'a...</td>\n",
       "      <td>['bake' 'add' 'cool' 'grease' 'whip']</td>\n",
       "      <td>preheat oven mix ingredients except whipping c...</td>\n",
       "      <td>['whip cream' 'whip cream' 'whip cream']</td>\n",
       "      <td>['whip cream']</td>\n",
       "      <td>RATIONALE: Dates and walnuts are common ingred...</td>\n",
       "      <td>[-1]</td>\n",
       "      <td>0</td>\n",
       "    </tr>\n",
       "  </tbody>\n",
       "</table>\n",
       "<p>2 rows × 23 columns</p>\n",
       "</div>"
      ],
      "text/plain": [
       "                        title  \\\n",
       "10  \" Pancake Mini Muffins. \"   \n",
       "51        \"Food For The Gods\"   \n",
       "\n",
       "                                          ingredients  \\\n",
       "10  [\"3 cup all-purpose flour\", \"1 tbsp baking pow...   \n",
       "51  [\"1 cup white sugar\", \"1/3 cup graham cracker ...   \n",
       "\n",
       "                                           directions  \\\n",
       "10  [\"Preheat oven to 425 degrees .\", \"For a softe...   \n",
       "51  [\"Preheat oven to 250\\u00b0. Mix all ingredien...   \n",
       "\n",
       "                                                 link     source  \\\n",
       "10  cookpad.com/us/recipes/362436-pancake-mini-muf...  Recipes1M   \n",
       "51     www.cookbooks.com/Recipe-Details.aspx?id=31289   Gathered   \n",
       "\n",
       "                                                  NER  \\\n",
       "10  [\"all-purpose\", \"baking powder\", \"salt\", \"milk...   \n",
       "51  [\"white sugar\", \"graham cracker crumbs\", \"baki...   \n",
       "\n",
       "                                             NER_list  NER_len  \\\n",
       "10  ['all-purpose' 'baking powder' 'salt' 'milk' '...        9   \n",
       "51  ['white sugar' 'graham cracker crumbs' 'baking...        7   \n",
       "\n",
       "    directions_len                title_lower  ...  \\\n",
       "10             598  \" pancake mini muffins. \"  ...   \n",
       "51             308        \"food for the gods\"  ...   \n",
       "\n",
       "                                                verbs  \\\n",
       "10  ['degrees' 'sift' 'set' 'set' 'whisk' 'combine...   \n",
       "51  ['whipping' 'greased' 'baking' 'cool' 'add' 'w...   \n",
       "\n",
       "                                         lemmed_verbs  \\\n",
       "10  ['degrees' 'sift' 'set' 'set' 'whisk' 'combine...   \n",
       "51  ['whip' 'grease' 'bake' 'cool' 'add' 'whip' 'a...   \n",
       "\n",
       "                                       filtered_verbs  \\\n",
       "10  ['degrees' 'sift' 'set' 'set' 'whisk' 'combine...   \n",
       "51  ['whip' 'grease' 'bake' 'cool' 'add' 'whip' 'a...   \n",
       "\n",
       "                                            set_verbs  \\\n",
       "10  ['sit' 'sift' 'melt' 'degrees' 'combine' 'whis...   \n",
       "51              ['bake' 'add' 'cool' 'grease' 'whip']   \n",
       "\n",
       "                                      clean_direction  \\\n",
       "10  preheat oven degrees softer muffin bake degree...   \n",
       "51  preheat oven mix ingredients except whipping c...   \n",
       "\n",
       "                                                pairs  \\\n",
       "10  ['stir milk' 'whisk eggs' 'whisk vanilla' 'com...   \n",
       "51           ['whip cream' 'whip cream' 'whip cream']   \n",
       "\n",
       "                                            pairs_set  \\\n",
       "10  ['use blueberries' 'whisk eggs' 'serve syrup' ...   \n",
       "51                                     ['whip cream']   \n",
       "\n",
       "                                   dish_type_response numbers len_numbers  \n",
       "10  RATIONALE: Pancakes, Mini, Muffins, All-purpos...    [-1]           0  \n",
       "51  RATIONALE: Dates and walnuts are common ingred...    [-1]           0  \n",
       "\n",
       "[2 rows x 23 columns]"
      ]
     },
     "execution_count": 51,
     "metadata": {},
     "output_type": "execute_result"
    }
   ],
   "source": [
    "df[df['len_numbers']==0].head(2)"
   ]
  },
  {
   "cell_type": "code",
   "execution_count": 52,
   "metadata": {
    "colab": {
     "base_uri": "https://localhost:8080/",
     "height": 304
    },
    "id": "uGDqx1nC4qpj",
    "outputId": "44b5e720-5963-4504-cf9c-e25167a1b87e"
   },
   "outputs": [
    {
     "data": {
      "text/plain": [
       "len_numbers\n",
       "1    21167\n",
       "2     4486\n",
       "3       90\n",
       "4        9\n",
       "5        5\n",
       "6        1\n",
       "dtype: int64"
      ]
     },
     "execution_count": 52,
     "metadata": {},
     "output_type": "execute_result"
    }
   ],
   "source": [
    "df['len_numbers']=df['numbers'].apply(len)\n",
    "df.groupby('len_numbers').size()"
   ]
  },
  {
   "cell_type": "code",
   "execution_count": 53,
   "metadata": {
    "id": "ALN6uGkT0M9W"
   },
   "outputs": [],
   "source": [
    "# De-duplicated numbers\n",
    "df['numbers_dedup'] = df['numbers'].apply(\n",
    "    lambda x: [x[0]] if len(x) > 1 and all(i == x[0] for i in x) else x\n",
    ")"
   ]
  },
  {
   "cell_type": "code",
   "execution_count": 54,
   "metadata": {
    "id": "gDQ1JUqY02a8"
   },
   "outputs": [],
   "source": [
    "df['num_ded_len']=df['numbers_dedup'].apply(len)"
   ]
  },
  {
   "cell_type": "code",
   "execution_count": 55,
   "metadata": {
    "id": "2kv9878Z6TA-"
   },
   "outputs": [],
   "source": [
    "df['number_after_equals'] = df['dish_type_response'].str.extract(r'NUMBER\\s*=\\s*(\\d+(?:\\.\\d+)?)')\n",
    "\n",
    "# Now, apply the condition: only keep the extracted number if num_ded_len > 1, else set to NaN\n",
    "df['number_after_equals'] = np.where(\n",
    "    df['number_after_equals'].isna(),\n",
    "    df['numbers_dedup'],\n",
    "    df['number_after_equals']\n",
    ")"
   ]
  },
  {
   "cell_type": "code",
   "execution_count": 56,
   "metadata": {
    "colab": {
     "base_uri": "https://localhost:8080/",
     "height": 1000
    },
    "id": "MF-OS5Gv2hNN",
    "outputId": "ad722140-7a68-4d75-a499-ae5140517d81"
   },
   "outputs": [
    {
     "data": {
      "text/plain": [
       "number_after_equals\n",
       "2                     5238\n",
       "5                     4144\n",
       "4                     4050\n",
       "7                     3772\n",
       "1                     3703\n",
       "3                     1838\n",
       "6                     1809\n",
       "[-1]                   642\n",
       "0                      345\n",
       "[7]                     55\n",
       "[1]                     44\n",
       "[5]                     33\n",
       "[4]                     25\n",
       "[2]                     15\n",
       "[0]                     11\n",
       "[6]                      9\n",
       "[3]                      7\n",
       "[3, 10]                  2\n",
       "[6, 4]                   2\n",
       "6.5                      1\n",
       "[3, 5, 7]                1\n",
       "[1, 7]                   1\n",
       "7.1                      1\n",
       "[1, 2, 3]                1\n",
       "[1, 4]                   1\n",
       "[3, 0, 1]                1\n",
       "[1, 2]                   1\n",
       "[7, 4, 3]                1\n",
       "[1, 4, 5]                1\n",
       "[6, 6, 2, 4, 5, 1]       1\n",
       "[4, 1, 2, 3]             1\n",
       "[1, 3]                   1\n",
       "[0, 1, 3, 4, 6]          1\n",
       "Name: count, dtype: int64"
      ]
     },
     "execution_count": 56,
     "metadata": {},
     "output_type": "execute_result"
    }
   ],
   "source": [
    "df['number_after_equals'].value_counts()"
   ]
  },
  {
   "cell_type": "code",
   "execution_count": 57,
   "metadata": {
    "id": "6PjRw37j1c2X"
   },
   "outputs": [],
   "source": [
    "df['len_nae']=df['number_after_equals'].apply(len)"
   ]
  },
  {
   "cell_type": "code",
   "execution_count": 58,
   "metadata": {
    "colab": {
     "base_uri": "https://localhost:8080/",
     "height": 304
    },
    "id": "1TJccjTp7Ghw",
    "outputId": "8af36b0a-22dc-410c-e6da-10a3cfa1c0e7"
   },
   "outputs": [
    {
     "data": {
      "text/plain": [
       "len_nae\n",
       "1    25740\n",
       "2        8\n",
       "3        7\n",
       "4        1\n",
       "6        1\n",
       "5        1\n",
       "Name: count, dtype: int64"
      ]
     },
     "execution_count": 58,
     "metadata": {},
     "output_type": "execute_result"
    }
   ],
   "source": [
    "df['len_nae'].value_counts()"
   ]
  },
  {
   "cell_type": "code",
   "execution_count": 59,
   "metadata": {
    "id": "mHbGl7au7SmR"
   },
   "outputs": [],
   "source": [
    "strange_rec=df[df['len_nae']>1]"
   ]
  },
  {
   "cell_type": "code",
   "execution_count": 60,
   "metadata": {
    "colab": {
     "base_uri": "https://localhost:8080/",
     "height": 672
    },
    "id": "oO-FQgxH7bt5",
    "outputId": "c629554a-7d23-4a3e-e166-41b5f02c6302"
   },
   "outputs": [
    {
     "name": "stdout",
     "output_type": "stream",
     "text": [
      "(18, 27)\n"
     ]
    },
    {
     "data": {
      "text/html": [
       "<div>\n",
       "<style scoped>\n",
       "    .dataframe tbody tr th:only-of-type {\n",
       "        vertical-align: middle;\n",
       "    }\n",
       "\n",
       "    .dataframe tbody tr th {\n",
       "        vertical-align: top;\n",
       "    }\n",
       "\n",
       "    .dataframe thead th {\n",
       "        text-align: right;\n",
       "    }\n",
       "</style>\n",
       "<table border=\"1\" class=\"dataframe\">\n",
       "  <thead>\n",
       "    <tr style=\"text-align: right;\">\n",
       "      <th></th>\n",
       "      <th>title</th>\n",
       "      <th>ingredients</th>\n",
       "      <th>directions</th>\n",
       "      <th>link</th>\n",
       "      <th>source</th>\n",
       "      <th>NER</th>\n",
       "      <th>NER_list</th>\n",
       "      <th>NER_len</th>\n",
       "      <th>directions_len</th>\n",
       "      <th>title_lower</th>\n",
       "      <th>...</th>\n",
       "      <th>clean_direction</th>\n",
       "      <th>pairs</th>\n",
       "      <th>pairs_set</th>\n",
       "      <th>dish_type_response</th>\n",
       "      <th>numbers</th>\n",
       "      <th>len_numbers</th>\n",
       "      <th>numbers_dedup</th>\n",
       "      <th>num_ded_len</th>\n",
       "      <th>number_after_equals</th>\n",
       "      <th>len_nae</th>\n",
       "    </tr>\n",
       "  </thead>\n",
       "  <tbody>\n",
       "    <tr>\n",
       "      <th>3038</th>\n",
       "      <td>Bit Of Brie</td>\n",
       "      <td>[\"3/4 c. finely chopped pecans\", \"1/4 c. Kahlu...</td>\n",
       "      <td>[\"Spread pecans in a 9-inch pie plate.\", \"Micr...</td>\n",
       "      <td>www.cookbooks.com/Recipe-Details.aspx?id=858546</td>\n",
       "      <td>Gathered</td>\n",
       "      <td>[\"pecans\", \"Kahlua\", \"brown sugar\"]</td>\n",
       "      <td>['pecans' 'kahlua' 'brown sugar']</td>\n",
       "      <td>3</td>\n",
       "      <td>280</td>\n",
       "      <td>bit of brie</td>\n",
       "      <td>...</td>\n",
       "      <td>spread pecans inch pie plate microwave high mi...</td>\n",
       "      <td>['add kahlua' 'add sugar']</td>\n",
       "      <td>['add kahlua' 'add sugar']</td>\n",
       "      <td>RATIONALE: 3-10 keywords: pecans, Kahlua, brow...</td>\n",
       "      <td>[3, 10]</td>\n",
       "      <td>2</td>\n",
       "      <td>[3, 10]</td>\n",
       "      <td>2</td>\n",
       "      <td>[3, 10]</td>\n",
       "      <td>2</td>\n",
       "    </tr>\n",
       "    <tr>\n",
       "      <th>8342</th>\n",
       "      <td>Dumplings Steamed In A Pressure Cooker</td>\n",
       "      <td>[\"1 cup flour\", \"1 1/2 teaspoons baking powder...</td>\n",
       "      <td>[\"Sift flour,baking power and salt together. C...</td>\n",
       "      <td>www.food.com/recipe/dumplings-steamed-in-a-pre...</td>\n",
       "      <td>Gathered</td>\n",
       "      <td>[\"flour\", \"baking powder\", \"salt\", \"egg\", \"mil...</td>\n",
       "      <td>['flour' 'baking powder' 'salt' 'egg' 'milk' '...</td>\n",
       "      <td>6</td>\n",
       "      <td>283</td>\n",
       "      <td>dumplings steamed in a pressure cooker</td>\n",
       "      <td>...</td>\n",
       "      <td>sift flour baking power salt together combine ...</td>\n",
       "      <td>['sift flour' 'bake salt' 'add ingredients' 'm...</td>\n",
       "      <td>['sift flour' 'bake salt' 'add ingredients' 'm...</td>\n",
       "      <td>RATIONALE: Steamed dumplings are a type of bre...</td>\n",
       "      <td>[1, 2]</td>\n",
       "      <td>2</td>\n",
       "      <td>[1, 2]</td>\n",
       "      <td>2</td>\n",
       "      <td>[1, 2]</td>\n",
       "      <td>2</td>\n",
       "    </tr>\n",
       "    <tr>\n",
       "      <th>8629</th>\n",
       "      <td>Easy Peanut Butter Cookies 3 Ing.</td>\n",
       "      <td>[\"1 cup peanut butter\", \"1 cup sugar\", \"1 larg...</td>\n",
       "      <td>[\"mix ingredients in bowl.\", \"roll into medium...</td>\n",
       "      <td>www.food.com/recipe/easy-peanut-butter-cookies...</td>\n",
       "      <td>Gathered</td>\n",
       "      <td>[\"peanut butter\", \"sugar\", \"egg white\", \"vanil...</td>\n",
       "      <td>['peanut butter' 'sugar' 'egg white' 'vanilla']</td>\n",
       "      <td>4</td>\n",
       "      <td>344</td>\n",
       "      <td>easy peanut butter cookies 3 ing.</td>\n",
       "      <td>...</td>\n",
       "      <td>mix ingredients bowl roll medium sized balls p...</td>\n",
       "      <td>['bowl roll']</td>\n",
       "      <td>['bowl roll']</td>\n",
       "      <td>RATIONALE: Peanut butter cookies are a type of...</td>\n",
       "      <td>[1, 3]</td>\n",
       "      <td>2</td>\n",
       "      <td>[1, 3]</td>\n",
       "      <td>2</td>\n",
       "      <td>[1, 3]</td>\n",
       "      <td>2</td>\n",
       "    </tr>\n",
       "    <tr>\n",
       "      <th>9119</th>\n",
       "      <td>Excessively Simple Cream of Tomato Soup</td>\n",
       "      <td>[\"1 (14 1/2 ounce) canpeeled crushed tomatoes\"...</td>\n",
       "      <td>[\"Pour the tomatoes into the pot you're cookin...</td>\n",
       "      <td>www.food.com/recipe/excessively-simple-cream-o...</td>\n",
       "      <td>Recipes1M</td>\n",
       "      <td>[\"tomatoes\", \"milk\", \"baking soda\"]</td>\n",
       "      <td>['tomatoes' 'milk' 'baking soda']</td>\n",
       "      <td>3</td>\n",
       "      <td>378</td>\n",
       "      <td>excessively simple cream of tomato soup</td>\n",
       "      <td>...</td>\n",
       "      <td>pour tomatoes pot cooking set stove high heat ...</td>\n",
       "      <td>['cook stove' 'set stove' 'keep tomatoes' 'bub...</td>\n",
       "      <td>['cook stove' 'set stove' 'keep tomatoes' 'bub...</td>\n",
       "      <td>RATIONALE: Tomato soup, milk, baking soda. Sim...</td>\n",
       "      <td>[4, 1, 2, 3]</td>\n",
       "      <td>4</td>\n",
       "      <td>[4, 1, 2, 3]</td>\n",
       "      <td>4</td>\n",
       "      <td>[4, 1, 2, 3]</td>\n",
       "      <td>4</td>\n",
       "    </tr>\n",
       "    <tr>\n",
       "      <th>11360</th>\n",
       "      <td>Green Onion And Apple Sausage</td>\n",
       "      <td>[\"2 lbs. ground pork\", \"1 tsp. salt\", \"1/2 tsp...</td>\n",
       "      <td>[\"Mix ingredients in a bowl.\", \"Form into desi...</td>\n",
       "      <td>www.cookbooks.com/Recipe-Details.aspx?id=52633</td>\n",
       "      <td>Gathered</td>\n",
       "      <td>[\"ground pork\", \"salt\", \"black pepper\", \"cayen...</td>\n",
       "      <td>['ground pork' 'salt' 'black pepper' 'cayenne ...</td>\n",
       "      <td>10</td>\n",
       "      <td>296</td>\n",
       "      <td>green onion and apple sausage</td>\n",
       "      <td>...</td>\n",
       "      <td>mix ingredients bowl form desired sized pattie...</td>\n",
       "      <td>['pink center']</td>\n",
       "      <td>['pink center']</td>\n",
       "      <td>RATIONALE: ground pork, sausage (meat), green ...</td>\n",
       "      <td>[6, 6, 2, 4, 5, 1]</td>\n",
       "      <td>6</td>\n",
       "      <td>[6, 6, 2, 4, 5, 1]</td>\n",
       "      <td>6</td>\n",
       "      <td>[6, 6, 2, 4, 5, 1]</td>\n",
       "      <td>6</td>\n",
       "    </tr>\n",
       "  </tbody>\n",
       "</table>\n",
       "<p>5 rows × 27 columns</p>\n",
       "</div>"
      ],
      "text/plain": [
       "                                         title  \\\n",
       "3038                               Bit Of Brie   \n",
       "8342    Dumplings Steamed In A Pressure Cooker   \n",
       "8629         Easy Peanut Butter Cookies 3 Ing.   \n",
       "9119   Excessively Simple Cream of Tomato Soup   \n",
       "11360            Green Onion And Apple Sausage   \n",
       "\n",
       "                                             ingredients  \\\n",
       "3038   [\"3/4 c. finely chopped pecans\", \"1/4 c. Kahlu...   \n",
       "8342   [\"1 cup flour\", \"1 1/2 teaspoons baking powder...   \n",
       "8629   [\"1 cup peanut butter\", \"1 cup sugar\", \"1 larg...   \n",
       "9119   [\"1 (14 1/2 ounce) canpeeled crushed tomatoes\"...   \n",
       "11360  [\"2 lbs. ground pork\", \"1 tsp. salt\", \"1/2 tsp...   \n",
       "\n",
       "                                              directions  \\\n",
       "3038   [\"Spread pecans in a 9-inch pie plate.\", \"Micr...   \n",
       "8342   [\"Sift flour,baking power and salt together. C...   \n",
       "8629   [\"mix ingredients in bowl.\", \"roll into medium...   \n",
       "9119   [\"Pour the tomatoes into the pot you're cookin...   \n",
       "11360  [\"Mix ingredients in a bowl.\", \"Form into desi...   \n",
       "\n",
       "                                                    link     source  \\\n",
       "3038     www.cookbooks.com/Recipe-Details.aspx?id=858546   Gathered   \n",
       "8342   www.food.com/recipe/dumplings-steamed-in-a-pre...   Gathered   \n",
       "8629   www.food.com/recipe/easy-peanut-butter-cookies...   Gathered   \n",
       "9119   www.food.com/recipe/excessively-simple-cream-o...  Recipes1M   \n",
       "11360     www.cookbooks.com/Recipe-Details.aspx?id=52633   Gathered   \n",
       "\n",
       "                                                     NER  \\\n",
       "3038                 [\"pecans\", \"Kahlua\", \"brown sugar\"]   \n",
       "8342   [\"flour\", \"baking powder\", \"salt\", \"egg\", \"mil...   \n",
       "8629   [\"peanut butter\", \"sugar\", \"egg white\", \"vanil...   \n",
       "9119                 [\"tomatoes\", \"milk\", \"baking soda\"]   \n",
       "11360  [\"ground pork\", \"salt\", \"black pepper\", \"cayen...   \n",
       "\n",
       "                                                NER_list  NER_len  \\\n",
       "3038                   ['pecans' 'kahlua' 'brown sugar']        3   \n",
       "8342   ['flour' 'baking powder' 'salt' 'egg' 'milk' '...        6   \n",
       "8629     ['peanut butter' 'sugar' 'egg white' 'vanilla']        4   \n",
       "9119                   ['tomatoes' 'milk' 'baking soda']        3   \n",
       "11360  ['ground pork' 'salt' 'black pepper' 'cayenne ...       10   \n",
       "\n",
       "       directions_len                              title_lower  ...  \\\n",
       "3038              280                              bit of brie  ...   \n",
       "8342              283   dumplings steamed in a pressure cooker  ...   \n",
       "8629              344        easy peanut butter cookies 3 ing.  ...   \n",
       "9119              378  excessively simple cream of tomato soup  ...   \n",
       "11360             296            green onion and apple sausage  ...   \n",
       "\n",
       "                                         clean_direction  \\\n",
       "3038   spread pecans inch pie plate microwave high mi...   \n",
       "8342   sift flour baking power salt together combine ...   \n",
       "8629   mix ingredients bowl roll medium sized balls p...   \n",
       "9119   pour tomatoes pot cooking set stove high heat ...   \n",
       "11360  mix ingredients bowl form desired sized pattie...   \n",
       "\n",
       "                                                   pairs  \\\n",
       "3038                          ['add kahlua' 'add sugar']   \n",
       "8342   ['sift flour' 'bake salt' 'add ingredients' 'm...   \n",
       "8629                                       ['bowl roll']   \n",
       "9119   ['cook stove' 'set stove' 'keep tomatoes' 'bub...   \n",
       "11360                                    ['pink center']   \n",
       "\n",
       "                                               pairs_set  \\\n",
       "3038                          ['add kahlua' 'add sugar']   \n",
       "8342   ['sift flour' 'bake salt' 'add ingredients' 'm...   \n",
       "8629                                       ['bowl roll']   \n",
       "9119   ['cook stove' 'set stove' 'keep tomatoes' 'bub...   \n",
       "11360                                    ['pink center']   \n",
       "\n",
       "                                      dish_type_response             numbers  \\\n",
       "3038   RATIONALE: 3-10 keywords: pecans, Kahlua, brow...             [3, 10]   \n",
       "8342   RATIONALE: Steamed dumplings are a type of bre...              [1, 2]   \n",
       "8629   RATIONALE: Peanut butter cookies are a type of...              [1, 3]   \n",
       "9119   RATIONALE: Tomato soup, milk, baking soda. Sim...        [4, 1, 2, 3]   \n",
       "11360  RATIONALE: ground pork, sausage (meat), green ...  [6, 6, 2, 4, 5, 1]   \n",
       "\n",
       "      len_numbers       numbers_dedup num_ded_len number_after_equals len_nae  \n",
       "3038            2             [3, 10]           2             [3, 10]       2  \n",
       "8342            2              [1, 2]           2              [1, 2]       2  \n",
       "8629            2              [1, 3]           2              [1, 3]       2  \n",
       "9119            4        [4, 1, 2, 3]           4        [4, 1, 2, 3]       4  \n",
       "11360           6  [6, 6, 2, 4, 5, 1]           6  [6, 6, 2, 4, 5, 1]       6  \n",
       "\n",
       "[5 rows x 27 columns]"
      ]
     },
     "execution_count": 60,
     "metadata": {},
     "output_type": "execute_result"
    }
   ],
   "source": [
    "print(strange_rec.shape)\n",
    "strange_rec.head()"
   ]
  },
  {
   "cell_type": "code",
   "execution_count": 61,
   "metadata": {
    "id": "C3Wsd0Yz1f7z"
   },
   "outputs": [],
   "source": [
    "df=df[df['len_nae']==1]"
   ]
  },
  {
   "cell_type": "code",
   "execution_count": 62,
   "metadata": {
    "colab": {
     "base_uri": "https://localhost:8080/",
     "height": 649
    },
    "id": "--lJeMHG18on",
    "outputId": "cfffa8c0-b7b8-4494-895e-7ec5520df9ce"
   },
   "outputs": [
    {
     "data": {
      "text/plain": [
       "number_after_equals\n",
       "2       5238\n",
       "5       4144\n",
       "4       4050\n",
       "7       3772\n",
       "1       3703\n",
       "3       1838\n",
       "6       1809\n",
       "[-1]     642\n",
       "0        345\n",
       "[7]       55\n",
       "[1]       44\n",
       "[5]       33\n",
       "[4]       25\n",
       "[2]       15\n",
       "[0]       11\n",
       "[6]        9\n",
       "[3]        7\n",
       "Name: count, dtype: int64"
      ]
     },
     "execution_count": 62,
     "metadata": {},
     "output_type": "execute_result"
    }
   ],
   "source": [
    "df['number_after_equals'].value_counts()"
   ]
  },
  {
   "cell_type": "code",
   "execution_count": 63,
   "metadata": {
    "id": "RyWvhBs_8QuN"
   },
   "outputs": [],
   "source": [
    "# Convert each entry in 'number_after_equals' to a digit (if it's a list, extract the first number)\n",
    "df['naed'] = df['number_after_equals'].apply(\n",
    "    lambda x: x[0] if isinstance(x, list) and len(x) > 0 else x\n",
    ")\n",
    "\n",
    "# Ensure the result is numeric (in case of -1 or other numbers in lists)\n",
    "df['naed'] = pd.to_numeric(df['naed'], errors='coerce')"
   ]
  },
  {
   "cell_type": "code",
   "execution_count": 64,
   "metadata": {
    "colab": {
     "base_uri": "https://localhost:8080/",
     "height": 398
    },
    "id": "2GOCaChH3Msn",
    "outputId": "c4a3aeb5-3c0c-4ad6-efa1-e3deeb376590"
   },
   "outputs": [
    {
     "data": {
      "text/plain": [
       "naed\n",
       " 2    5253\n",
       " 5    4177\n",
       " 4    4075\n",
       " 7    3827\n",
       " 1    3747\n",
       " 3    1845\n",
       " 6    1818\n",
       "-1     642\n",
       " 0     356\n",
       "Name: count, dtype: int64"
      ]
     },
     "execution_count": 64,
     "metadata": {},
     "output_type": "execute_result"
    }
   ],
   "source": [
    "df['naed'].value_counts()"
   ]
  },
  {
   "cell_type": "code",
   "execution_count": 65,
   "metadata": {
    "id": "RRWXiD-i3osv"
   },
   "outputs": [],
   "source": [
    "missing_categories=df[df['naed']==-1]"
   ]
  },
  {
   "cell_type": "code",
   "execution_count": 66,
   "metadata": {
    "colab": {
     "base_uri": "https://localhost:8080/"
    },
    "id": "HxF5ijsq8zZS",
    "outputId": "0c9aded6-9c17-4bc0-de8b-30d62446a5a5"
   },
   "outputs": [
    {
     "data": {
      "text/plain": [
       "(642, 28)"
      ]
     },
     "execution_count": 66,
     "metadata": {},
     "output_type": "execute_result"
    }
   ],
   "source": [
    "missing_categories.shape"
   ]
  },
  {
   "cell_type": "code",
   "execution_count": 67,
   "metadata": {
    "colab": {
     "base_uri": "https://localhost:8080/",
     "height": 1000
    },
    "id": "c4M3TxE59iUX",
    "outputId": "de15ca45-fc4b-4e82-eba0-34b11b8db227"
   },
   "outputs": [
    {
     "data": {
      "text/html": [
       "<div>\n",
       "<style scoped>\n",
       "    .dataframe tbody tr th:only-of-type {\n",
       "        vertical-align: middle;\n",
       "    }\n",
       "\n",
       "    .dataframe tbody tr th {\n",
       "        vertical-align: top;\n",
       "    }\n",
       "\n",
       "    .dataframe thead th {\n",
       "        text-align: right;\n",
       "    }\n",
       "</style>\n",
       "<table border=\"1\" class=\"dataframe\">\n",
       "  <thead>\n",
       "    <tr style=\"text-align: right;\">\n",
       "      <th></th>\n",
       "      <th>title</th>\n",
       "      <th>ingredients</th>\n",
       "      <th>directions</th>\n",
       "      <th>link</th>\n",
       "      <th>source</th>\n",
       "      <th>NER</th>\n",
       "      <th>NER_list</th>\n",
       "      <th>NER_len</th>\n",
       "      <th>directions_len</th>\n",
       "      <th>title_lower</th>\n",
       "      <th>...</th>\n",
       "      <th>pairs</th>\n",
       "      <th>pairs_set</th>\n",
       "      <th>dish_type_response</th>\n",
       "      <th>numbers</th>\n",
       "      <th>len_numbers</th>\n",
       "      <th>numbers_dedup</th>\n",
       "      <th>num_ded_len</th>\n",
       "      <th>number_after_equals</th>\n",
       "      <th>len_nae</th>\n",
       "      <th>naed</th>\n",
       "    </tr>\n",
       "  </thead>\n",
       "  <tbody>\n",
       "    <tr>\n",
       "      <th>10</th>\n",
       "      <td>\" Pancake Mini Muffins. \"</td>\n",
       "      <td>[\"3 cup all-purpose flour\", \"1 tbsp baking pow...</td>\n",
       "      <td>[\"Preheat oven to 425 degrees .\", \"For a softe...</td>\n",
       "      <td>cookpad.com/us/recipes/362436-pancake-mini-muf...</td>\n",
       "      <td>Recipes1M</td>\n",
       "      <td>[\"all-purpose\", \"baking powder\", \"salt\", \"milk...</td>\n",
       "      <td>['all-purpose' 'baking powder' 'salt' 'milk' '...</td>\n",
       "      <td>9</td>\n",
       "      <td>598</td>\n",
       "      <td>\" pancake mini muffins. \"</td>\n",
       "      <td>...</td>\n",
       "      <td>['stir milk' 'whisk eggs' 'whisk vanilla' 'com...</td>\n",
       "      <td>['use blueberries' 'whisk eggs' 'serve syrup' ...</td>\n",
       "      <td>RATIONALE: Pancakes, Mini, Muffins, All-purpos...</td>\n",
       "      <td>[-1]</td>\n",
       "      <td>1</td>\n",
       "      <td>[-1]</td>\n",
       "      <td>1</td>\n",
       "      <td>[-1]</td>\n",
       "      <td>1</td>\n",
       "      <td>-1</td>\n",
       "    </tr>\n",
       "    <tr>\n",
       "      <th>51</th>\n",
       "      <td>\"Food For The Gods\"</td>\n",
       "      <td>[\"1 cup white sugar\", \"1/3 cup graham cracker ...</td>\n",
       "      <td>[\"Preheat oven to 250\\u00b0. Mix all ingredien...</td>\n",
       "      <td>www.cookbooks.com/Recipe-Details.aspx?id=31289</td>\n",
       "      <td>Gathered</td>\n",
       "      <td>[\"white sugar\", \"graham cracker crumbs\", \"baki...</td>\n",
       "      <td>['white sugar' 'graham cracker crumbs' 'baking...</td>\n",
       "      <td>7</td>\n",
       "      <td>308</td>\n",
       "      <td>\"food for the gods\"</td>\n",
       "      <td>...</td>\n",
       "      <td>['whip cream' 'whip cream' 'whip cream']</td>\n",
       "      <td>['whip cream']</td>\n",
       "      <td>RATIONALE: Dates and walnuts are common ingred...</td>\n",
       "      <td>[-1]</td>\n",
       "      <td>1</td>\n",
       "      <td>[-1]</td>\n",
       "      <td>1</td>\n",
       "      <td>[-1]</td>\n",
       "      <td>1</td>\n",
       "      <td>-1</td>\n",
       "    </tr>\n",
       "    <tr>\n",
       "      <th>68</th>\n",
       "      <td>\"He-Man\" Hamburgers</td>\n",
       "      <td>[\"1 c. soft bread crumbs\", \"1/2 c. milk\", \"1 1...</td>\n",
       "      <td>[\"Combine bread crumbs, milk and beef.\", \"Mix ...</td>\n",
       "      <td>www.cookbooks.com/Recipe-Details.aspx?id=742503</td>\n",
       "      <td>Gathered</td>\n",
       "      <td>[\"bread crumbs\", \"milk\", \"ground beef\", \"salad...</td>\n",
       "      <td>['bread crumbs' 'milk' 'ground beef' 'salad oi...</td>\n",
       "      <td>11</td>\n",
       "      <td>272</td>\n",
       "      <td>\"he-man\" hamburgers</td>\n",
       "      <td>...</td>\n",
       "      <td>['combine bread' 'crumb milk' 'crumb beef' 'he...</td>\n",
       "      <td>['remain ingredients' 'crumb milk' 'combine in...</td>\n",
       "      <td>RATIONALE: Ground beef patties, not a bake or ...</td>\n",
       "      <td>[-1]</td>\n",
       "      <td>1</td>\n",
       "      <td>[-1]</td>\n",
       "      <td>1</td>\n",
       "      <td>[-1]</td>\n",
       "      <td>1</td>\n",
       "      <td>-1</td>\n",
       "    </tr>\n",
       "    <tr>\n",
       "      <th>87</th>\n",
       "      <td>\"Lost Bread\" (French Toast) Recipe</td>\n",
       "      <td>[\"4 Large eggs, well beaten\", \"1 c. sugar\", \"2...</td>\n",
       "      <td>[\"Mix first 6 ingredients well.\", \"Soak each s...</td>\n",
       "      <td>cookeatshare.com/recipes/lost-bread-french-toa...</td>\n",
       "      <td>Recipes1M</td>\n",
       "      <td>[\"eggs\", \"sugar\", \"vanilla\", \"cinnamon\", \"nutm...</td>\n",
       "      <td>['eggs' 'sugar' 'vanilla' 'cinnamon' 'nutmeg' ...</td>\n",
       "      <td>6</td>\n",
       "      <td>291</td>\n",
       "      <td>\"lost bread\" (french toast) recipe</td>\n",
       "      <td>...</td>\n",
       "      <td>['remain bread' 'powder sugar']</td>\n",
       "      <td>['remain bread' 'powder sugar']</td>\n",
       "      <td>RATIONALE: French toast is a Breakfast Bake, s...</td>\n",
       "      <td>[-1]</td>\n",
       "      <td>1</td>\n",
       "      <td>[-1]</td>\n",
       "      <td>1</td>\n",
       "      <td>[-1]</td>\n",
       "      <td>1</td>\n",
       "      <td>-1</td>\n",
       "    </tr>\n",
       "    <tr>\n",
       "      <th>387</th>\n",
       "      <td>A Different Seven Layer Salad</td>\n",
       "      <td>[\"12 cup sour cream (you can use no-fat)\", \"12...</td>\n",
       "      <td>[\"DRESSING:\", \"Process all ingredients togethe...</td>\n",
       "      <td>www.food.com/recipe/a-different-seven-layer-sa...</td>\n",
       "      <td>Recipes1M</td>\n",
       "      <td>[\"sour cream\", \"buttermilk\", \"feta cheese\", \"s...</td>\n",
       "      <td>['sour cream' 'buttermilk' 'feta cheese' 'suga...</td>\n",
       "      <td>13</td>\n",
       "      <td>369</td>\n",
       "      <td>a different seven layer salad</td>\n",
       "      <td>...</td>\n",
       "      <td>['dress ingredients' 'chill salad' 'pour dress...</td>\n",
       "      <td>['pour dressing' 'chill salad' 'dress bacon' '...</td>\n",
       "      <td>RATIONALE: Seven layer salad, pasta, tortellin...</td>\n",
       "      <td>[-1]</td>\n",
       "      <td>1</td>\n",
       "      <td>[-1]</td>\n",
       "      <td>1</td>\n",
       "      <td>[-1]</td>\n",
       "      <td>1</td>\n",
       "      <td>-1</td>\n",
       "    </tr>\n",
       "    <tr>\n",
       "      <th>...</th>\n",
       "      <td>...</td>\n",
       "      <td>...</td>\n",
       "      <td>...</td>\n",
       "      <td>...</td>\n",
       "      <td>...</td>\n",
       "      <td>...</td>\n",
       "      <td>...</td>\n",
       "      <td>...</td>\n",
       "      <td>...</td>\n",
       "      <td>...</td>\n",
       "      <td>...</td>\n",
       "      <td>...</td>\n",
       "      <td>...</td>\n",
       "      <td>...</td>\n",
       "      <td>...</td>\n",
       "      <td>...</td>\n",
       "      <td>...</td>\n",
       "      <td>...</td>\n",
       "      <td>...</td>\n",
       "      <td>...</td>\n",
       "      <td>...</td>\n",
       "    </tr>\n",
       "    <tr>\n",
       "      <th>25508</th>\n",
       "      <td>Yogurt Cup</td>\n",
       "      <td>[\"3/4 c. flour\", \"1/4 c. softened margarine\", ...</td>\n",
       "      <td>[\"Heat oven to 375\\u00b0.\", \"Mix flour, margar...</td>\n",
       "      <td>www.cookbooks.com/Recipe-Details.aspx?id=215437</td>\n",
       "      <td>Gathered</td>\n",
       "      <td>[\"flour\", \"margarine\", \"powdered sugar\", \"cold...</td>\n",
       "      <td>['flour' 'margarine' 'powdered sugar' 'cold wa...</td>\n",
       "      <td>5</td>\n",
       "      <td>461</td>\n",
       "      <td>yogurt cup</td>\n",
       "      <td>...</td>\n",
       "      <td>['powder sugar' 'stir dough']</td>\n",
       "      <td>['powder sugar' 'stir dough']</td>\n",
       "      <td>RATIONALE: Yogurt is a drink or fruit treat, b...</td>\n",
       "      <td>[-1]</td>\n",
       "      <td>1</td>\n",
       "      <td>[-1]</td>\n",
       "      <td>1</td>\n",
       "      <td>[-1]</td>\n",
       "      <td>1</td>\n",
       "      <td>-1</td>\n",
       "    </tr>\n",
       "    <tr>\n",
       "      <th>25520</th>\n",
       "      <td>You Can't Beat 'em Healthy Blender Muffins</td>\n",
       "      <td>[\"1 apple, cored (peel if you want)\", \"9 prune...</td>\n",
       "      <td>[\"Preheat oven to 350F.\", \"Blend the apple, pr...</td>\n",
       "      <td>www.food.com/recipe/you-cant-beat-em-healthy-b...</td>\n",
       "      <td>Recipes1M</td>\n",
       "      <td>[\"apple\", \"prunes\", \"dates\", \"bananas\", \"eggs\"...</td>\n",
       "      <td>['apple' 'prunes' 'dates' 'bananas' 'eggs' 'bu...</td>\n",
       "      <td>17</td>\n",
       "      <td>426</td>\n",
       "      <td>you can't beat 'em healthy blender muffins</td>\n",
       "      <td>...</td>\n",
       "      <td>['blend apple' 'blend prunes' 'puree bananas' ...</td>\n",
       "      <td>['insert center' 'puree bananas' 'remain ingre...</td>\n",
       "      <td>RATIONALE: Healthy, Blender, Muffins, Fruits (...</td>\n",
       "      <td>[-1]</td>\n",
       "      <td>1</td>\n",
       "      <td>[-1]</td>\n",
       "      <td>1</td>\n",
       "      <td>[-1]</td>\n",
       "      <td>1</td>\n",
       "      <td>-1</td>\n",
       "    </tr>\n",
       "    <tr>\n",
       "      <th>25579</th>\n",
       "      <td>Yummy Taco Rice</td>\n",
       "      <td>[\"1 cup white rice, uncooked\", \"1 lb ground be...</td>\n",
       "      <td>[\"Cook rice according to package directions.\",...</td>\n",
       "      <td>www.food.com/recipe/yummy-taco-rice-225022</td>\n",
       "      <td>Recipes1M</td>\n",
       "      <td>[\"white rice\", \"ground beef\", \"taco\", \"blend c...</td>\n",
       "      <td>['white rice' 'ground beef' 'taco' 'blend chee...</td>\n",
       "      <td>6</td>\n",
       "      <td>364</td>\n",
       "      <td>yummy taco rice</td>\n",
       "      <td>...</td>\n",
       "      <td>['cook rice' 'skillet brown' 'skillet ground' ...</td>\n",
       "      <td>['serve chips' 'add taco' 'melt tortilla' 'ski...</td>\n",
       "      <td>RATIONALE: Rice, ground beef, taco, cheese, sa...</td>\n",
       "      <td>[-1]</td>\n",
       "      <td>1</td>\n",
       "      <td>[-1]</td>\n",
       "      <td>1</td>\n",
       "      <td>[-1]</td>\n",
       "      <td>1</td>\n",
       "      <td>-1</td>\n",
       "    </tr>\n",
       "    <tr>\n",
       "      <th>25658</th>\n",
       "      <td>Zippy-Zoo Marinade</td>\n",
       "      <td>[\"3 tablespoons soy sauce\", \"2 tablespoons bar...</td>\n",
       "      <td>[\"In a shallow dish, combine soy sauce, barbec...</td>\n",
       "      <td>www.allrecipes.com/recipe/52598/zippy-zoo-mari...</td>\n",
       "      <td>Gathered</td>\n",
       "      <td>[\"soy sauce\", \"barbecue sauce\", \"vegetable oil...</td>\n",
       "      <td>['soy sauce' 'barbecue sauce' 'vegetable oil' ...</td>\n",
       "      <td>12</td>\n",
       "      <td>252</td>\n",
       "      <td>zippy-zoo marinade</td>\n",
       "      <td>...</td>\n",
       "      <td>[]</td>\n",
       "      <td>[]</td>\n",
       "      <td>RATIONALE: savory marinade, soy sauce, barbecu...</td>\n",
       "      <td>[-1]</td>\n",
       "      <td>1</td>\n",
       "      <td>[-1]</td>\n",
       "      <td>1</td>\n",
       "      <td>[-1]</td>\n",
       "      <td>1</td>\n",
       "      <td>-1</td>\n",
       "    </tr>\n",
       "    <tr>\n",
       "      <th>25725</th>\n",
       "      <td>Zucchini Relish(Given To Me By A Camper Friend...</td>\n",
       "      <td>[\"10 c. grated zucchini\", \"3 large onions, cho...</td>\n",
       "      <td>[\"Mix zucchini and onions; add salt. Mix well....</td>\n",
       "      <td>www.cookbooks.com/Recipe-Details.aspx?id=795201</td>\n",
       "      <td>Gathered</td>\n",
       "      <td>[\"zucchini\", \"onions\", \"salt\", \"cider vinegar\"...</td>\n",
       "      <td>['zucchini' 'onions' 'salt' 'cider vinegar' 's...</td>\n",
       "      <td>12</td>\n",
       "      <td>223</td>\n",
       "      <td>zucchini relish(given to me by a camper friend.)</td>\n",
       "      <td>...</td>\n",
       "      <td>['add salt' 'add ingredients' 'remain ingredie...</td>\n",
       "      <td>['remain ingredients' 'add salt' 'add ingredie...</td>\n",
       "      <td>RATIONALE: pickled vegetable relish, zucchini,...</td>\n",
       "      <td>[-1]</td>\n",
       "      <td>1</td>\n",
       "      <td>[-1]</td>\n",
       "      <td>1</td>\n",
       "      <td>[-1]</td>\n",
       "      <td>1</td>\n",
       "      <td>-1</td>\n",
       "    </tr>\n",
       "  </tbody>\n",
       "</table>\n",
       "<p>642 rows × 28 columns</p>\n",
       "</div>"
      ],
      "text/plain": [
       "                                                   title  \\\n",
       "10                             \" Pancake Mini Muffins. \"   \n",
       "51                                   \"Food For The Gods\"   \n",
       "68                                   \"He-Man\" Hamburgers   \n",
       "87                    \"Lost Bread\" (French Toast) Recipe   \n",
       "387                        A Different Seven Layer Salad   \n",
       "...                                                  ...   \n",
       "25508                                         Yogurt Cup   \n",
       "25520         You Can't Beat 'em Healthy Blender Muffins   \n",
       "25579                                    Yummy Taco Rice   \n",
       "25658                                 Zippy-Zoo Marinade   \n",
       "25725  Zucchini Relish(Given To Me By A Camper Friend...   \n",
       "\n",
       "                                             ingredients  \\\n",
       "10     [\"3 cup all-purpose flour\", \"1 tbsp baking pow...   \n",
       "51     [\"1 cup white sugar\", \"1/3 cup graham cracker ...   \n",
       "68     [\"1 c. soft bread crumbs\", \"1/2 c. milk\", \"1 1...   \n",
       "87     [\"4 Large eggs, well beaten\", \"1 c. sugar\", \"2...   \n",
       "387    [\"12 cup sour cream (you can use no-fat)\", \"12...   \n",
       "...                                                  ...   \n",
       "25508  [\"3/4 c. flour\", \"1/4 c. softened margarine\", ...   \n",
       "25520  [\"1 apple, cored (peel if you want)\", \"9 prune...   \n",
       "25579  [\"1 cup white rice, uncooked\", \"1 lb ground be...   \n",
       "25658  [\"3 tablespoons soy sauce\", \"2 tablespoons bar...   \n",
       "25725  [\"10 c. grated zucchini\", \"3 large onions, cho...   \n",
       "\n",
       "                                              directions  \\\n",
       "10     [\"Preheat oven to 425 degrees .\", \"For a softe...   \n",
       "51     [\"Preheat oven to 250\\u00b0. Mix all ingredien...   \n",
       "68     [\"Combine bread crumbs, milk and beef.\", \"Mix ...   \n",
       "87     [\"Mix first 6 ingredients well.\", \"Soak each s...   \n",
       "387    [\"DRESSING:\", \"Process all ingredients togethe...   \n",
       "...                                                  ...   \n",
       "25508  [\"Heat oven to 375\\u00b0.\", \"Mix flour, margar...   \n",
       "25520  [\"Preheat oven to 350F.\", \"Blend the apple, pr...   \n",
       "25579  [\"Cook rice according to package directions.\",...   \n",
       "25658  [\"In a shallow dish, combine soy sauce, barbec...   \n",
       "25725  [\"Mix zucchini and onions; add salt. Mix well....   \n",
       "\n",
       "                                                    link     source  \\\n",
       "10     cookpad.com/us/recipes/362436-pancake-mini-muf...  Recipes1M   \n",
       "51        www.cookbooks.com/Recipe-Details.aspx?id=31289   Gathered   \n",
       "68       www.cookbooks.com/Recipe-Details.aspx?id=742503   Gathered   \n",
       "87     cookeatshare.com/recipes/lost-bread-french-toa...  Recipes1M   \n",
       "387    www.food.com/recipe/a-different-seven-layer-sa...  Recipes1M   \n",
       "...                                                  ...        ...   \n",
       "25508    www.cookbooks.com/Recipe-Details.aspx?id=215437   Gathered   \n",
       "25520  www.food.com/recipe/you-cant-beat-em-healthy-b...  Recipes1M   \n",
       "25579         www.food.com/recipe/yummy-taco-rice-225022  Recipes1M   \n",
       "25658  www.allrecipes.com/recipe/52598/zippy-zoo-mari...   Gathered   \n",
       "25725    www.cookbooks.com/Recipe-Details.aspx?id=795201   Gathered   \n",
       "\n",
       "                                                     NER  \\\n",
       "10     [\"all-purpose\", \"baking powder\", \"salt\", \"milk...   \n",
       "51     [\"white sugar\", \"graham cracker crumbs\", \"baki...   \n",
       "68     [\"bread crumbs\", \"milk\", \"ground beef\", \"salad...   \n",
       "87     [\"eggs\", \"sugar\", \"vanilla\", \"cinnamon\", \"nutm...   \n",
       "387    [\"sour cream\", \"buttermilk\", \"feta cheese\", \"s...   \n",
       "...                                                  ...   \n",
       "25508  [\"flour\", \"margarine\", \"powdered sugar\", \"cold...   \n",
       "25520  [\"apple\", \"prunes\", \"dates\", \"bananas\", \"eggs\"...   \n",
       "25579  [\"white rice\", \"ground beef\", \"taco\", \"blend c...   \n",
       "25658  [\"soy sauce\", \"barbecue sauce\", \"vegetable oil...   \n",
       "25725  [\"zucchini\", \"onions\", \"salt\", \"cider vinegar\"...   \n",
       "\n",
       "                                                NER_list  NER_len  \\\n",
       "10     ['all-purpose' 'baking powder' 'salt' 'milk' '...        9   \n",
       "51     ['white sugar' 'graham cracker crumbs' 'baking...        7   \n",
       "68     ['bread crumbs' 'milk' 'ground beef' 'salad oi...       11   \n",
       "87     ['eggs' 'sugar' 'vanilla' 'cinnamon' 'nutmeg' ...        6   \n",
       "387    ['sour cream' 'buttermilk' 'feta cheese' 'suga...       13   \n",
       "...                                                  ...      ...   \n",
       "25508  ['flour' 'margarine' 'powdered sugar' 'cold wa...        5   \n",
       "25520  ['apple' 'prunes' 'dates' 'bananas' 'eggs' 'bu...       17   \n",
       "25579  ['white rice' 'ground beef' 'taco' 'blend chee...        6   \n",
       "25658  ['soy sauce' 'barbecue sauce' 'vegetable oil' ...       12   \n",
       "25725  ['zucchini' 'onions' 'salt' 'cider vinegar' 's...       12   \n",
       "\n",
       "       directions_len                                       title_lower  ...  \\\n",
       "10                598                         \" pancake mini muffins. \"  ...   \n",
       "51                308                               \"food for the gods\"  ...   \n",
       "68                272                               \"he-man\" hamburgers  ...   \n",
       "87                291                \"lost bread\" (french toast) recipe  ...   \n",
       "387               369                     a different seven layer salad  ...   \n",
       "...               ...                                               ...  ...   \n",
       "25508             461                                        yogurt cup  ...   \n",
       "25520             426        you can't beat 'em healthy blender muffins  ...   \n",
       "25579             364                                   yummy taco rice  ...   \n",
       "25658             252                                zippy-zoo marinade  ...   \n",
       "25725             223  zucchini relish(given to me by a camper friend.)  ...   \n",
       "\n",
       "                                                   pairs  \\\n",
       "10     ['stir milk' 'whisk eggs' 'whisk vanilla' 'com...   \n",
       "51              ['whip cream' 'whip cream' 'whip cream']   \n",
       "68     ['combine bread' 'crumb milk' 'crumb beef' 'he...   \n",
       "87                       ['remain bread' 'powder sugar']   \n",
       "387    ['dress ingredients' 'chill salad' 'pour dress...   \n",
       "...                                                  ...   \n",
       "25508                      ['powder sugar' 'stir dough']   \n",
       "25520  ['blend apple' 'blend prunes' 'puree bananas' ...   \n",
       "25579  ['cook rice' 'skillet brown' 'skillet ground' ...   \n",
       "25658                                                 []   \n",
       "25725  ['add salt' 'add ingredients' 'remain ingredie...   \n",
       "\n",
       "                                               pairs_set  \\\n",
       "10     ['use blueberries' 'whisk eggs' 'serve syrup' ...   \n",
       "51                                        ['whip cream']   \n",
       "68     ['remain ingredients' 'crumb milk' 'combine in...   \n",
       "87                       ['remain bread' 'powder sugar']   \n",
       "387    ['pour dressing' 'chill salad' 'dress bacon' '...   \n",
       "...                                                  ...   \n",
       "25508                      ['powder sugar' 'stir dough']   \n",
       "25520  ['insert center' 'puree bananas' 'remain ingre...   \n",
       "25579  ['serve chips' 'add taco' 'melt tortilla' 'ski...   \n",
       "25658                                                 []   \n",
       "25725  ['remain ingredients' 'add salt' 'add ingredie...   \n",
       "\n",
       "                                      dish_type_response numbers len_numbers  \\\n",
       "10     RATIONALE: Pancakes, Mini, Muffins, All-purpos...    [-1]           1   \n",
       "51     RATIONALE: Dates and walnuts are common ingred...    [-1]           1   \n",
       "68     RATIONALE: Ground beef patties, not a bake or ...    [-1]           1   \n",
       "87     RATIONALE: French toast is a Breakfast Bake, s...    [-1]           1   \n",
       "387    RATIONALE: Seven layer salad, pasta, tortellin...    [-1]           1   \n",
       "...                                                  ...     ...         ...   \n",
       "25508  RATIONALE: Yogurt is a drink or fruit treat, b...    [-1]           1   \n",
       "25520  RATIONALE: Healthy, Blender, Muffins, Fruits (...    [-1]           1   \n",
       "25579  RATIONALE: Rice, ground beef, taco, cheese, sa...    [-1]           1   \n",
       "25658  RATIONALE: savory marinade, soy sauce, barbecu...    [-1]           1   \n",
       "25725  RATIONALE: pickled vegetable relish, zucchini,...    [-1]           1   \n",
       "\n",
       "      numbers_dedup num_ded_len number_after_equals len_nae naed  \n",
       "10             [-1]           1                [-1]       1   -1  \n",
       "51             [-1]           1                [-1]       1   -1  \n",
       "68             [-1]           1                [-1]       1   -1  \n",
       "87             [-1]           1                [-1]       1   -1  \n",
       "387            [-1]           1                [-1]       1   -1  \n",
       "...             ...         ...                 ...     ...  ...  \n",
       "25508          [-1]           1                [-1]       1   -1  \n",
       "25520          [-1]           1                [-1]       1   -1  \n",
       "25579          [-1]           1                [-1]       1   -1  \n",
       "25658          [-1]           1                [-1]       1   -1  \n",
       "25725          [-1]           1                [-1]       1   -1  \n",
       "\n",
       "[642 rows x 28 columns]"
      ]
     },
     "execution_count": 67,
     "metadata": {},
     "output_type": "execute_result"
    }
   ],
   "source": [
    "missing_categories"
   ]
  },
  {
   "cell_type": "code",
   "execution_count": 68,
   "metadata": {
    "colab": {
     "base_uri": "https://localhost:8080/",
     "height": 366
    },
    "id": "TyrqK-me8vgb",
    "outputId": "b4b91abc-a97d-440f-80f5-4853957ad417"
   },
   "outputs": [
    {
     "data": {
      "text/plain": [
       "naed\n",
       "2    5253\n",
       "5    4177\n",
       "4    4075\n",
       "7    3827\n",
       "1    3747\n",
       "3    1845\n",
       "6    1818\n",
       "0     356\n",
       "Name: count, dtype: int64"
      ]
     },
     "execution_count": 68,
     "metadata": {},
     "output_type": "execute_result"
    }
   ],
   "source": [
    "df=df[df['naed']!=-1]\n",
    "df['naed'].value_counts()"
   ]
  },
  {
   "cell_type": "code",
   "execution_count": 69,
   "metadata": {
    "colab": {
     "base_uri": "https://localhost:8080/"
    },
    "id": "tKxNbOZR9GUl",
    "outputId": "78610e9e-c962-4c13-a443-6d180052b5ee"
   },
   "outputs": [
    {
     "data": {
      "text/plain": [
       "(25098, 28)"
      ]
     },
     "execution_count": 69,
     "metadata": {},
     "output_type": "execute_result"
    }
   ],
   "source": [
    "df.shape"
   ]
  },
  {
   "cell_type": "code",
   "execution_count": 70,
   "metadata": {
    "id": "Suz33nQH_EAY"
   },
   "outputs": [],
   "source": [
    "llm_clusters=df['naed']"
   ]
  },
  {
   "cell_type": "markdown",
   "metadata": {
    "id": "uiRQ4nq5y54f"
   },
   "source": [
    "---"
   ]
  },
  {
   "cell_type": "markdown",
   "metadata": {
    "id": "w7AKUCBx9UN1",
    "jp-MarkdownHeadingCollapsed": true
   },
   "source": [
    "# Comparison"
   ]
  },
  {
   "cell_type": "code",
   "execution_count": 71,
   "metadata": {
    "id": "hfX9LCRWx8CU"
   },
   "outputs": [],
   "source": [
    "df_bert=pd.read_csv('../datasets/hierarchical_clusters.csv')"
   ]
  },
  {
   "cell_type": "code",
   "execution_count": 72,
   "metadata": {
    "colab": {
     "base_uri": "https://localhost:8080/"
    },
    "id": "7b06L9pSjFDy",
    "outputId": "c2b4b860-fdd9-4015-e847-91b9bb6d6575"
   },
   "outputs": [
    {
     "data": {
      "text/plain": [
       "(25758, 25)"
      ]
     },
     "execution_count": 72,
     "metadata": {},
     "output_type": "execute_result"
    }
   ],
   "source": [
    "df_bert.shape"
   ]
  },
  {
   "cell_type": "code",
   "execution_count": 73,
   "metadata": {
    "id": "KwzbsflD9ymc"
   },
   "outputs": [],
   "source": [
    "# Extract indexes\n",
    "strange_rec_indexes = strange_rec.index\n",
    "missing_categories_indexes = missing_categories.index\n",
    "\n",
    "# Combine the indexes\n",
    "combined_indexes = strange_rec_indexes.append(missing_categories_indexes)"
   ]
  },
  {
   "cell_type": "code",
   "execution_count": 74,
   "metadata": {
    "id": "tdKe6ICM94h7"
   },
   "outputs": [],
   "source": [
    "# Step 3: Remove the records with these indexes from your third DataFrame (df_to_clean)\n",
    "valid_indexes = df_bert.index.intersection(combined_indexes)\n",
    "df_bert = df_bert.drop(valid_indexes)"
   ]
  },
  {
   "cell_type": "code",
   "execution_count": 75,
   "metadata": {
    "colab": {
     "base_uri": "https://localhost:8080/"
    },
    "id": "hnUIv0mhyDS0",
    "outputId": "9d26be07-fc52-4419-c2bc-140396fe2ee1"
   },
   "outputs": [
    {
     "data": {
      "text/plain": [
       "(25098, 25)"
      ]
     },
     "execution_count": 75,
     "metadata": {},
     "output_type": "execute_result"
    }
   ],
   "source": [
    "df_bert.shape"
   ]
  },
  {
   "cell_type": "code",
   "execution_count": 76,
   "metadata": {
    "colab": {
     "base_uri": "https://localhost:8080/"
    },
    "id": "8Pl4qr_2pfkx",
    "outputId": "52473fb8-6138-42b6-8703-9a118975bcf6"
   },
   "outputs": [
    {
     "data": {
      "text/plain": [
       "Index(['title', 'ingredients', 'directions', 'link', 'source', 'NER',\n",
       "       'NER_list', 'NER_len', 'directions_len', 'title_lower', 'NER_clean',\n",
       "       'ingredients_str', 'cluster', 'verbs', 'lemmed_verbs', 'filtered_verbs',\n",
       "       'set_verbs', 'clean_direction', 'pairs', 'pairs_set',\n",
       "       'dish_type_response', 'cluster_hier', 'umap_x', 'umap_y',\n",
       "       'text_snippet'],\n",
       "      dtype='object')"
      ]
     },
     "execution_count": 76,
     "metadata": {},
     "output_type": "execute_result"
    }
   ],
   "source": [
    "df_bert.columns"
   ]
  },
  {
   "cell_type": "code",
   "execution_count": 77,
   "metadata": {
    "id": "Kn4zuwcB-6wt"
   },
   "outputs": [],
   "source": [
    "merged_df = df_bert.join(llm_clusters, how='inner')"
   ]
  },
  {
   "cell_type": "markdown",
   "metadata": {
    "id": "oh_mOHf3n7Pd",
    "jp-MarkdownHeadingCollapsed": true
   },
   "source": [
    "# Labels"
   ]
  },
  {
   "cell_type": "code",
   "execution_count": 82,
   "metadata": {
    "colab": {
     "base_uri": "https://localhost:8080/",
     "height": 807
    },
    "id": "pSuB2vVVARo9",
    "outputId": "0693305e-3d0c-4073-9cd9-594c0d6fdaa1"
   },
   "outputs": [],
   "source": [
    "label_map = {\n",
    "    5: 'Breakfast Bakes, Breads & Pancakes',\n",
    "    6: 'Desserts, Cookies & Cakes',\n",
    "    7: 'Drinks, Punches & Fruit Treats',\n",
    "    1: 'Salads, Slaws, Dips & Dressings',\n",
    "    4: 'Pasta & Vegetable Casseroles/Bakes',\n",
    "    3: 'Soups, Stews & One-Pots',\n",
    "    2: 'Meat & Fish Mains'\n",
    "}\n",
    "\n",
    "# Mapping\n",
    "merged_df['hier_label'] = merged_df['cluster_hier'].map(label_map)"
   ]
  },
  {
   "cell_type": "markdown",
   "metadata": {
    "id": "nK32cEFq_i1K"
   },
   "source": [
    "## New Labels"
   ]
  },
  {
   "cell_type": "code",
   "execution_count": 83,
   "metadata": {
    "id": "KIBpqR2b-1UY"
   },
   "outputs": [],
   "source": [
    "label_map1 = {\n",
    "    1: 'Breakfast Bakes, Breads & Pancakes',\n",
    "    2: 'Desserts, Cookies & Cakes',\n",
    "    3: 'Drinks, Punches & Fruit Treats',\n",
    "    4: 'Salads, Slaws, Dips & Dressings',\n",
    "    5: 'Pasta & Vegetable Casseroles/Bakes',\n",
    "    6: 'Soups, Stews & One-Pots',\n",
    "    7: 'Meat & Fish Mains'\n",
    "}\n",
    "merged_df['naed_label'] = merged_df['naed'].map(label_map1)"
   ]
  },
  {
   "cell_type": "code",
   "execution_count": 84,
   "metadata": {
    "id": "7J2XnAti_k3G"
   },
   "outputs": [],
   "source": [
    "mapping_2={5:1,\n",
    "           7:2,\n",
    "           6:3,\n",
    "           1:4,\n",
    "           3:6,\n",
    "           4:7,\n",
    "           2:5}\n",
    "\n",
    "merged_df['new_clust_hier']=merged_df['cluster_hier'].map(mapping_2)"
   ]
  },
  {
   "cell_type": "code",
   "execution_count": 86,
   "metadata": {
    "id": "awHZ3p1Q-6GR"
   },
   "outputs": [],
   "source": [
    "merged_df['hier_label'] = merged_df['new_clust_hier'].map(label_map1)"
   ]
  },
  {
   "cell_type": "code",
   "execution_count": 87,
   "metadata": {
    "colab": {
     "base_uri": "https://localhost:8080/"
    },
    "id": "nOSQRvLJoPvA",
    "outputId": "d1bb8d29-1817-4b89-ab1c-21472b40515d"
   },
   "outputs": [
    {
     "data": {
      "text/plain": [
       "Index(['title', 'ingredients', 'directions', 'link', 'source', 'NER',\n",
       "       'NER_list', 'NER_len', 'directions_len', 'title_lower', 'NER_clean',\n",
       "       'ingredients_str', 'cluster', 'verbs', 'lemmed_verbs', 'filtered_verbs',\n",
       "       'set_verbs', 'clean_direction', 'pairs', 'pairs_set',\n",
       "       'dish_type_response', 'cluster_hier', 'umap_x', 'umap_y',\n",
       "       'text_snippet', 'naed', 'hier_label', 'naed_label', 'new_clust_hier'],\n",
       "      dtype='object')"
      ]
     },
     "execution_count": 87,
     "metadata": {},
     "output_type": "execute_result"
    }
   ],
   "source": [
    "merged_df.columns"
   ]
  },
  {
   "cell_type": "code",
   "execution_count": 91,
   "metadata": {
    "id": "KgupjAd1ChJY"
   },
   "outputs": [],
   "source": [
    "merged_df=merged_df[['title','NER_list','filtered_verbs','umap_x','umap_y','dish_type_response','naed','naed_label','new_clust_hier','hier_label']].copy()"
   ]
  },
  {
   "cell_type": "code",
   "execution_count": 92,
   "metadata": {
    "colab": {
     "base_uri": "https://localhost:8080/"
    },
    "id": "JSUsffU1DKiw",
    "outputId": "8d3864ab-2695-4780-c68f-647552a57fda"
   },
   "outputs": [],
   "source": [
    "merged_df.rename(columns={'new_clust_hier':'hier'},inplace=True)"
   ]
  },
  {
   "cell_type": "code",
   "execution_count": 93,
   "metadata": {
    "id": "dDUk_YypmK4G"
   },
   "outputs": [],
   "source": [
    "merged_df.to_csv('../datasets/llm_bert_clusters.csv')"
   ]
  },
  {
   "cell_type": "markdown",
   "metadata": {},
   "source": [
    "# Analysis"
   ]
  },
  {
   "cell_type": "code",
   "execution_count": 100,
   "metadata": {},
   "outputs": [],
   "source": [
    "merged_df=merged_df[merged_df['naed']!=0].copy()"
   ]
  },
  {
   "cell_type": "markdown",
   "metadata": {},
   "source": [
    "Confusion matrix between LLM and BERT"
   ]
  },
  {
   "cell_type": "code",
   "execution_count": 101,
   "metadata": {
    "colab": {
     "base_uri": "https://localhost:8080/"
    },
    "id": "-yKHB6rMQBTl",
    "outputId": "b8a4b171-0a7a-4033-ce2b-34479fce65ba"
   },
   "outputs": [
    {
     "name": "stdout",
     "output_type": "stream",
     "text": [
      "BERT     1     2     3     4     5     6     7\n",
      "LLM                                           \n",
      "1     2204   300    70    93   864    93   123\n",
      "2     2047  2591   515    22    51    20     7\n",
      "3       26   479  1175    99    38    17    11\n",
      "4       51   124   232  1962   995   468   243\n",
      "5      135    72    30   243  2489   774   434\n",
      "6       11    20    37   207   231  1130   182\n",
      "7       18    24    33   157   525   735  2335\n"
     ]
    }
   ],
   "source": [
    "confusion_df = pd.crosstab(merged_df['naed'], merged_df['hier'], rownames=['LLM'], colnames=['BERT'])\n",
    "print(confusion_df)"
   ]
  },
  {
   "cell_type": "code",
   "execution_count": 114,
   "metadata": {
    "colab": {
     "base_uri": "https://localhost:8080/",
     "height": 607
    },
    "id": "P-dLRlyvaiHm",
    "outputId": "edf6fc36-70ec-4624-cabc-f8e6239e450e"
   },
   "outputs": [
    {
     "data": {
      "image/png": "[encoded data removed]",
      "text/plain": [
       "<Figure size 800x600 with 2 Axes>"
      ]
     },
     "metadata": {},
     "output_type": "display_data"
    }
   ],
   "source": [
    "plt.figure(figsize=(8, 6))\n",
    "sns.heatmap(confusion_df, annot=True, fmt='d', cmap='YlGnBu', linewidths=0.5, linecolor='gray')\n",
    "# plt.title('Confusion Matrix: NAED (Mapped) vs. Hierarchical Clusters', fontsize=14)\n",
    "plt.xlabel('BERT label', fontsize=12)\n",
    "plt.ylabel('LLM label', fontsize=12)\n",
    "plt.tight_layout()\n",
    "plt.savefig('../images/conf_matrix_LLM_BERT.png')\n",
    "plt.show()\n"
   ]
  },
  {
   "cell_type": "markdown",
   "metadata": {
    "id": "VZUqQ9BrvRfg"
   },
   "source": [
    "## Metrics Analysis"
   ]
  },
  {
   "cell_type": "code",
   "execution_count": 113,
   "metadata": {},
   "outputs": [
    {
     "name": "stdout",
     "output_type": "stream",
     "text": [
      "                                    precision    recall  f1-score   support\n",
      "\n",
      "Breakfast Bakes, Breads & Pancakes       0.49      0.59      0.54      3747\n",
      "         Desserts, Cookies & Cakes       0.72      0.49      0.58      5253\n",
      "    Drinks, Punches & Fruit Treats       0.56      0.64      0.60      1845\n",
      "                 Meat & Fish Mains       0.70      0.61      0.65      3827\n",
      "Pasta & Vegetable Casseroles/Bakes       0.48      0.60      0.53      4177\n",
      "   Salads, Slaws, Dips & Dressings       0.70      0.48      0.57      4075\n",
      "           Soups, Stews & One-Pots       0.35      0.62      0.45      1818\n",
      "\n",
      "                          accuracy                           0.56     24742\n",
      "                         macro avg       0.57      0.58      0.56     24742\n",
      "                      weighted avg       0.60      0.56      0.57     24742\n",
      "\n",
      "Accuracy: 0.56\n",
      "Precision: 0.57\n",
      "Recall: 0.58\n"
     ]
    }
   ],
   "source": [
    "y_true = df['naed_label']\n",
    "y_pred = df['hier_label']\n",
    "\n",
    "report = classification_report(y_true, y_pred)\n",
    "print(report)\n",
    "\n",
    "accuracy = accuracy_score(y_true, y_pred)\n",
    "precision = precision_score(y_true, y_pred, average='macro')\n",
    "recall = recall_score(y_true, y_pred, average='macro')\n",
    "\n",
    "print(f'Accuracy: {accuracy:.2f}')\n",
    "print(f'Precision: {precision:.2f}')\n",
    "print(f'Recall: {recall:.2f}')"
   ]
  }
 ],
 "metadata": {
  "colab": {
   "collapsed_sections": [
    "nJQ2uhsIyzQz"
   ],
   "provenance": []
  },
  "kernelspec": {
   "display_name": "Python 3 (ipykernel)",
   "language": "python",
   "name": "python3"
  },
  "language_info": {
   "codemirror_mode": {
    "name": "ipython",
    "version": 3
   },
   "file_extension": ".py",
   "mimetype": "text/x-python",
   "name": "python",
   "nbconvert_exporter": "python",
   "pygments_lexer": "ipython3",
   "version": "3.12.7"
  }
 },
 "nbformat": 4,
 "nbformat_minor": 4
}
